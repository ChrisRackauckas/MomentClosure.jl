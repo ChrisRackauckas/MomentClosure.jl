{
 "cells": [
  {
   "cell_type": "code",
   "execution_count": 1,
   "metadata": {},
   "outputs": [
    {
     "name": "stderr",
     "output_type": "stream",
     "text": [
      "┌ Info: Precompiling MomentClosure [01a1b25a-ecf0-48c5-ae58-55bfd5393600]\n",
      "└ @ Base loading.jl:1423\n"
     ]
    }
   ],
   "source": [
    "using MomentClosure, Latexify, OrdinaryDiffEq, Catalyst"
   ]
  },
  {
   "cell_type": "markdown",
   "metadata": {},
   "source": [
    "$$ G \\stackrel{c_1}{\\rightarrow} G+P, \\\\\n",
    "   G^* \\stackrel{c_2}{\\rightarrow} G^*+P, \\\\\n",
    "   P \\stackrel{c_3}{\\rightarrow} 0 \\\\\n",
    "   G+P \\underset{c_5}{\\stackrel{c_4}{\\rightleftharpoons}}  G^* $$\n",
    "   \n",
    "On/off gene states are merged into a Bernoulli variable $g(t)$ which can be either $1$ ($G$) or $0$ ($G^*$). The number of proteins in the system is given by $p(t)$. "
   ]
  },
  {
   "cell_type": "markdown",
   "metadata": {},
   "source": [
    "### Using `ReactionSystemMod`"
   ]
  },
  {
   "cell_type": "code",
   "execution_count": 2,
   "metadata": {},
   "outputs": [
    {
     "data": {
      "text/plain": [
       "ReactionSystemMod(t, Term{Real, Base.ImmutableDict{DataType, Any}}[g(t), p(t)], Sym{Real, Base.ImmutableDict{DataType, Any}}[c₁, c₂, c₃, c₄, c₅], SymbolicUtils.Mul{Real, Int64, Dict{Any, Number}, Nothing}[c₁*g(t), c₂*(1 - g(t)), c₃*p(t), c₄*g(t)*p(t), c₅*(1 - g(t))], [0 0 … -1 1; 1 1 … -1 1], Symbol(\"##ReactionSystemMod#291\"))"
      ]
     },
     "execution_count": 2,
     "metadata": {},
     "output_type": "execute_result"
    }
   ],
   "source": [
    "@parameters t, c₁, c₂, c₃, c₄, c₅\n",
    "@variables p(t), g(t)\n",
    "\n",
    "vars = [g, p]\n",
    "\n",
    "ps = [c₁, c₂, c₃, c₄, c₅]\n",
    "\n",
    "S = [0 0  0 -1 1; \n",
    "     1 1 -1 -1 1]\n",
    "\n",
    "as = [c₁*g,     # G -> G + P\n",
    "      c₂*(1-g), # G* -> G* + P\n",
    "      c₃*p,     # P -> 0\n",
    "      c₄*g*p,   # G+P -> G*\n",
    "      c₅*(1-g)] # G* -> G+P\n",
    "# system size Ω can be included as an additional parameter if needed\n",
    "\n",
    "binary_vars = [1]\n",
    "\n",
    "rn = ReactionSystemMod(t, vars, ps, as, S)"
   ]
  },
  {
   "cell_type": "markdown",
   "metadata": {},
   "source": [
    "### Using Catalyst.jl `ReactionSystem`"
   ]
  },
  {
   "cell_type": "markdown",
   "metadata": {},
   "source": [
    "* $\\rightarrow$ indicates a reaction that follows the law of mass action (need to indicate only the reaction coefficient, full propensity function is constructed automatically)\n",
    "* $\\Rightarrow$ indicates a reaction that does not follow the law of mass action (need to define the full propensity function)"
   ]
  },
  {
   "cell_type": "code",
   "execution_count": 3,
   "metadata": {},
   "outputs": [
    {
     "data": {
      "text/plain": [
       "\u001b[0m\u001b[1mModel ##ReactionSystem#292 with 5 equations\u001b[22m\n",
       "\u001b[0m\u001b[1mStates (2):\u001b[22m\n",
       "  g(t)\n",
       "  p(t)\n",
       "\u001b[0m\u001b[1mParameters (5):\u001b[22m\n",
       "  c₁\n",
       "  c₂\n",
       "  c₃\n",
       "  c₄\n",
       "  c₅"
      ]
     },
     "execution_count": 3,
     "metadata": {},
     "output_type": "execute_result"
    }
   ],
   "source": [
    "rn = @reaction_network begin\n",
    "    (c₁), g → g+p\n",
    "    (c₂*(1-g)), 0 ⇒ p\n",
    "    (c₃), p → 0\n",
    "    (c₄), g+p → 0\n",
    "    (c₅*(1-g)), 0 ⇒ g+p\n",
    "end c₁ c₂ c₃ c₄ c₅"
   ]
  },
  {
   "cell_type": "markdown",
   "metadata": {},
   "source": [
    "identical stoichiometry matrix and propensity functions are recovered"
   ]
  },
  {
   "cell_type": "code",
   "execution_count": 4,
   "metadata": {},
   "outputs": [
    {
     "data": {
      "text/plain": [
       "5-element Vector{SymbolicUtils.Mul{Real, Int64, Dict{Any, Number}, Nothing}}:\n",
       " c₁*g(t)\n",
       " c₂*(1 - g(t))\n",
       " c₃*p(t)\n",
       " c₄*g(t)*p(t)\n",
       " c₅*(1 - g(t))"
      ]
     },
     "execution_count": 4,
     "metadata": {},
     "output_type": "execute_result"
    }
   ],
   "source": [
    "propensities(rn, combinatoric_ratelaw=false)"
   ]
  },
  {
   "cell_type": "code",
   "execution_count": 5,
   "metadata": {},
   "outputs": [
    {
     "data": {
      "text/plain": [
       "2×5 Matrix{Int64}:\n",
       " 0  0   0  -1  1\n",
       " 1  1  -1  -1  1"
      ]
     },
     "execution_count": 5,
     "metadata": {},
     "output_type": "execute_result"
    }
   ],
   "source": [
    "netstoichmat(rn)"
   ]
  },
  {
   "cell_type": "markdown",
   "metadata": {},
   "source": [
    "### Moment equations"
   ]
  },
  {
   "cell_type": "markdown",
   "metadata": {},
   "source": [
    "Generate raw moment equations up to 3rd order.\n",
    "\n",
    "The argument `combinatoric_ratelaw = false` indicates whether binomial coefficients are included when constructing the propensity functions for the reactions that follow the law of mass action (does not play a role in this specific scenarion)\n",
    "\n",
    "Equivalently, central moment equations can be generated using `generate_central_moment_eqs(rn, 3, 5, combinatoric_ratelaw=false)`"
   ]
  },
  {
   "cell_type": "code",
   "execution_count": 6,
   "metadata": {},
   "outputs": [
    {
     "data": {
      "text/latex": [
       "\\begin{align*}\n",
       "\\frac{d\\mu{_{10}}}{dt} =& c{_5} - c{_5} \\mu{_{10}} - c{_4} \\mu{_{11}} \\\\\n",
       "\\frac{d\\mu{_{01}}}{dt} =& c{_2} + c{_5} + c{_1} \\mu{_{10}} - c{_2} \\mu{_{10}} - c{_3} \\mu{_{01}} - c{_5} \\mu{_{10}} - c{_4} \\mu{_{11}} \\\\\n",
       "\\frac{d\\mu{_{20}}}{dt} =& c{_5} + c{_5} \\mu{_{10}} + c{_4} \\mu{_{11}} - 2 c{_5} \\mu{_{20}} - 2 c{_4} \\mu{_{21}} \\\\\n",
       "\\frac{d\\mu{_{11}}}{dt} =& c{_5} + c{_5} \\mu{_{01}} + c{_2} \\mu{_{10}} + c{_4} \\mu{_{11}} + c{_1} \\mu{_{20}} - c{_2} \\mu{_{20}} - c{_3} \\mu{_{11}} - c{_4} \\mu{_{12}} - c{_4} \\mu{_{21}} - c{_5} \\mu{_{11}} - c{_5} \\mu{_{20}} \\\\\n",
       "\\frac{d\\mu{_{02}}}{dt} =& c{_2} + c{_5} + c{_3} \\mu{_{01}} + c{_1} \\mu{_{10}} + c{_4} \\mu{_{11}} + 2 c{_1} \\mu{_{11}} + 2 c{_2} \\mu{_{01}} + 2 c{_5} \\mu{_{01}} - c{_2} \\mu{_{10}} - c{_5} \\mu{_{10}} - 2 c{_2} \\mu{_{11}} - 2 c{_3} \\mu{_{02}} - 2 c{_4} \\mu{_{12}} - 2 c{_5} \\mu{_{11}} \\\\\n",
       "\\frac{d\\mu{_{30}}}{dt} =& c{_5} + 2 c{_5} \\mu{_{10}} + 3 c{_4} \\mu{_{21}} - c{_4} \\mu{_{11}} - 3 c{_5} \\mu{_{30}} - 3 c{_4} \\mu{_{31}} \\\\\n",
       "\\frac{d\\mu{_{21}}}{dt} =& c{_5} + c{_5} \\mu{_{01}} + c{_5} \\mu{_{10}} + c{_2} \\mu{_{20}} + c{_1} \\mu{_{30}} + c{_4} \\mu{_{12}} + c{_5} \\mu{_{11}} + 2 c{_4} \\mu{_{21}} - c{_2} \\mu{_{30}} - c{_4} \\mu{_{11}} - c{_3} \\mu{_{21}} - c{_4} \\mu{_{31}} - 2 c{_4} \\mu{_{22}} - c{_5} \\mu{_{20}} - c{_5} \\mu{_{30}} - 2 c{_5} \\mu{_{21}} \\\\\n",
       "\\frac{d\\mu{_{12}}}{dt} =& c{_5} + c{_2} \\mu{_{10}} + c{_5} \\mu{_{02}} + c{_3} \\mu{_{11}} + c{_1} \\mu{_{20}} + c{_4} \\mu{_{21}} + 2 c{_1} \\mu{_{21}} + 2 c{_5} \\mu{_{01}} + 2 c{_2} \\mu{_{11}} + 2 c{_4} \\mu{_{12}} - c{_2} \\mu{_{20}} - 2 c{_2} \\mu{_{21}} - c{_4} \\mu{_{11}} - c{_4} \\mu{_{13}} - c{_5} \\mu{_{12}} - c{_5} \\mu{_{20}} - 2 c{_3} \\mu{_{12}} - 2 c{_4} \\mu{_{22}} - 2 c{_5} \\mu{_{21}} \\\\\n",
       "\\frac{d\\mu{_{03}}}{dt} =& c{_2} + c{_5} + c{_1} \\mu{_{10}} + 3 c{_1} \\mu{_{11}} + 3 c{_2} \\mu{_{01}} + 3 c{_5} \\mu{_{01}} + 3 c{_2} \\mu{_{02}} + 3 c{_3} \\mu{_{02}} + 3 c{_5} \\mu{_{02}} + 3 c{_1} \\mu{_{12}} + 3 c{_4} \\mu{_{12}} - c{_3} \\mu{_{01}} - c{_2} \\mu{_{10}} - c{_5} \\mu{_{10}} - c{_4} \\mu{_{11}} - 3 c{_2} \\mu{_{11}} - 3 c{_3} \\mu{_{03}} - 3 c{_5} \\mu{_{11}} - 3 c{_2} \\mu{_{12}} - 3 c{_4} \\mu{_{13}} - 3 c{_5} \\mu{_{12}}\n",
       "\\end{align*}\n"
      ],
      "text/plain": [
       "\"\\\\begin{align*}\\n\\\\frac{d\\\\mu{_{10}}}{dt} =& c{_5} - c{_5} \\\\mu{_{10}} - c{_4} \\\\mu{_{11}} \\\\\\\\\\n\\\\frac{d\\\\mu{_{01}}}{dt} =& c{_2} + c{_5} + c{_1} \\\\mu{_{10}} - c{_2} \\\\mu{_{10}} - c{_3} \\\\mu{_{01}} - c{_5} \\\\mu{_{10}} - c{_4} \\\\mu{_{11}} \\\\\\\\\\n\\\\frac{d\\\\mu{_{20}}}{dt} =& c{_5} + c{_5} \\\\mu{\" ⋯ 1610 bytes ⋯ \"} \\\\mu{_{02}} + 3 c{_1} \\\\mu{_{12}} + 3 c{_4} \\\\mu{_{12}} - c{_3} \\\\mu{_{01}} - c{_2} \\\\mu{_{10}} - c{_5} \\\\mu{_{10}} - c{_4} \\\\mu{_{11}} - 3 c{_2} \\\\mu{_{11}} - 3 c{_3} \\\\mu{_{03}} - 3 c{_5} \\\\mu{_{11}} - 3 c{_2} \\\\mu{_{12}} - 3 c{_4} \\\\mu{_{13}} - 3 c{_5} \\\\mu{_{12}}\\n\\\\end{align*}\\n\""
      ]
     },
     "execution_count": 6,
     "metadata": {},
     "output_type": "execute_result"
    }
   ],
   "source": [
    "raw_eqs = generate_raw_moment_eqs(rn, 3, combinatoric_ratelaw=false)\n",
    "latexify(raw_eqs)"
   ]
  },
  {
   "cell_type": "markdown",
   "metadata": {},
   "source": [
    "We are solving for moments up to `m_order = 3`, and in the equations encounter moments up to `exp_order = 5`. "
   ]
  },
  {
   "cell_type": "markdown",
   "metadata": {},
   "source": [
    "Use the Bernoulli variable properties to eliminate redundant equations to see how they simplify:"
   ]
  },
  {
   "cell_type": "code",
   "execution_count": 7,
   "metadata": {},
   "outputs": [
    {
     "data": {
      "text/latex": [
       "\\begin{align*}\n",
       "\\frac{d\\mu{_{10}}}{dt} =& c{_5} - c{_5} \\mu{_{10}} - c{_4} \\mu{_{11}} \\\\\n",
       "\\frac{d\\mu{_{01}}}{dt} =& c{_2} + c{_5} + c{_1} \\mu{_{10}} - c{_2} \\mu{_{10}} - c{_3} \\mu{_{01}} - c{_5} \\mu{_{10}} - c{_4} \\mu{_{11}} \\\\\n",
       "\\frac{d\\mu{_{11}}}{dt} =& c{_5} + c{_1} \\mu{_{10}} + c{_5} \\mu{_{01}} - c{_5} \\mu{_{10}} - c{_3} \\mu{_{11}} - c{_5} \\mu{_{11}} - c{_4} \\mu{_{12}} \\\\\n",
       "\\frac{d\\mu{_{02}}}{dt} =& c{_2} + c{_5} + c{_3} \\mu{_{01}} + c{_1} \\mu{_{10}} + c{_4} \\mu{_{11}} + 2 c{_1} \\mu{_{11}} + 2 c{_2} \\mu{_{01}} + 2 c{_5} \\mu{_{01}} - c{_2} \\mu{_{10}} - c{_5} \\mu{_{10}} - 2 c{_2} \\mu{_{11}} - 2 c{_3} \\mu{_{02}} - 2 c{_4} \\mu{_{12}} - 2 c{_5} \\mu{_{11}} \\\\\n",
       "\\frac{d\\mu{_{12}}}{dt} =& c{_5} + c{_1} \\mu{_{10}} + c{_5} \\mu{_{02}} + c{_3} \\mu{_{11}} + 2 c{_5} \\mu{_{01}} + 2 c{_1} \\mu{_{11}} - c{_5} \\mu{_{10}} - c{_4} \\mu{_{13}} - c{_5} \\mu{_{12}} - 2 c{_5} \\mu{_{11}} - 2 c{_3} \\mu{_{12}} \\\\\n",
       "\\frac{d\\mu{_{03}}}{dt} =& c{_2} + c{_5} + c{_1} \\mu{_{10}} + 3 c{_1} \\mu{_{11}} + 3 c{_2} \\mu{_{01}} + 3 c{_5} \\mu{_{01}} + 3 c{_2} \\mu{_{02}} + 3 c{_3} \\mu{_{02}} + 3 c{_5} \\mu{_{02}} + 3 c{_1} \\mu{_{12}} + 3 c{_4} \\mu{_{12}} - c{_3} \\mu{_{01}} - c{_2} \\mu{_{10}} - c{_5} \\mu{_{10}} - c{_4} \\mu{_{11}} - 3 c{_2} \\mu{_{11}} - 3 c{_3} \\mu{_{03}} - 3 c{_5} \\mu{_{11}} - 3 c{_2} \\mu{_{12}} - 3 c{_4} \\mu{_{13}} - 3 c{_5} \\mu{_{12}}\n",
       "\\end{align*}\n"
      ],
      "text/plain": [
       "\"\\\\begin{align*}\\n\\\\frac{d\\\\mu{_{10}}}{dt} =& c{_5} - c{_5} \\\\mu{_{10}} - c{_4} \\\\mu{_{11}} \\\\\\\\\\n\\\\frac{d\\\\mu{_{01}}}{dt} =& c{_2} + c{_5} + c{_1} \\\\mu{_{10}} - c{_2} \\\\mu{_{10}} - c{_3} \\\\mu{_{01}} - c{_5} \\\\mu{_{10}} - c{_4} \\\\mu{_{11}} \\\\\\\\\\n\\\\frac{d\\\\mu{_{11}}}{dt} =& c{_5} + c{_1} \\\\mu{_\" ⋯ 794 bytes ⋯ \"} \\\\mu{_{02}} + 3 c{_1} \\\\mu{_{12}} + 3 c{_4} \\\\mu{_{12}} - c{_3} \\\\mu{_{01}} - c{_2} \\\\mu{_{10}} - c{_5} \\\\mu{_{10}} - c{_4} \\\\mu{_{11}} - 3 c{_2} \\\\mu{_{11}} - 3 c{_3} \\\\mu{_{03}} - 3 c{_5} \\\\mu{_{11}} - 3 c{_2} \\\\mu{_{12}} - 3 c{_4} \\\\mu{_{13}} - 3 c{_5} \\\\mu{_{12}}\\n\\\\end{align*}\\n\""
      ]
     },
     "execution_count": 7,
     "metadata": {},
     "output_type": "execute_result"
    }
   ],
   "source": [
    "bernoulli_eqs = bernoulli_moment_eqs(raw_eqs, binary_vars)\n",
    "latexify(bernoulli_eqs)"
   ]
  },
  {
   "cell_type": "markdown",
   "metadata": {},
   "source": [
    "### Closing the moment equations\n",
    "\n",
    "Finally, we can apply the selected moment closure method on the system of raw moment equations:"
   ]
  },
  {
   "cell_type": "code",
   "execution_count": 8,
   "metadata": {},
   "outputs": [
    {
     "data": {
      "text/latex": [
       "\\begin{align*}\n",
       "\\frac{d\\mu{_{10}}}{dt} =& c{_5} - c{_5} \\mu{_{10}} - c{_4} \\mu{_{11}} \\\\\n",
       "\\frac{d\\mu{_{01}}}{dt} =& c{_2} + c{_5} + c{_1} \\mu{_{10}} - c{_2} \\mu{_{10}} - c{_3} \\mu{_{01}} - c{_5} \\mu{_{10}} - c{_4} \\mu{_{11}} \\\\\n",
       "\\frac{d\\mu{_{11}}}{dt} =& c{_5} + c{_1} \\mu{_{10}} + c{_5} \\mu{_{01}} - c{_5} \\mu{_{10}} - c{_3} \\mu{_{11}} - c{_4} \\mu{_{12}} - c{_5} \\mu{_{11}} \\\\\n",
       "\\frac{d\\mu{_{02}}}{dt} =& c{_2} + c{_5} + c{_3} \\mu{_{01}} + c{_1} \\mu{_{10}} + c{_4} \\mu{_{11}} + 2 c{_1} \\mu{_{11}} + 2 c{_2} \\mu{_{01}} + 2 c{_5} \\mu{_{01}} - c{_2} \\mu{_{10}} - c{_5} \\mu{_{10}} - 2 c{_2} \\mu{_{11}} - 2 c{_3} \\mu{_{02}} - 2 c{_4} \\mu{_{12}} - 2 c{_5} \\mu{_{11}} \\\\\n",
       "\\frac{d\\mu{_{12}}}{dt} =& c{_5} + c{_1} \\mu{_{10}} + c{_5} \\mu{_{02}} + c{_3} \\mu{_{11}} + 2 c{_5} \\mu{_{01}} + 2 c{_1} \\mu{_{11}} - c{_5} \\mu{_{10}} - c{_5} \\mu{_{12}} - 2 c{_5} \\mu{_{11}} - 2 c{_3} \\mu{_{12}} - c{_4} \\mu{_{11}}^{-3} \\mu{_{12}}^{3} \\mu{_{10}} \\\\\n",
       "\\frac{d\\mu{_{03}}}{dt} =& c{_2} + c{_5} + c{_1} \\mu{_{10}} + 3 c{_1} \\mu{_{11}} + 3 c{_2} \\mu{_{01}} + 3 c{_5} \\mu{_{01}} + 3 c{_2} \\mu{_{02}} + 3 c{_3} \\mu{_{02}} + 3 c{_5} \\mu{_{02}} + 3 c{_1} \\mu{_{12}} + 3 c{_4} \\mu{_{12}} - c{_3} \\mu{_{01}} - c{_2} \\mu{_{10}} - c{_5} \\mu{_{10}} - c{_4} \\mu{_{11}} - 3 c{_2} \\mu{_{11}} - 3 c{_3} \\mu{_{03}} - 3 c{_2} \\mu{_{12}} - 3 c{_5} \\mu{_{11}} - 3 c{_5} \\mu{_{12}} - 3 c{_4} \\mu{_{11}}^{-3} \\mu{_{12}}^{3} \\mu{_{10}}\n",
       "\\end{align*}\n"
      ],
      "text/plain": [
       "\"\\\\begin{align*}\\n\\\\frac{d\\\\mu{_{10}}}{dt} =& c{_5} - c{_5} \\\\mu{_{10}} - c{_4} \\\\mu{_{11}} \\\\\\\\\\n\\\\frac{d\\\\mu{_{01}}}{dt} =& c{_2} + c{_5} + c{_1} \\\\mu{_{10}} - c{_2} \\\\mu{_{10}} - c{_3} \\\\mu{_{01}} - c{_5} \\\\mu{_{10}} - c{_4} \\\\mu{_{11}} \\\\\\\\\\n\\\\frac{d\\\\mu{_{11}}}{dt} =& c{_5} + c{_1} \\\\mu{_\" ⋯ 856 bytes ⋯ \"}} + 3 c{_4} \\\\mu{_{12}} - c{_3} \\\\mu{_{01}} - c{_2} \\\\mu{_{10}} - c{_5} \\\\mu{_{10}} - c{_4} \\\\mu{_{11}} - 3 c{_2} \\\\mu{_{11}} - 3 c{_3} \\\\mu{_{03}} - 3 c{_2} \\\\mu{_{12}} - 3 c{_5} \\\\mu{_{11}} - 3 c{_5} \\\\mu{_{12}} - 3 c{_4} \\\\mu{_{11}}^{-3} \\\\mu{_{12}}^{3} \\\\mu{_{10}}\\n\\\\end{align*}\\n\""
      ]
     },
     "execution_count": 8,
     "metadata": {},
     "output_type": "execute_result"
    }
   ],
   "source": [
    "closed_raw_eqs = moment_closure(raw_eqs, \"conditional derivative matching\", binary_vars)\n",
    "latexify(closed_raw_eqs)"
   ]
  },
  {
   "cell_type": "markdown",
   "metadata": {},
   "source": [
    "We can also print out the closure functions for each higher order moment:"
   ]
  },
  {
   "cell_type": "code",
   "execution_count": 9,
   "metadata": {},
   "outputs": [
    {
     "data": {
      "text/latex": [
       "\\begin{align*}\n",
       "\\mu{_{13}} =& \\mu{_{11}}^{-3} \\mu{_{12}}^{3} \\mu{_{10}}\n",
       "\\end{align*}\n"
      ],
      "text/plain": [
       "L\"\\begin{align*}\n",
       "\\mu{_{13}} =& \\mu{_{11}}^{-3} \\mu{_{12}}^{3} \\mu{_{10}}\n",
       "\\end{align*}\n",
       "\""
      ]
     },
     "execution_count": 9,
     "metadata": {},
     "output_type": "execute_result"
    }
   ],
   "source": [
    "latexify(closed_raw_eqs, :closure)"
   ]
  },
  {
   "cell_type": "markdown",
   "metadata": {},
   "source": [
    "### Numerical solution\n",
    "\n",
    "The closed moment equations can be solved using DifferentialEquations.jl (or just OrdinaryDiffEq.jl which is more lightweight and sufficient for this particular case. "
   ]
  },
  {
   "cell_type": "code",
   "execution_count": 10,
   "metadata": {},
   "outputs": [
    {
     "name": "stdout",
     "output_type": "stream",
     "text": [
      " 21.180339 seconds (26.69 M allocations: 1.584 GiB, 3.23% gc time, 99.50% compilation time)\n",
      "  4.078267 seconds (4.72 M allocations: 259.589 MiB, 5.60% gc time, 99.71% compilation time)\n"
     ]
    }
   ],
   "source": [
    "# PARAMETER INITIALISATION\n",
    "pmap = [c₁ => 0.01,\n",
    "        c₂ => 40,\n",
    "        c₃ => 1,\n",
    "        c₄ => 1,\n",
    "        c₅ => 1]\n",
    "\n",
    "# DETERMINISTIC INITIAL CONDITIONS\n",
    "μ₀ = [1., 0.001]\n",
    "u₀map = deterministic_IC(μ₀, closed_raw_eqs)\n",
    "\n",
    "# time interval to solve on\n",
    "tspan = (0., 1000.0)\n",
    "dt = 1\n",
    "\n",
    "@time oprob = ODEProblem(closed_raw_eqs, u₀map, tspan, pmap);\n",
    "@time sol_CDM = solve(oprob, Tsit5(), saveat=dt);"
   ]
  },
  {
   "cell_type": "code",
   "execution_count": 11,
   "metadata": {},
   "outputs": [
    {
     "data": {
      "image/svg+xml": [
       "<?xml version=\"1.0\" encoding=\"utf-8\"?>\n",
       "<svg xmlns=\"http://www.w3.org/2000/svg\" xmlns:xlink=\"http://www.w3.org/1999/xlink\" width=\"600\" height=\"400\" viewBox=\"0 0 2400 1600\">\n",
       "<defs>\n",
       "  <clipPath id=\"clip950\">\n",
       "    <rect x=\"0\" y=\"0\" width=\"2400\" height=\"1600\"/>\n",
       "  </clipPath>\n",
       "</defs>\n",
       "<path clip-path=\"url(#clip950)\" d=\"\n",
       "M0 1600 L2400 1600 L2400 0 L0 0  Z\n",
       "  \" fill=\"#ffffff\" fill-rule=\"evenodd\" fill-opacity=\"1\"/>\n",
       "<defs>\n",
       "  <clipPath id=\"clip951\">\n",
       "    <rect x=\"480\" y=\"0\" width=\"1681\" height=\"1600\"/>\n",
       "  </clipPath>\n",
       "</defs>\n",
       "<path clip-path=\"url(#clip950)\" d=\"\n",
       "M274.363 1414.54 L2352.76 1414.54 L2352.76 47.2441 L274.363 47.2441  Z\n",
       "  \" fill=\"#ffffff\" fill-rule=\"evenodd\" fill-opacity=\"1\"/>\n",
       "<defs>\n",
       "  <clipPath id=\"clip952\">\n",
       "    <rect x=\"274\" y=\"47\" width=\"2079\" height=\"1368\"/>\n",
       "  </clipPath>\n",
       "</defs>\n",
       "<polyline clip-path=\"url(#clip952)\" style=\"stroke:#000000; stroke-linecap:butt; stroke-linejoin:round; stroke-width:2; stroke-opacity:0.1; fill:none\" points=\"\n",
       "  333.185,1414.54 333.185,47.2441 \n",
       "  \"/>\n",
       "<polyline clip-path=\"url(#clip952)\" style=\"stroke:#000000; stroke-linecap:butt; stroke-linejoin:round; stroke-width:2; stroke-opacity:0.1; fill:none\" points=\"\n",
       "  823.372,1414.54 823.372,47.2441 \n",
       "  \"/>\n",
       "<polyline clip-path=\"url(#clip952)\" style=\"stroke:#000000; stroke-linecap:butt; stroke-linejoin:round; stroke-width:2; stroke-opacity:0.1; fill:none\" points=\"\n",
       "  1313.56,1414.54 1313.56,47.2441 \n",
       "  \"/>\n",
       "<polyline clip-path=\"url(#clip952)\" style=\"stroke:#000000; stroke-linecap:butt; stroke-linejoin:round; stroke-width:2; stroke-opacity:0.1; fill:none\" points=\"\n",
       "  1803.75,1414.54 1803.75,47.2441 \n",
       "  \"/>\n",
       "<polyline clip-path=\"url(#clip952)\" style=\"stroke:#000000; stroke-linecap:butt; stroke-linejoin:round; stroke-width:2; stroke-opacity:0.1; fill:none\" points=\"\n",
       "  2293.93,1414.54 2293.93,47.2441 \n",
       "  \"/>\n",
       "<polyline clip-path=\"url(#clip950)\" style=\"stroke:#000000; stroke-linecap:butt; stroke-linejoin:round; stroke-width:4; stroke-opacity:1; fill:none\" points=\"\n",
       "  274.363,1414.54 2352.76,1414.54 \n",
       "  \"/>\n",
       "<polyline clip-path=\"url(#clip950)\" style=\"stroke:#000000; stroke-linecap:butt; stroke-linejoin:round; stroke-width:4; stroke-opacity:1; fill:none\" points=\"\n",
       "  333.185,1414.54 333.185,1395.64 \n",
       "  \"/>\n",
       "<polyline clip-path=\"url(#clip950)\" style=\"stroke:#000000; stroke-linecap:butt; stroke-linejoin:round; stroke-width:4; stroke-opacity:1; fill:none\" points=\"\n",
       "  823.372,1414.54 823.372,1395.64 \n",
       "  \"/>\n",
       "<polyline clip-path=\"url(#clip950)\" style=\"stroke:#000000; stroke-linecap:butt; stroke-linejoin:round; stroke-width:4; stroke-opacity:1; fill:none\" points=\"\n",
       "  1313.56,1414.54 1313.56,1395.64 \n",
       "  \"/>\n",
       "<polyline clip-path=\"url(#clip950)\" style=\"stroke:#000000; stroke-linecap:butt; stroke-linejoin:round; stroke-width:4; stroke-opacity:1; fill:none\" points=\"\n",
       "  1803.75,1414.54 1803.75,1395.64 \n",
       "  \"/>\n",
       "<polyline clip-path=\"url(#clip950)\" style=\"stroke:#000000; stroke-linecap:butt; stroke-linejoin:round; stroke-width:4; stroke-opacity:1; fill:none\" points=\"\n",
       "  2293.93,1414.54 2293.93,1395.64 \n",
       "  \"/>\n",
       "<path clip-path=\"url(#clip950)\" d=\"M333.185 1448.39 Q328.671 1448.39 326.385 1452.84 Q324.128 1457.27 324.128 1466.18 Q324.128 1475.07 326.385 1479.52 Q328.671 1483.95 333.185 1483.95 Q337.728 1483.95 339.985 1479.52 Q342.271 1475.07 342.271 1466.18 Q342.271 1457.27 339.985 1452.84 Q337.728 1448.39 333.185 1448.39 M333.185 1443.76 Q340.448 1443.76 344.267 1449.52 Q348.115 1455.25 348.115 1466.18 Q348.115 1477.09 344.267 1482.85 Q340.448 1488.58 333.185 1488.58 Q325.922 1488.58 322.074 1482.85 Q318.254 1477.09 318.254 1466.18 Q318.254 1455.25 322.074 1449.52 Q325.922 1443.76 333.185 1443.76 Z\" fill=\"#000000\" fill-rule=\"evenodd\" fill-opacity=\"1\" /><path clip-path=\"url(#clip950)\" d=\"M777.987 1482.82 L798.387 1482.82 L798.387 1487.74 L770.956 1487.74 L770.956 1482.82 Q774.284 1479.38 780.013 1473.59 Q785.771 1467.77 787.247 1466.1 Q790.053 1462.94 791.153 1460.77 Q792.281 1458.57 792.281 1456.46 Q792.281 1453.02 789.851 1450.85 Q787.449 1448.68 783.572 1448.68 Q780.823 1448.68 777.756 1449.63 Q774.718 1450.59 771.246 1452.53 L771.246 1446.62 Q774.776 1445.21 777.843 1444.48 Q780.91 1443.76 783.456 1443.76 Q790.169 1443.76 794.162 1447.12 Q798.155 1450.47 798.155 1456.08 Q798.155 1458.75 797.142 1461.15 Q796.159 1463.52 793.526 1466.76 Q792.802 1467.6 788.925 1471.62 Q785.048 1475.62 777.987 1482.82 Z\" fill=\"#000000\" fill-rule=\"evenodd\" fill-opacity=\"1\" /><path clip-path=\"url(#clip950)\" d=\"M810.713 1444.54 L833.658 1444.54 L833.658 1449.46 L816.066 1449.46 L816.066 1460.05 Q817.339 1459.61 818.612 1459.41 Q819.885 1459.18 821.159 1459.18 Q828.392 1459.18 832.617 1463.15 Q836.841 1467.11 836.841 1473.88 Q836.841 1480.85 832.501 1484.73 Q828.161 1488.58 820.262 1488.58 Q817.542 1488.58 814.706 1488.12 Q811.899 1487.65 808.89 1486.73 L808.89 1480.85 Q811.494 1482.27 814.272 1482.97 Q817.05 1483.66 820.146 1483.66 Q825.152 1483.66 828.074 1481.03 Q830.996 1478.39 830.996 1473.88 Q830.996 1469.37 828.074 1466.73 Q825.152 1464.1 820.146 1464.1 Q817.802 1464.1 815.458 1464.62 Q813.144 1465.14 810.713 1466.24 L810.713 1444.54 Z\" fill=\"#000000\" fill-rule=\"evenodd\" fill-opacity=\"1\" /><path clip-path=\"url(#clip950)\" d=\"M860.857 1448.39 Q856.344 1448.39 854.058 1452.84 Q851.801 1457.27 851.801 1466.18 Q851.801 1475.07 854.058 1479.52 Q856.344 1483.95 860.857 1483.95 Q865.4 1483.95 867.657 1479.52 Q869.943 1475.07 869.943 1466.18 Q869.943 1457.27 867.657 1452.84 Q865.4 1448.39 860.857 1448.39 M860.857 1443.76 Q868.12 1443.76 871.94 1449.52 Q875.788 1455.25 875.788 1466.18 Q875.788 1477.09 871.94 1482.85 Q868.12 1488.58 860.857 1488.58 Q853.595 1488.58 849.746 1482.85 Q845.927 1477.09 845.927 1466.18 Q845.927 1455.25 849.746 1449.52 Q853.595 1443.76 860.857 1443.76 Z\" fill=\"#000000\" fill-rule=\"evenodd\" fill-opacity=\"1\" /><path clip-path=\"url(#clip950)\" d=\"M1263.08 1444.54 L1286.03 1444.54 L1286.03 1449.46 L1268.44 1449.46 L1268.44 1460.05 Q1269.71 1459.61 1270.98 1459.41 Q1272.25 1459.18 1273.53 1459.18 Q1280.76 1459.18 1284.99 1463.15 Q1289.21 1467.11 1289.21 1473.88 Q1289.21 1480.85 1284.87 1484.73 Q1280.53 1488.58 1272.63 1488.58 Q1269.91 1488.58 1267.08 1488.12 Q1264.27 1487.65 1261.26 1486.73 L1261.26 1480.85 Q1263.86 1482.27 1266.64 1482.97 Q1269.42 1483.66 1272.51 1483.66 Q1277.52 1483.66 1280.44 1481.03 Q1283.37 1478.39 1283.37 1473.88 Q1283.37 1469.37 1280.44 1466.73 Q1277.52 1464.1 1272.51 1464.1 Q1270.17 1464.1 1267.83 1464.62 Q1265.51 1465.14 1263.08 1466.24 L1263.08 1444.54 Z\" fill=\"#000000\" fill-rule=\"evenodd\" fill-opacity=\"1\" /><path clip-path=\"url(#clip950)\" d=\"M1313.23 1448.39 Q1308.71 1448.39 1306.43 1452.84 Q1304.17 1457.27 1304.17 1466.18 Q1304.17 1475.07 1306.43 1479.52 Q1308.71 1483.95 1313.23 1483.95 Q1317.77 1483.95 1320.03 1479.52 Q1322.31 1475.07 1322.31 1466.18 Q1322.31 1457.27 1320.03 1452.84 Q1317.77 1448.39 1313.23 1448.39 M1313.23 1443.76 Q1320.49 1443.76 1324.31 1449.52 Q1328.16 1455.25 1328.16 1466.18 Q1328.16 1477.09 1324.31 1482.85 Q1320.49 1488.58 1313.23 1488.58 Q1305.96 1488.58 1302.12 1482.85 Q1298.3 1477.09 1298.3 1466.18 Q1298.3 1455.25 1302.12 1449.52 Q1305.96 1443.76 1313.23 1443.76 Z\" fill=\"#000000\" fill-rule=\"evenodd\" fill-opacity=\"1\" /><path clip-path=\"url(#clip950)\" d=\"M1350.93 1448.39 Q1346.41 1448.39 1344.13 1452.84 Q1341.87 1457.27 1341.87 1466.18 Q1341.87 1475.07 1344.13 1479.52 Q1346.41 1483.95 1350.93 1483.95 Q1355.47 1483.95 1357.73 1479.52 Q1360.01 1475.07 1360.01 1466.18 Q1360.01 1457.27 1357.73 1452.84 Q1355.47 1448.39 1350.93 1448.39 M1350.93 1443.76 Q1358.19 1443.76 1362.01 1449.52 Q1365.86 1455.25 1365.86 1466.18 Q1365.86 1477.09 1362.01 1482.85 Q1358.19 1488.58 1350.93 1488.58 Q1343.67 1488.58 1339.82 1482.85 Q1336 1477.09 1336 1466.18 Q1336 1455.25 1339.82 1449.52 Q1343.67 1443.76 1350.93 1443.76 Z\" fill=\"#000000\" fill-rule=\"evenodd\" fill-opacity=\"1\" /><path clip-path=\"url(#clip950)\" d=\"M1751.59 1444.54 L1779.37 1444.54 L1779.37 1447.03 L1763.69 1487.74 L1757.58 1487.74 L1772.34 1449.46 L1751.59 1449.46 L1751.59 1444.54 Z\" fill=\"#000000\" fill-rule=\"evenodd\" fill-opacity=\"1\" /><path clip-path=\"url(#clip950)\" d=\"M1790.83 1444.54 L1813.77 1444.54 L1813.77 1449.46 L1796.18 1449.46 L1796.18 1460.05 Q1797.45 1459.61 1798.73 1459.41 Q1800 1459.18 1801.27 1459.18 Q1808.51 1459.18 1812.73 1463.15 Q1816.96 1467.11 1816.96 1473.88 Q1816.96 1480.85 1812.61 1484.73 Q1808.27 1488.58 1800.38 1488.58 Q1797.66 1488.58 1794.82 1488.12 Q1792.01 1487.65 1789 1486.73 L1789 1480.85 Q1791.61 1482.27 1794.39 1482.97 Q1797.16 1483.66 1800.26 1483.66 Q1805.27 1483.66 1808.19 1481.03 Q1811.11 1478.39 1811.11 1473.88 Q1811.11 1469.37 1808.19 1466.73 Q1805.27 1464.1 1800.26 1464.1 Q1797.92 1464.1 1795.57 1464.62 Q1793.26 1465.14 1790.83 1466.24 L1790.83 1444.54 Z\" fill=\"#000000\" fill-rule=\"evenodd\" fill-opacity=\"1\" /><path clip-path=\"url(#clip950)\" d=\"M1840.97 1448.39 Q1836.46 1448.39 1834.17 1452.84 Q1831.91 1457.27 1831.91 1466.18 Q1831.91 1475.07 1834.17 1479.52 Q1836.46 1483.95 1840.97 1483.95 Q1845.51 1483.95 1847.77 1479.52 Q1850.06 1475.07 1850.06 1466.18 Q1850.06 1457.27 1847.77 1452.84 Q1845.51 1448.39 1840.97 1448.39 M1840.97 1443.76 Q1848.23 1443.76 1852.05 1449.52 Q1855.9 1455.25 1855.9 1466.18 Q1855.9 1477.09 1852.05 1482.85 Q1848.23 1488.58 1840.97 1488.58 Q1833.71 1488.58 1829.86 1482.85 Q1826.04 1477.09 1826.04 1466.18 Q1826.04 1455.25 1829.86 1449.52 Q1833.71 1443.76 1840.97 1443.76 Z\" fill=\"#000000\" fill-rule=\"evenodd\" fill-opacity=\"1\" /><path clip-path=\"url(#clip950)\" d=\"M2224.59 1482.82 L2234.14 1482.82 L2234.14 1449.86 L2223.75 1451.95 L2223.75 1446.62 L2234.08 1444.54 L2239.93 1444.54 L2239.93 1482.82 L2249.47 1482.82 L2249.47 1487.74 L2224.59 1487.74 L2224.59 1482.82 Z\" fill=\"#000000\" fill-rule=\"evenodd\" fill-opacity=\"1\" /><path clip-path=\"url(#clip950)\" d=\"M2273.78 1448.39 Q2269.27 1448.39 2266.98 1452.84 Q2264.72 1457.27 2264.72 1466.18 Q2264.72 1475.07 2266.98 1479.52 Q2269.27 1483.95 2273.78 1483.95 Q2278.32 1483.95 2280.58 1479.52 Q2282.87 1475.07 2282.87 1466.18 Q2282.87 1457.27 2280.58 1452.84 Q2278.32 1448.39 2273.78 1448.39 M2273.78 1443.76 Q2281.04 1443.76 2284.86 1449.52 Q2288.71 1455.25 2288.71 1466.18 Q2288.71 1477.09 2284.86 1482.85 Q2281.04 1488.58 2273.78 1488.58 Q2266.52 1488.58 2262.67 1482.85 Q2258.85 1477.09 2258.85 1466.18 Q2258.85 1455.25 2262.67 1449.52 Q2266.52 1443.76 2273.78 1443.76 Z\" fill=\"#000000\" fill-rule=\"evenodd\" fill-opacity=\"1\" /><path clip-path=\"url(#clip950)\" d=\"M2311.48 1448.39 Q2306.97 1448.39 2304.68 1452.84 Q2302.43 1457.27 2302.43 1466.18 Q2302.43 1475.07 2304.68 1479.52 Q2306.97 1483.95 2311.48 1483.95 Q2316.03 1483.95 2318.28 1479.52 Q2320.57 1475.07 2320.57 1466.18 Q2320.57 1457.27 2318.28 1452.84 Q2316.03 1448.39 2311.48 1448.39 M2311.48 1443.76 Q2318.75 1443.76 2322.56 1449.52 Q2326.41 1455.25 2326.41 1466.18 Q2326.41 1477.09 2322.56 1482.85 Q2318.75 1488.58 2311.48 1488.58 Q2304.22 1488.58 2300.37 1482.85 Q2296.55 1477.09 2296.55 1466.18 Q2296.55 1455.25 2300.37 1449.52 Q2304.22 1443.76 2311.48 1443.76 Z\" fill=\"#000000\" fill-rule=\"evenodd\" fill-opacity=\"1\" /><path clip-path=\"url(#clip950)\" d=\"M2349.18 1448.39 Q2344.67 1448.39 2342.39 1452.84 Q2340.13 1457.27 2340.13 1466.18 Q2340.13 1475.07 2342.39 1479.52 Q2344.67 1483.95 2349.18 1483.95 Q2353.73 1483.95 2355.98 1479.52 Q2358.27 1475.07 2358.27 1466.18 Q2358.27 1457.27 2355.98 1452.84 Q2353.73 1448.39 2349.18 1448.39 M2349.18 1443.76 Q2356.45 1443.76 2360.27 1449.52 Q2364.12 1455.25 2364.12 1466.18 Q2364.12 1477.09 2360.27 1482.85 Q2356.45 1488.58 2349.18 1488.58 Q2341.92 1488.58 2338.07 1482.85 Q2334.25 1477.09 2334.25 1466.18 Q2334.25 1455.25 2338.07 1449.52 Q2341.92 1443.76 2349.18 1443.76 Z\" fill=\"#000000\" fill-rule=\"evenodd\" fill-opacity=\"1\" /><path clip-path=\"url(#clip950)\" d=\"M1183.73 1524.84 L1223.93 1524.84 L1223.93 1530.25 L1207.06 1530.25 L1207.06 1572.36 L1200.6 1572.36 L1200.6 1530.25 L1183.73 1530.25 L1183.73 1524.84 Z\" fill=\"#000000\" fill-rule=\"evenodd\" fill-opacity=\"1\" /><path clip-path=\"url(#clip950)\" d=\"M1227.88 1536.72 L1233.73 1536.72 L1233.73 1572.36 L1227.88 1572.36 L1227.88 1536.72 M1227.88 1522.84 L1233.73 1522.84 L1233.73 1530.25 L1227.88 1530.25 L1227.88 1522.84 Z\" fill=\"#000000\" fill-rule=\"evenodd\" fill-opacity=\"1\" /><path clip-path=\"url(#clip950)\" d=\"M1273.74 1543.56 Q1275.94 1539.61 1278.99 1537.73 Q1282.05 1535.86 1286.19 1535.86 Q1291.76 1535.86 1294.78 1539.77 Q1297.8 1543.65 1297.8 1550.85 L1297.8 1572.36 L1291.92 1572.36 L1291.92 1551.04 Q1291.92 1545.91 1290.1 1543.43 Q1288.29 1540.95 1284.56 1540.95 Q1280.01 1540.95 1277.37 1543.97 Q1274.73 1547 1274.73 1552.22 L1274.73 1572.36 L1268.84 1572.36 L1268.84 1551.04 Q1268.84 1545.88 1267.03 1543.43 Q1265.21 1540.95 1261.42 1540.95 Q1256.94 1540.95 1254.29 1544 Q1251.65 1547.03 1251.65 1552.22 L1251.65 1572.36 L1245.76 1572.36 L1245.76 1536.72 L1251.65 1536.72 L1251.65 1542.25 Q1253.66 1538.98 1256.46 1537.42 Q1259.26 1535.86 1263.11 1535.86 Q1266.99 1535.86 1269.7 1537.83 Q1272.44 1539.8 1273.74 1543.56 Z\" fill=\"#000000\" fill-rule=\"evenodd\" fill-opacity=\"1\" /><path clip-path=\"url(#clip950)\" d=\"M1339.98 1553.08 L1339.98 1555.94 L1313.05 1555.94 Q1313.43 1561.99 1316.68 1565.17 Q1319.96 1568.32 1325.78 1568.32 Q1329.16 1568.32 1332.31 1567.49 Q1335.49 1566.67 1338.61 1565.01 L1338.61 1570.55 Q1335.46 1571.89 1332.15 1572.59 Q1328.84 1573.29 1325.43 1573.29 Q1316.9 1573.29 1311.9 1568.32 Q1306.94 1563.36 1306.94 1554.89 Q1306.94 1546.14 1311.65 1541.01 Q1316.39 1535.86 1324.41 1535.86 Q1331.61 1535.86 1335.78 1540.5 Q1339.98 1545.12 1339.98 1553.08 M1334.12 1551.36 Q1334.06 1546.55 1331.42 1543.69 Q1328.81 1540.82 1324.48 1540.82 Q1319.57 1540.82 1316.61 1543.59 Q1313.69 1546.36 1313.24 1551.39 L1334.12 1551.36 Z\" fill=\"#000000\" fill-rule=\"evenodd\" fill-opacity=\"1\" /><path clip-path=\"url(#clip950)\" d=\"M1369.77 1522.84 L1383.26 1522.84 L1383.26 1527.39 L1375.62 1527.39 L1375.62 1576.41 L1383.26 1576.41 L1383.26 1580.96 L1369.77 1580.96 L1369.77 1522.84 Z\" fill=\"#000000\" fill-rule=\"evenodd\" fill-opacity=\"1\" /><path clip-path=\"url(#clip950)\" d=\"M1418.47 1537.77 L1418.47 1543.3 Q1415.98 1542.03 1413.31 1541.39 Q1410.64 1540.76 1407.77 1540.76 Q1403.41 1540.76 1401.21 1542.09 Q1399.05 1543.43 1399.05 1546.11 Q1399.05 1548.14 1400.61 1549.32 Q1402.17 1550.47 1406.88 1551.52 L1408.89 1551.96 Q1415.12 1553.3 1417.73 1555.75 Q1420.38 1558.17 1420.38 1562.53 Q1420.38 1567.49 1416.43 1570.39 Q1412.51 1573.29 1405.64 1573.29 Q1402.77 1573.29 1399.66 1572.71 Q1396.57 1572.17 1393.13 1571.06 L1393.13 1565.01 Q1396.38 1566.7 1399.53 1567.56 Q1402.68 1568.39 1405.77 1568.39 Q1409.9 1568.39 1412.13 1566.98 Q1414.36 1565.55 1414.36 1562.97 Q1414.36 1560.59 1412.74 1559.31 Q1411.15 1558.04 1405.7 1556.86 L1403.67 1556.39 Q1398.22 1555.24 1395.8 1552.88 Q1393.39 1550.5 1393.39 1546.36 Q1393.39 1541.33 1396.95 1538.59 Q1400.51 1535.86 1407.07 1535.86 Q1410.32 1535.86 1413.18 1536.33 Q1416.05 1536.81 1418.47 1537.77 Z\" fill=\"#000000\" fill-rule=\"evenodd\" fill-opacity=\"1\" /><path clip-path=\"url(#clip950)\" d=\"M1443.39 1522.84 L1443.39 1580.96 L1429.89 1580.96 L1429.89 1576.41 L1437.5 1576.41 L1437.5 1527.39 L1429.89 1527.39 L1429.89 1522.84 L1443.39 1522.84 Z\" fill=\"#000000\" fill-rule=\"evenodd\" fill-opacity=\"1\" /><polyline clip-path=\"url(#clip952)\" style=\"stroke:#000000; stroke-linecap:butt; stroke-linejoin:round; stroke-width:2; stroke-opacity:0.1; fill:none\" points=\"\n",
       "  274.363,1409.84 2352.76,1409.84 \n",
       "  \"/>\n",
       "<polyline clip-path=\"url(#clip952)\" style=\"stroke:#000000; stroke-linecap:butt; stroke-linejoin:round; stroke-width:2; stroke-opacity:0.1; fill:none\" points=\"\n",
       "  274.363,1078.87 2352.76,1078.87 \n",
       "  \"/>\n",
       "<polyline clip-path=\"url(#clip952)\" style=\"stroke:#000000; stroke-linecap:butt; stroke-linejoin:round; stroke-width:2; stroke-opacity:0.1; fill:none\" points=\"\n",
       "  274.363,747.893 2352.76,747.893 \n",
       "  \"/>\n",
       "<polyline clip-path=\"url(#clip952)\" style=\"stroke:#000000; stroke-linecap:butt; stroke-linejoin:round; stroke-width:2; stroke-opacity:0.1; fill:none\" points=\"\n",
       "  274.363,416.917 2352.76,416.917 \n",
       "  \"/>\n",
       "<polyline clip-path=\"url(#clip952)\" style=\"stroke:#000000; stroke-linecap:butt; stroke-linejoin:round; stroke-width:2; stroke-opacity:0.1; fill:none\" points=\"\n",
       "  274.363,85.9411 2352.76,85.9411 \n",
       "  \"/>\n",
       "<polyline clip-path=\"url(#clip950)\" style=\"stroke:#000000; stroke-linecap:butt; stroke-linejoin:round; stroke-width:4; stroke-opacity:1; fill:none\" points=\"\n",
       "  274.363,1414.54 274.363,47.2441 \n",
       "  \"/>\n",
       "<polyline clip-path=\"url(#clip950)\" style=\"stroke:#000000; stroke-linecap:butt; stroke-linejoin:round; stroke-width:4; stroke-opacity:1; fill:none\" points=\"\n",
       "  274.363,1409.84 293.26,1409.84 \n",
       "  \"/>\n",
       "<polyline clip-path=\"url(#clip950)\" style=\"stroke:#000000; stroke-linecap:butt; stroke-linejoin:round; stroke-width:4; stroke-opacity:1; fill:none\" points=\"\n",
       "  274.363,1078.87 293.26,1078.87 \n",
       "  \"/>\n",
       "<polyline clip-path=\"url(#clip950)\" style=\"stroke:#000000; stroke-linecap:butt; stroke-linejoin:round; stroke-width:4; stroke-opacity:1; fill:none\" points=\"\n",
       "  274.363,747.893 293.26,747.893 \n",
       "  \"/>\n",
       "<polyline clip-path=\"url(#clip950)\" style=\"stroke:#000000; stroke-linecap:butt; stroke-linejoin:round; stroke-width:4; stroke-opacity:1; fill:none\" points=\"\n",
       "  274.363,416.917 293.26,416.917 \n",
       "  \"/>\n",
       "<polyline clip-path=\"url(#clip950)\" style=\"stroke:#000000; stroke-linecap:butt; stroke-linejoin:round; stroke-width:4; stroke-opacity:1; fill:none\" points=\"\n",
       "  274.363,85.9411 293.26,85.9411 \n",
       "  \"/>\n",
       "<path clip-path=\"url(#clip950)\" d=\"M129.191 1392.09 Q124.677 1392.09 122.391 1396.55 Q120.134 1400.98 120.134 1409.89 Q120.134 1418.77 122.391 1423.23 Q124.677 1427.65 129.191 1427.65 Q133.733 1427.65 135.99 1423.23 Q138.276 1418.77 138.276 1409.89 Q138.276 1400.98 135.99 1396.55 Q133.733 1392.09 129.191 1392.09 M129.191 1387.46 Q136.453 1387.46 140.273 1393.22 Q144.121 1398.95 144.121 1409.89 Q144.121 1420.8 140.273 1426.55 Q136.453 1432.28 129.191 1432.28 Q121.928 1432.28 118.08 1426.55 Q114.26 1420.8 114.26 1409.89 Q114.26 1398.95 118.08 1393.22 Q121.928 1387.46 129.191 1387.46 Z\" fill=\"#000000\" fill-rule=\"evenodd\" fill-opacity=\"1\" /><path clip-path=\"url(#clip950)\" d=\"M154.393 1424.09 L160.498 1424.09 L160.498 1431.44 L154.393 1431.44 L154.393 1424.09 Z\" fill=\"#000000\" fill-rule=\"evenodd\" fill-opacity=\"1\" /><path clip-path=\"url(#clip950)\" d=\"M185.73 1392.09 Q181.216 1392.09 178.93 1396.55 Q176.673 1400.98 176.673 1409.89 Q176.673 1418.77 178.93 1423.23 Q181.216 1427.65 185.73 1427.65 Q190.272 1427.65 192.529 1423.23 Q194.815 1418.77 194.815 1409.89 Q194.815 1400.98 192.529 1396.55 Q190.272 1392.09 185.73 1392.09 M185.73 1387.46 Q192.992 1387.46 196.812 1393.22 Q200.66 1398.95 200.66 1409.89 Q200.66 1420.8 196.812 1426.55 Q192.992 1432.28 185.73 1432.28 Q178.467 1432.28 174.619 1426.55 Q170.799 1420.8 170.799 1409.89 Q170.799 1398.95 174.619 1393.22 Q178.467 1387.46 185.73 1387.46 Z\" fill=\"#000000\" fill-rule=\"evenodd\" fill-opacity=\"1\" /><path clip-path=\"url(#clip950)\" d=\"M223.432 1392.09 Q218.918 1392.09 216.632 1396.55 Q214.375 1400.98 214.375 1409.89 Q214.375 1418.77 216.632 1423.23 Q218.918 1427.65 223.432 1427.65 Q227.975 1427.65 230.232 1423.23 Q232.518 1418.77 232.518 1409.89 Q232.518 1400.98 230.232 1396.55 Q227.975 1392.09 223.432 1392.09 M223.432 1387.46 Q230.695 1387.46 234.514 1393.22 Q238.363 1398.95 238.363 1409.89 Q238.363 1420.8 234.514 1426.55 Q230.695 1432.28 223.432 1432.28 Q216.169 1432.28 212.321 1426.55 Q208.502 1420.8 208.502 1409.89 Q208.502 1398.95 212.321 1393.22 Q216.169 1387.46 223.432 1387.46 Z\" fill=\"#000000\" fill-rule=\"evenodd\" fill-opacity=\"1\" /><path clip-path=\"url(#clip950)\" d=\"M130.435 1061.12 Q125.921 1061.12 123.635 1065.57 Q121.378 1070 121.378 1078.91 Q121.378 1087.79 123.635 1092.25 Q125.921 1096.68 130.435 1096.68 Q134.978 1096.68 137.235 1092.25 Q139.52 1087.79 139.52 1078.91 Q139.52 1070 137.235 1065.57 Q134.978 1061.12 130.435 1061.12 M130.435 1056.49 Q137.698 1056.49 141.517 1062.25 Q145.365 1067.97 145.365 1078.91 Q145.365 1089.82 141.517 1095.58 Q137.698 1101.31 130.435 1101.31 Q123.172 1101.31 119.324 1095.58 Q115.504 1089.82 115.504 1078.91 Q115.504 1067.97 119.324 1062.25 Q123.172 1056.49 130.435 1056.49 Z\" fill=\"#000000\" fill-rule=\"evenodd\" fill-opacity=\"1\" /><path clip-path=\"url(#clip950)\" d=\"M155.637 1093.12 L161.743 1093.12 L161.743 1100.47 L155.637 1100.47 L155.637 1093.12 Z\" fill=\"#000000\" fill-rule=\"evenodd\" fill-opacity=\"1\" /><path clip-path=\"url(#clip950)\" d=\"M179.509 1095.55 L199.908 1095.55 L199.908 1100.47 L172.477 1100.47 L172.477 1095.55 Q175.805 1092.11 181.534 1086.32 Q187.292 1080.5 188.768 1078.83 Q191.575 1075.67 192.674 1073.5 Q193.803 1071.3 193.803 1069.19 Q193.803 1065.75 191.372 1063.58 Q188.97 1061.41 185.093 1061.41 Q182.344 1061.41 179.277 1062.36 Q176.239 1063.32 172.767 1065.25 L172.767 1059.35 Q176.297 1057.93 179.364 1057.21 Q182.431 1056.49 184.977 1056.49 Q191.69 1056.49 195.683 1059.84 Q199.676 1063.2 199.676 1068.81 Q199.676 1071.48 198.664 1073.88 Q197.68 1076.25 195.047 1079.49 Q194.323 1080.33 190.446 1084.35 Q186.569 1088.34 179.509 1095.55 Z\" fill=\"#000000\" fill-rule=\"evenodd\" fill-opacity=\"1\" /><path clip-path=\"url(#clip950)\" d=\"M212.234 1057.27 L235.18 1057.27 L235.18 1062.19 L217.587 1062.19 L217.587 1072.78 Q218.86 1072.34 220.133 1072.14 Q221.407 1071.91 222.68 1071.91 Q229.913 1071.91 234.138 1075.87 Q238.363 1079.84 238.363 1086.61 Q238.363 1093.58 234.022 1097.46 Q229.682 1101.31 221.783 1101.31 Q219.063 1101.31 216.227 1100.84 Q213.421 1100.38 210.411 1099.46 L210.411 1093.58 Q213.015 1095 215.793 1095.69 Q218.571 1096.39 221.667 1096.39 Q226.673 1096.39 229.595 1093.76 Q232.518 1091.12 232.518 1086.61 Q232.518 1082.09 229.595 1079.46 Q226.673 1076.83 221.667 1076.83 Q219.323 1076.83 216.98 1077.35 Q214.665 1077.87 212.234 1078.97 L212.234 1057.27 Z\" fill=\"#000000\" fill-rule=\"evenodd\" fill-opacity=\"1\" /><path clip-path=\"url(#clip950)\" d=\"M129.191 730.141 Q124.677 730.141 122.391 734.597 Q120.134 739.024 120.134 747.936 Q120.134 756.819 122.391 761.275 Q124.677 765.702 129.191 765.702 Q133.733 765.702 135.99 761.275 Q138.276 756.819 138.276 747.936 Q138.276 739.024 135.99 734.597 Q133.733 730.141 129.191 730.141 M129.191 725.511 Q136.453 725.511 140.273 731.27 Q144.121 736.999 144.121 747.936 Q144.121 758.845 140.273 764.603 Q136.453 770.332 129.191 770.332 Q121.928 770.332 118.08 764.603 Q114.26 758.845 114.26 747.936 Q114.26 736.999 118.08 731.27 Q121.928 725.511 129.191 725.511 Z\" fill=\"#000000\" fill-rule=\"evenodd\" fill-opacity=\"1\" /><path clip-path=\"url(#clip950)\" d=\"M154.393 762.143 L160.498 762.143 L160.498 769.493 L154.393 769.493 L154.393 762.143 Z\" fill=\"#000000\" fill-rule=\"evenodd\" fill-opacity=\"1\" /><path clip-path=\"url(#clip950)\" d=\"M173.288 726.293 L196.233 726.293 L196.233 731.212 L178.641 731.212 L178.641 741.802 Q179.914 741.368 181.187 741.165 Q182.46 740.934 183.733 740.934 Q190.967 740.934 195.191 744.898 Q199.416 748.862 199.416 755.633 Q199.416 762.606 195.076 766.483 Q190.735 770.332 182.836 770.332 Q180.116 770.332 177.281 769.869 Q174.474 769.406 171.465 768.48 L171.465 762.606 Q174.069 764.024 176.847 764.718 Q179.624 765.413 182.72 765.413 Q187.726 765.413 190.649 762.78 Q193.571 760.147 193.571 755.633 Q193.571 751.119 190.649 748.486 Q187.726 745.853 182.72 745.853 Q180.377 745.853 178.033 746.374 Q175.718 746.894 173.288 747.994 L173.288 726.293 Z\" fill=\"#000000\" fill-rule=\"evenodd\" fill-opacity=\"1\" /><path clip-path=\"url(#clip950)\" d=\"M223.432 730.141 Q218.918 730.141 216.632 734.597 Q214.375 739.024 214.375 747.936 Q214.375 756.819 216.632 761.275 Q218.918 765.702 223.432 765.702 Q227.975 765.702 230.232 761.275 Q232.518 756.819 232.518 747.936 Q232.518 739.024 230.232 734.597 Q227.975 730.141 223.432 730.141 M223.432 725.511 Q230.695 725.511 234.514 731.27 Q238.363 736.999 238.363 747.936 Q238.363 758.845 234.514 764.603 Q230.695 770.332 223.432 770.332 Q216.169 770.332 212.321 764.603 Q208.502 758.845 208.502 747.936 Q208.502 736.999 212.321 731.27 Q216.169 725.511 223.432 725.511 Z\" fill=\"#000000\" fill-rule=\"evenodd\" fill-opacity=\"1\" /><path clip-path=\"url(#clip950)\" d=\"M130.435 399.165 Q125.921 399.165 123.635 403.621 Q121.378 408.048 121.378 416.96 Q121.378 425.843 123.635 430.299 Q125.921 434.726 130.435 434.726 Q134.978 434.726 137.235 430.299 Q139.52 425.843 139.52 416.96 Q139.52 408.048 137.235 403.621 Q134.978 399.165 130.435 399.165 M130.435 394.536 Q137.698 394.536 141.517 400.294 Q145.365 406.023 145.365 416.96 Q145.365 427.869 141.517 433.627 Q137.698 439.356 130.435 439.356 Q123.172 439.356 119.324 433.627 Q115.504 427.869 115.504 416.96 Q115.504 406.023 119.324 400.294 Q123.172 394.536 130.435 394.536 Z\" fill=\"#000000\" fill-rule=\"evenodd\" fill-opacity=\"1\" /><path clip-path=\"url(#clip950)\" d=\"M155.637 431.167 L161.743 431.167 L161.743 438.517 L155.637 438.517 L155.637 431.167 Z\" fill=\"#000000\" fill-rule=\"evenodd\" fill-opacity=\"1\" /><path clip-path=\"url(#clip950)\" d=\"M172.998 395.317 L200.776 395.317 L200.776 397.805 L185.093 438.517 L178.988 438.517 L193.745 400.236 L172.998 400.236 L172.998 395.317 Z\" fill=\"#000000\" fill-rule=\"evenodd\" fill-opacity=\"1\" /><path clip-path=\"url(#clip950)\" d=\"M212.234 395.317 L235.18 395.317 L235.18 400.236 L217.587 400.236 L217.587 410.826 Q218.86 410.392 220.133 410.19 Q221.407 409.958 222.68 409.958 Q229.913 409.958 234.138 413.922 Q238.363 417.886 238.363 424.657 Q238.363 431.63 234.022 435.508 Q229.682 439.356 221.783 439.356 Q219.063 439.356 216.227 438.893 Q213.421 438.43 210.411 437.504 L210.411 431.63 Q213.015 433.048 215.793 433.743 Q218.571 434.437 221.667 434.437 Q226.673 434.437 229.595 431.804 Q232.518 429.171 232.518 424.657 Q232.518 420.143 229.595 417.51 Q226.673 414.877 221.667 414.877 Q219.323 414.877 216.98 415.398 Q214.665 415.919 212.234 417.018 L212.234 395.317 Z\" fill=\"#000000\" fill-rule=\"evenodd\" fill-opacity=\"1\" /><path clip-path=\"url(#clip950)\" d=\"M117.703 102.622 L127.252 102.622 L127.252 69.6652 L116.864 71.7485 L116.864 66.4245 L127.194 64.3411 L133.039 64.3411 L133.039 102.622 L142.588 102.622 L142.588 107.541 L117.703 107.541 L117.703 102.622 Z\" fill=\"#000000\" fill-rule=\"evenodd\" fill-opacity=\"1\" /><path clip-path=\"url(#clip950)\" d=\"M154.393 100.192 L160.498 100.192 L160.498 107.541 L154.393 107.541 L154.393 100.192 Z\" fill=\"#000000\" fill-rule=\"evenodd\" fill-opacity=\"1\" /><path clip-path=\"url(#clip950)\" d=\"M185.73 68.1895 Q181.216 68.1895 178.93 72.6455 Q176.673 77.0726 176.673 85.9845 Q176.673 94.8676 178.93 99.3236 Q181.216 103.751 185.73 103.751 Q190.272 103.751 192.529 99.3236 Q194.815 94.8676 194.815 85.9845 Q194.815 77.0726 192.529 72.6455 Q190.272 68.1895 185.73 68.1895 M185.73 63.5599 Q192.992 63.5599 196.812 69.318 Q200.66 75.0471 200.66 85.9845 Q200.66 96.8931 196.812 102.651 Q192.992 108.38 185.73 108.38 Q178.467 108.38 174.619 102.651 Q170.799 96.8931 170.799 85.9845 Q170.799 75.0471 174.619 69.318 Q178.467 63.5599 185.73 63.5599 Z\" fill=\"#000000\" fill-rule=\"evenodd\" fill-opacity=\"1\" /><path clip-path=\"url(#clip950)\" d=\"M223.432 68.1895 Q218.918 68.1895 216.632 72.6455 Q214.375 77.0726 214.375 85.9845 Q214.375 94.8676 216.632 99.3236 Q218.918 103.751 223.432 103.751 Q227.975 103.751 230.232 99.3236 Q232.518 94.8676 232.518 85.9845 Q232.518 77.0726 230.232 72.6455 Q227.975 68.1895 223.432 68.1895 M223.432 63.5599 Q230.695 63.5599 234.514 69.318 Q238.363 75.0471 238.363 85.9845 Q238.363 96.8931 234.514 102.651 Q230.695 108.38 223.432 108.38 Q216.169 108.38 212.321 102.651 Q208.502 96.8931 208.502 85.9845 Q208.502 75.0471 212.321 69.318 Q216.169 63.5599 223.432 63.5599 Z\" fill=\"#000000\" fill-rule=\"evenodd\" fill-opacity=\"1\" /><path clip-path=\"url(#clip950)\" d=\"M16.4842 1045.87 L16.4842 1036.29 L48.8219 1024.16 L16.4842 1011.97 L16.4842 1002.39 L64.0042 1002.39 L64.0042 1008.66 L22.277 1008.66 L54.8694 1020.91 L54.8694 1027.37 L22.277 1039.63 L64.0042 1039.63 L64.0042 1045.87 L16.4842 1045.87 Z\" fill=\"#000000\" fill-rule=\"evenodd\" fill-opacity=\"1\" /><path clip-path=\"url(#clip950)\" d=\"M44.7161 959.389 L47.5806 959.389 L47.5806 986.316 Q53.6281 985.934 56.8109 982.687 Q59.9619 979.409 59.9619 973.585 Q59.9619 970.211 59.1344 967.06 Q58.3069 963.877 56.6518 960.758 L62.1899 960.758 Q63.5267 963.909 64.227 967.219 Q64.9272 970.529 64.9272 973.935 Q64.9272 982.465 59.9619 987.462 Q54.9967 992.427 46.5303 992.427 Q37.7774 992.427 32.6531 987.716 Q27.4968 982.974 27.4968 974.953 Q27.4968 967.76 32.1438 963.59 Q36.7589 959.389 44.7161 959.389 M42.9973 965.245 Q38.1912 965.309 35.3266 967.951 Q32.4621 970.561 32.4621 974.89 Q32.4621 979.791 35.2312 982.751 Q38.0002 985.679 43.0292 986.125 L42.9973 965.245 Z\" fill=\"#000000\" fill-rule=\"evenodd\" fill-opacity=\"1\" /><path clip-path=\"url(#clip950)\" d=\"M46.0847 933.576 Q46.0847 940.674 47.7079 943.411 Q49.3312 946.148 53.2461 946.148 Q56.3653 946.148 58.2114 944.111 Q60.0256 942.042 60.0256 938.509 Q60.0256 933.64 56.5881 930.711 Q53.1188 927.751 47.3897 927.751 L46.0847 927.751 L46.0847 933.576 M43.6657 921.895 L64.0042 921.895 L64.0042 927.751 L58.5933 927.751 Q61.8398 929.757 63.3994 932.749 Q64.9272 935.74 64.9272 940.069 Q64.9272 945.544 61.8716 948.79 Q58.7843 952.005 53.6281 952.005 Q47.6125 952.005 44.5569 947.994 Q41.5014 943.952 41.5014 935.963 L41.5014 927.751 L40.9285 927.751 Q36.8862 927.751 34.6901 930.425 Q32.4621 933.067 32.4621 937.873 Q32.4621 940.928 33.1941 943.825 Q33.9262 946.721 35.3903 949.395 L29.9795 949.395 Q28.7381 946.18 28.1334 943.156 Q27.4968 940.133 27.4968 937.268 Q27.4968 929.534 31.5072 925.714 Q35.5176 921.895 43.6657 921.895 Z\" fill=\"#000000\" fill-rule=\"evenodd\" fill-opacity=\"1\" /><path clip-path=\"url(#clip950)\" d=\"M42.4881 880.2 L64.0042 880.2 L64.0042 886.056 L42.679 886.056 Q37.6183 886.056 35.1038 888.029 Q32.5894 890.003 32.5894 893.95 Q32.5894 898.692 35.6131 901.429 Q38.6368 904.167 43.8567 904.167 L64.0042 904.167 L64.0042 910.055 L28.3562 910.055 L28.3562 904.167 L33.8944 904.167 Q30.6797 902.066 29.0883 899.233 Q27.4968 896.369 27.4968 892.645 Q27.4968 886.502 31.3163 883.351 Q35.1038 880.2 42.4881 880.2 Z\" fill=\"#000000\" fill-rule=\"evenodd\" fill-opacity=\"1\" /><path clip-path=\"url(#clip950)\" d=\"M45.7664 824.341 Q39.4007 824.341 35.8996 826.982 Q32.3984 829.592 32.3984 834.335 Q32.3984 839.045 35.8996 841.687 Q39.4007 844.297 45.7664 844.297 Q52.1003 844.297 55.6014 841.687 Q59.1026 839.045 59.1026 834.335 Q59.1026 829.592 55.6014 826.982 Q52.1003 824.341 45.7664 824.341 M59.58 818.484 Q68.683 818.484 73.1071 822.526 Q77.5631 826.569 77.5631 834.908 Q77.5631 837.995 77.0857 840.732 Q76.6401 843.469 75.6852 846.048 L69.9879 846.048 Q71.3884 843.469 72.0568 840.955 Q72.7252 838.441 72.7252 835.831 Q72.7252 830.07 69.7015 827.205 Q66.7096 824.341 60.6303 824.341 L57.7339 824.341 Q60.885 826.155 62.4446 828.988 Q64.0042 831.82 64.0042 835.767 Q64.0042 842.324 59.0071 846.334 Q54.01 850.344 45.7664 850.344 Q37.491 850.344 32.4939 846.334 Q27.4968 842.324 27.4968 835.767 Q27.4968 831.82 29.0564 828.988 Q30.616 826.155 33.7671 824.341 L28.3562 824.341 L28.3562 818.484 L59.58 818.484 Z\" fill=\"#000000\" fill-rule=\"evenodd\" fill-opacity=\"1\" /><path clip-path=\"url(#clip950)\" d=\"M44.7161 775.929 L47.5806 775.929 L47.5806 802.856 Q53.6281 802.474 56.8109 799.228 Q59.9619 795.949 59.9619 790.125 Q59.9619 786.751 59.1344 783.6 Q58.3069 780.417 56.6518 777.298 L62.1899 777.298 Q63.5267 780.449 64.227 783.759 Q64.9272 787.069 64.9272 790.475 Q64.9272 799.005 59.9619 804.002 Q54.9967 808.967 46.5303 808.967 Q37.7774 808.967 32.6531 804.257 Q27.4968 799.514 27.4968 791.493 Q27.4968 784.3 32.1438 780.131 Q36.7589 775.929 44.7161 775.929 M42.9973 781.786 Q38.1912 781.849 35.3266 784.491 Q32.4621 787.101 32.4621 791.43 Q32.4621 796.331 35.2312 799.291 Q38.0002 802.22 43.0292 802.665 L42.9973 781.786 Z\" fill=\"#000000\" fill-rule=\"evenodd\" fill-opacity=\"1\" /><path clip-path=\"url(#clip950)\" d=\"M42.4881 736.685 L64.0042 736.685 L64.0042 742.541 L42.679 742.541 Q37.6183 742.541 35.1038 744.515 Q32.5894 746.488 32.5894 750.435 Q32.5894 755.177 35.6131 757.914 Q38.6368 760.652 43.8567 760.652 L64.0042 760.652 L64.0042 766.54 L28.3562 766.54 L28.3562 760.652 L33.8944 760.652 Q30.6797 758.551 29.0883 755.718 Q27.4968 752.854 27.4968 749.13 Q27.4968 742.987 31.3163 739.836 Q35.1038 736.685 42.4881 736.685 Z\" fill=\"#000000\" fill-rule=\"evenodd\" fill-opacity=\"1\" /><path clip-path=\"url(#clip950)\" d=\"M44.7161 694.512 L47.5806 694.512 L47.5806 721.439 Q53.6281 721.057 56.8109 717.81 Q59.9619 714.532 59.9619 708.707 Q59.9619 705.334 59.1344 702.183 Q58.3069 699 56.6518 695.881 L62.1899 695.881 Q63.5267 699.032 64.227 702.342 Q64.9272 705.652 64.9272 709.058 Q64.9272 717.588 59.9619 722.585 Q54.9967 727.55 46.5303 727.55 Q37.7774 727.55 32.6531 722.839 Q27.4968 718.097 27.4968 710.076 Q27.4968 702.883 32.1438 698.713 Q36.7589 694.512 44.7161 694.512 M42.9973 700.368 Q38.1912 700.432 35.3266 703.074 Q32.4621 705.684 32.4621 710.012 Q32.4621 714.914 35.2312 717.874 Q38.0002 720.802 43.0292 721.248 L42.9973 700.368 Z\" fill=\"#000000\" fill-rule=\"evenodd\" fill-opacity=\"1\" /><path clip-path=\"url(#clip950)\" d=\"M42.4881 634.547 L64.0042 634.547 L64.0042 640.403 L42.679 640.403 Q37.6183 640.403 35.1038 642.377 Q32.5894 644.35 32.5894 648.297 Q32.5894 653.039 35.6131 655.777 Q38.6368 658.514 43.8567 658.514 L64.0042 658.514 L64.0042 664.402 L28.3562 664.402 L28.3562 658.514 L33.8944 658.514 Q30.6797 656.413 29.0883 653.58 Q27.4968 650.716 27.4968 646.992 Q27.4968 640.849 31.3163 637.698 Q35.1038 634.547 42.4881 634.547 Z\" fill=\"#000000\" fill-rule=\"evenodd\" fill-opacity=\"1\" /><path clip-path=\"url(#clip950)\" d=\"M49.9359 623.471 L28.3562 623.471 L28.3562 617.614 L49.7131 617.614 Q54.7739 617.614 57.3202 615.641 Q59.8346 613.667 59.8346 609.721 Q59.8346 604.978 56.8109 602.241 Q53.7872 599.472 48.5673 599.472 L28.3562 599.472 L28.3562 593.616 L64.0042 593.616 L64.0042 599.472 L58.5296 599.472 Q61.7762 601.604 63.3676 604.437 Q64.9272 607.238 64.9272 610.962 Q64.9272 617.105 61.1078 620.288 Q57.2883 623.471 49.9359 623.471 M27.4968 608.734 L27.4968 608.734 Z\" fill=\"#000000\" fill-rule=\"evenodd\" fill-opacity=\"1\" /><path clip-path=\"url(#clip950)\" d=\"M35.1993 553.798 Q31.2526 551.602 29.3747 548.546 Q27.4968 545.491 27.4968 541.353 Q27.4968 535.783 31.4117 532.759 Q35.2948 529.736 42.4881 529.736 L64.0042 529.736 L64.0042 535.624 L42.679 535.624 Q37.5546 535.624 35.072 537.438 Q32.5894 539.252 32.5894 542.976 Q32.5894 547.528 35.6131 550.17 Q38.6368 552.811 43.8567 552.811 L64.0042 552.811 L64.0042 558.7 L42.679 558.7 Q37.5228 558.7 35.072 560.514 Q32.5894 562.328 32.5894 566.116 Q32.5894 570.603 35.6449 573.245 Q38.6686 575.887 43.8567 575.887 L64.0042 575.887 L64.0042 581.775 L28.3562 581.775 L28.3562 575.887 L33.8944 575.887 Q30.616 573.882 29.0564 571.081 Q27.4968 568.28 27.4968 564.429 Q27.4968 560.546 29.4702 557.84 Q31.4436 555.103 35.1993 553.798 Z\" fill=\"#000000\" fill-rule=\"evenodd\" fill-opacity=\"1\" /><path clip-path=\"url(#clip950)\" d=\"M46.212 492.464 Q39.7508 492.464 36.0905 495.138 Q32.3984 497.78 32.3984 502.427 Q32.3984 507.074 36.0905 509.747 Q39.7508 512.389 46.212 512.389 Q52.6732 512.389 56.3653 509.747 Q60.0256 507.074 60.0256 502.427 Q60.0256 497.78 56.3653 495.138 Q52.6732 492.464 46.212 492.464 M33.7671 512.389 Q30.5842 510.543 29.0564 507.742 Q27.4968 504.909 27.4968 500.994 Q27.4968 494.501 32.6531 490.459 Q37.8093 486.385 46.212 486.385 Q54.6147 486.385 59.771 490.459 Q64.9272 494.501 64.9272 500.994 Q64.9272 504.909 63.3994 507.742 Q61.8398 510.543 58.657 512.389 L64.0042 512.389 L64.0042 518.277 L14.479 518.277 L14.479 512.389 L33.7671 512.389 Z\" fill=\"#000000\" fill-rule=\"evenodd\" fill-opacity=\"1\" /><path clip-path=\"url(#clip950)\" d=\"M44.7161 446.186 L47.5806 446.186 L47.5806 473.113 Q53.6281 472.731 56.8109 469.484 Q59.9619 466.206 59.9619 460.381 Q59.9619 457.007 59.1344 453.856 Q58.3069 450.674 56.6518 447.554 L62.1899 447.554 Q63.5267 450.705 64.227 454.016 Q64.9272 457.326 64.9272 460.731 Q64.9272 469.261 59.9619 474.259 Q54.9967 479.224 46.5303 479.224 Q37.7774 479.224 32.6531 474.513 Q27.4968 469.771 27.4968 461.75 Q27.4968 454.557 32.1438 450.387 Q36.7589 446.186 44.7161 446.186 M42.9973 452.042 Q38.1912 452.106 35.3266 454.748 Q32.4621 457.358 32.4621 461.686 Q32.4621 466.588 35.2312 469.548 Q38.0002 472.476 43.0292 472.922 L42.9973 452.042 Z\" fill=\"#000000\" fill-rule=\"evenodd\" fill-opacity=\"1\" /><path clip-path=\"url(#clip950)\" d=\"M33.8307 415.917 Q33.2578 416.903 33.0032 418.081 Q32.7167 419.227 32.7167 420.627 Q32.7167 425.593 35.9632 428.266 Q39.1779 430.908 45.2253 430.908 L64.0042 430.908 L64.0042 436.796 L28.3562 436.796 L28.3562 430.908 L33.8944 430.908 Q30.6479 429.062 29.0883 426.102 Q27.4968 423.142 27.4968 418.909 Q27.4968 418.304 27.5923 417.572 Q27.656 416.84 27.8151 415.949 L33.8307 415.917 Z\" fill=\"#000000\" fill-rule=\"evenodd\" fill-opacity=\"1\" /><polyline clip-path=\"url(#clip952)\" style=\"stroke:#009af9; stroke-linecap:butt; stroke-linejoin:round; stroke-width:8; stroke-opacity:1; fill:none\" points=\"\n",
       "  333.185,85.9411 335.146,91.8276 337.106,125.13 339.067,271.681 341.028,699.491 342.989,1277.75 344.949,1366.82 346.91,1373.07 348.871,1374.85 350.832,1375.48 \n",
       "  352.792,1375.69 354.753,1375.79 356.714,1375.81 358.675,1375.83 360.635,1375.84 362.596,1375.83 364.557,1375.84 366.518,1375.83 368.478,1375.84 370.439,1375.84 \n",
       "  372.4,1375.83 374.361,1375.84 376.321,1375.83 378.282,1375.84 380.243,1375.84 382.204,1375.83 384.164,1375.84 386.125,1375.83 388.086,1375.84 390.047,1375.84 \n",
       "  392.007,1375.83 393.968,1375.84 395.929,1375.83 397.89,1375.84 399.85,1375.84 401.811,1375.83 403.772,1375.84 405.733,1375.83 407.693,1375.83 409.654,1375.84 \n",
       "  411.615,1375.83 413.576,1375.84 415.536,1375.83 417.497,1375.83 419.458,1375.84 421.419,1375.83 423.379,1375.84 425.34,1375.83 427.301,1375.83 429.262,1375.84 \n",
       "  431.222,1375.83 433.183,1375.84 435.144,1375.84 437.105,1375.83 439.065,1375.84 441.026,1375.83 442.987,1375.84 444.948,1375.84 446.908,1375.83 448.869,1375.84 \n",
       "  450.83,1375.83 452.791,1375.84 454.751,1375.84 456.712,1375.83 458.673,1375.84 460.634,1375.83 462.594,1375.84 464.555,1375.84 466.516,1375.83 468.477,1375.84 \n",
       "  470.437,1375.83 472.398,1375.84 474.359,1375.84 476.32,1375.83 478.28,1375.84 480.241,1375.83 482.202,1375.84 484.163,1375.84 486.123,1375.83 488.084,1375.84 \n",
       "  490.045,1375.83 492.006,1375.84 493.966,1375.84 495.927,1375.83 497.888,1375.84 499.849,1375.83 501.809,1375.84 503.77,1375.84 505.731,1375.83 507.692,1375.84 \n",
       "  509.652,1375.83 511.613,1375.84 513.574,1375.84 515.535,1375.83 517.495,1375.84 519.456,1375.83 521.417,1375.83 523.378,1375.84 525.338,1375.83 527.299,1375.84 \n",
       "  529.26,1375.83 531.221,1375.83 533.181,1375.84 535.142,1375.83 537.103,1375.84 539.064,1375.83 541.024,1375.83 542.985,1375.84 544.946,1375.83 546.907,1375.84 \n",
       "  548.867,1375.84 550.828,1375.83 552.789,1375.84 554.75,1375.83 556.71,1375.84 558.671,1375.84 560.632,1375.83 562.593,1375.84 564.553,1375.83 566.514,1375.84 \n",
       "  568.475,1375.84 570.436,1375.83 572.396,1375.84 574.357,1375.83 576.318,1375.84 578.279,1375.84 580.239,1375.83 582.2,1375.84 584.161,1375.83 586.122,1375.84 \n",
       "  588.082,1375.84 590.043,1375.83 592.004,1375.84 593.965,1375.83 595.925,1375.84 597.886,1375.84 599.847,1375.83 601.808,1375.84 603.768,1375.83 605.729,1375.84 \n",
       "  607.69,1375.84 609.65,1375.83 611.611,1375.84 613.572,1375.83 615.533,1375.84 617.493,1375.84 619.454,1375.83 621.415,1375.84 623.376,1375.83 625.336,1375.84 \n",
       "  627.297,1375.84 629.258,1375.83 631.219,1375.84 633.179,1375.83 635.14,1375.83 637.101,1375.84 639.062,1375.83 641.022,1375.84 642.983,1375.83 644.944,1375.83 \n",
       "  646.905,1375.84 648.865,1375.83 650.826,1375.84 652.787,1375.83 654.748,1375.83 656.708,1375.84 658.669,1375.83 660.63,1375.84 662.591,1375.84 664.551,1375.83 \n",
       "  666.512,1375.84 668.473,1375.83 670.434,1375.84 672.394,1375.84 674.355,1375.83 676.316,1375.84 678.277,1375.83 680.237,1375.84 682.198,1375.84 684.159,1375.83 \n",
       "  686.12,1375.84 688.08,1375.83 690.041,1375.84 692.002,1375.84 693.963,1375.83 695.923,1375.84 697.884,1375.83 699.845,1375.84 701.806,1375.84 703.766,1375.83 \n",
       "  705.727,1375.84 707.688,1375.83 709.649,1375.84 711.609,1375.84 713.57,1375.83 715.531,1375.84 717.492,1375.83 719.452,1375.84 721.413,1375.84 723.374,1375.83 \n",
       "  725.335,1375.84 727.295,1375.83 729.256,1375.84 731.217,1375.84 733.178,1375.83 735.138,1375.84 737.099,1375.83 739.06,1375.84 741.021,1375.84 742.981,1375.83 \n",
       "  744.942,1375.84 746.903,1375.83 748.864,1375.83 750.824,1375.84 752.785,1375.83 754.746,1375.84 756.707,1375.83 758.667,1375.83 760.628,1375.84 762.589,1375.83 \n",
       "  764.55,1375.84 766.51,1375.83 768.471,1375.83 770.432,1375.84 772.393,1375.83 774.353,1375.84 776.314,1375.83 778.275,1375.83 780.236,1375.84 782.196,1375.83 \n",
       "  784.157,1375.84 786.118,1375.84 788.079,1375.83 790.039,1375.84 792,1375.83 793.961,1375.84 795.922,1375.84 797.882,1375.83 799.843,1375.84 801.804,1375.83 \n",
       "  803.765,1375.84 805.725,1375.84 807.686,1375.83 809.647,1375.84 811.608,1375.83 813.568,1375.84 815.529,1375.84 817.49,1375.83 819.451,1375.84 821.411,1375.83 \n",
       "  823.372,1375.84 825.333,1375.84 827.294,1375.83 829.254,1375.84 831.215,1375.83 833.176,1375.84 835.137,1375.84 837.097,1375.83 839.058,1375.84 841.019,1375.83 \n",
       "  842.98,1375.84 844.94,1375.84 846.901,1375.83 848.862,1375.84 850.823,1375.83 852.783,1375.84 854.744,1375.84 856.705,1375.83 858.666,1375.84 860.626,1375.83 \n",
       "  862.587,1375.84 864.548,1375.84 866.509,1375.83 868.469,1375.84 870.43,1375.83 872.391,1375.83 874.352,1375.84 876.312,1375.83 878.273,1375.84 880.234,1375.83 \n",
       "  882.195,1375.83 884.155,1375.84 886.116,1375.83 888.077,1375.84 890.038,1375.83 891.998,1375.83 893.959,1375.84 895.92,1375.83 897.881,1375.84 899.841,1375.84 \n",
       "  901.802,1375.83 903.763,1375.84 905.724,1375.83 907.684,1375.84 909.645,1375.84 911.606,1375.83 913.567,1375.84 915.527,1375.83 917.488,1375.84 919.449,1375.84 \n",
       "  921.41,1375.83 923.37,1375.84 925.331,1375.83 927.292,1375.84 929.252,1375.84 931.213,1375.83 933.174,1375.84 935.135,1375.83 937.095,1375.84 939.056,1375.84 \n",
       "  941.017,1375.83 942.978,1375.84 944.938,1375.83 946.899,1375.84 948.86,1375.84 950.821,1375.83 952.781,1375.84 954.742,1375.83 956.703,1375.84 958.664,1375.84 \n",
       "  960.624,1375.83 962.585,1375.84 964.546,1375.83 966.507,1375.84 968.467,1375.84 970.428,1375.83 972.389,1375.84 974.35,1375.83 976.31,1375.84 978.271,1375.84 \n",
       "  980.232,1375.83 982.193,1375.84 984.153,1375.83 986.114,1375.83 988.075,1375.84 990.036,1375.83 991.996,1375.84 993.957,1375.83 995.918,1375.83 997.879,1375.84 \n",
       "  999.839,1375.83 1001.8,1375.84 1003.76,1375.83 1005.72,1375.83 1007.68,1375.84 1009.64,1375.83 1011.6,1375.84 1013.56,1375.84 1015.53,1375.83 1017.49,1375.84 \n",
       "  1019.45,1375.83 1021.41,1375.84 1023.37,1375.84 1025.33,1375.83 1027.29,1375.84 1029.25,1375.83 1031.21,1375.84 1033.17,1375.84 1035.13,1375.83 1037.09,1375.84 \n",
       "  1039.05,1375.83 1041.02,1375.84 1042.98,1375.84 1044.94,1375.83 1046.9,1375.84 1048.86,1375.83 1050.82,1375.84 1052.78,1375.84 1054.74,1375.83 1056.7,1375.84 \n",
       "  1058.66,1375.83 1060.62,1375.84 1062.58,1375.84 1064.54,1375.83 1066.5,1375.84 1068.47,1375.83 1070.43,1375.84 1072.39,1375.84 1074.35,1375.83 1076.31,1375.84 \n",
       "  1078.27,1375.83 1080.23,1375.84 1082.19,1375.84 1084.15,1375.83 1086.11,1375.84 1088.07,1375.83 1090.03,1375.84 1091.99,1375.84 1093.96,1375.83 1095.92,1375.84 \n",
       "  1097.88,1375.83 1099.84,1375.83 1101.8,1375.84 1103.76,1375.83 1105.72,1375.84 1107.68,1375.83 1109.64,1375.83 1111.6,1375.84 1113.56,1375.83 1115.52,1375.84 \n",
       "  1117.48,1375.83 1119.45,1375.83 1121.41,1375.84 1123.37,1375.83 1125.33,1375.84 1127.29,1375.84 1129.25,1375.83 1131.21,1375.84 1133.17,1375.83 1135.13,1375.84 \n",
       "  1137.09,1375.84 1139.05,1375.83 1141.01,1375.84 1142.97,1375.83 1144.93,1375.84 1146.9,1375.84 1148.86,1375.83 1150.82,1375.84 1152.78,1375.83 1154.74,1375.84 \n",
       "  1156.7,1375.84 1158.66,1375.83 1160.62,1375.84 1162.58,1375.83 1164.54,1375.84 1166.5,1375.84 1168.46,1375.83 1170.42,1375.84 1172.39,1375.83 1174.35,1375.84 \n",
       "  1176.31,1375.84 1178.27,1375.83 1180.23,1375.84 1182.19,1375.83 1184.15,1375.84 1186.11,1375.84 1188.07,1375.83 1190.03,1375.84 1191.99,1375.83 1193.95,1375.84 \n",
       "  1195.91,1375.84 1197.88,1375.83 1199.84,1375.84 1201.8,1375.83 1203.76,1375.84 1205.72,1375.84 1207.68,1375.83 1209.64,1375.84 1211.6,1375.83 1213.56,1375.83 \n",
       "  1215.52,1375.84 1217.48,1375.83 1219.44,1375.84 1221.4,1375.83 1223.36,1375.83 1225.33,1375.84 1227.29,1375.83 1229.25,1375.84 1231.21,1375.83 1233.17,1375.83 \n",
       "  1235.13,1375.84 1237.09,1375.83 1239.05,1375.84 1241.01,1375.84 1242.97,1375.83 1244.93,1375.84 1246.89,1375.83 1248.85,1375.84 1250.82,1375.84 1252.78,1375.83 \n",
       "  1254.74,1375.84 1256.7,1375.83 1258.66,1375.84 1260.62,1375.84 1262.58,1375.83 1264.54,1375.84 1266.5,1375.83 1268.46,1375.84 1270.42,1375.84 1272.38,1375.83 \n",
       "  1274.34,1375.84 1276.3,1375.83 1278.27,1375.84 1280.23,1375.84 1282.19,1375.83 1284.15,1375.84 1286.11,1375.83 1288.07,1375.84 1290.03,1375.84 1291.99,1375.83 \n",
       "  1293.95,1375.84 1295.91,1375.83 1297.87,1375.84 1299.83,1375.84 1301.79,1375.83 1303.76,1375.84 1305.72,1375.83 1307.68,1375.84 1309.64,1375.84 1311.6,1375.83 \n",
       "  1313.56,1375.84 1315.52,1375.83 1317.48,1375.84 1319.44,1375.84 1321.4,1375.83 1323.36,1375.84 1325.32,1375.83 1327.28,1375.83 1329.25,1375.84 1331.21,1375.83 \n",
       "  1333.17,1375.84 1335.13,1375.83 1337.09,1375.83 1339.05,1375.84 1341.01,1375.83 1342.97,1375.84 1344.93,1375.83 1346.89,1375.83 1348.85,1375.84 1350.81,1375.83 \n",
       "  1352.77,1375.84 1354.73,1375.84 1356.7,1375.83 1358.66,1375.84 1360.62,1375.83 1362.58,1375.84 1364.54,1375.84 1366.5,1375.83 1368.46,1375.84 1370.42,1375.83 \n",
       "  1372.38,1375.84 1374.34,1375.84 1376.3,1375.83 1378.26,1375.84 1380.22,1375.83 1382.19,1375.84 1384.15,1375.84 1386.11,1375.83 1388.07,1375.84 1390.03,1375.83 \n",
       "  1391.99,1375.84 1393.95,1375.84 1395.91,1375.83 1397.87,1375.84 1399.83,1375.83 1401.79,1375.84 1403.75,1375.84 1405.71,1375.83 1407.68,1375.84 1409.64,1375.83 \n",
       "  1411.6,1375.84 1413.56,1375.84 1415.52,1375.83 1417.48,1375.84 1419.44,1375.83 1421.4,1375.84 1423.36,1375.84 1425.32,1375.83 1427.28,1375.84 1429.24,1375.83 \n",
       "  1431.2,1375.84 1433.16,1375.84 1435.13,1375.83 1437.09,1375.84 1439.05,1375.83 1441.01,1375.83 1442.97,1375.84 1444.93,1375.83 1446.89,1375.84 1448.85,1375.83 \n",
       "  1450.81,1375.83 1452.77,1375.84 1454.73,1375.83 1456.69,1375.84 1458.65,1375.83 1460.62,1375.83 1462.58,1375.84 1464.54,1375.83 1466.5,1375.84 1468.46,1375.83 \n",
       "  1470.42,1375.83 1472.38,1375.84 1474.34,1375.83 1476.3,1375.84 1478.26,1375.84 1480.22,1375.83 1482.18,1375.84 1484.14,1375.83 1486.11,1375.84 1488.07,1375.84 \n",
       "  1490.03,1375.83 1491.99,1375.84 1493.95,1375.83 1495.91,1375.84 1497.87,1375.84 1499.83,1375.83 1501.79,1375.84 1503.75,1375.83 1505.71,1375.84 1507.67,1375.84 \n",
       "  1509.63,1375.83 1511.59,1375.84 1513.56,1375.83 1515.52,1375.84 1517.48,1375.84 1519.44,1375.83 1521.4,1375.84 1523.36,1375.83 1525.32,1375.84 1527.28,1375.84 \n",
       "  1529.24,1375.83 1531.2,1375.84 1533.16,1375.83 1535.12,1375.84 1537.08,1375.84 1539.05,1375.83 1541.01,1375.84 1542.97,1375.83 1544.93,1375.84 1546.89,1375.84 \n",
       "  1548.85,1375.83 1550.81,1375.84 1552.77,1375.83 1554.73,1375.84 1556.69,1375.84 1558.65,1375.83 1560.61,1375.84 1562.57,1375.83 1564.54,1375.83 1566.5,1375.84 \n",
       "  1568.46,1375.83 1570.42,1375.84 1572.38,1375.83 1574.34,1375.83 1576.3,1375.84 1578.26,1375.83 1580.22,1375.84 1582.18,1375.83 1584.14,1375.83 1586.1,1375.84 \n",
       "  1588.06,1375.83 1590.02,1375.84 1591.99,1375.84 1593.95,1375.83 1595.91,1375.84 1597.87,1375.83 1599.83,1375.84 1601.79,1375.84 1603.75,1375.83 1605.71,1375.84 \n",
       "  1607.67,1375.83 1609.63,1375.84 1611.59,1375.84 1613.55,1375.83 1615.51,1375.84 1617.48,1375.83 1619.44,1375.84 1621.4,1375.84 1623.36,1375.83 1625.32,1375.84 \n",
       "  1627.28,1375.83 1629.24,1375.84 1631.2,1375.84 1633.16,1375.83 1635.12,1375.84 1637.08,1375.83 1639.04,1375.84 1641,1375.84 1642.96,1375.83 1644.93,1375.84 \n",
       "  1646.89,1375.83 1648.85,1375.84 1650.81,1375.84 1652.77,1375.83 1654.73,1375.84 1656.69,1375.83 1658.65,1375.84 1660.61,1375.84 1662.57,1375.83 1664.53,1375.84 \n",
       "  1666.49,1375.83 1668.45,1375.84 1670.42,1375.84 1672.38,1375.83 1674.34,1375.84 1676.3,1375.83 1678.26,1375.83 1680.22,1375.84 1682.18,1375.83 1684.14,1375.84 \n",
       "  1686.1,1375.83 1688.06,1375.83 1690.02,1375.84 1691.98,1375.83 1693.94,1375.84 1695.91,1375.83 1697.87,1375.83 1699.83,1375.84 1701.79,1375.83 1703.75,1375.84 \n",
       "  1705.71,1375.84 1707.67,1375.83 1709.63,1375.84 1711.59,1375.83 1713.55,1375.84 1715.51,1375.84 1717.47,1375.83 1719.43,1375.84 1721.39,1375.83 1723.36,1375.84 \n",
       "  1725.32,1375.84 1727.28,1375.83 1729.24,1375.84 1731.2,1375.83 1733.16,1375.84 1735.12,1375.84 1737.08,1375.83 1739.04,1375.84 1741,1375.83 1742.96,1375.84 \n",
       "  1744.92,1375.84 1746.88,1375.83 1748.85,1375.84 1750.81,1375.83 1752.77,1375.84 1754.73,1375.84 1756.69,1375.83 1758.65,1375.84 1760.61,1375.83 1762.57,1375.84 \n",
       "  1764.53,1375.84 1766.49,1375.83 1768.45,1375.84 1770.41,1375.83 1772.37,1375.84 1774.34,1375.84 1776.3,1375.83 1778.26,1375.84 1780.22,1375.83 1782.18,1375.84 \n",
       "  1784.14,1375.84 1786.1,1375.83 1788.06,1375.84 1790.02,1375.83 1791.98,1375.83 1793.94,1375.84 1795.9,1375.83 1797.86,1375.84 1799.82,1375.83 1801.79,1375.83 \n",
       "  1803.75,1375.84 1805.71,1375.83 1807.67,1375.84 1809.63,1375.83 1811.59,1375.83 1813.55,1375.84 1815.51,1375.83 1817.47,1375.84 1819.43,1375.84 1821.39,1375.83 \n",
       "  1823.35,1375.84 1825.31,1375.83 1827.28,1375.84 1829.24,1375.84 1831.2,1375.83 1833.16,1375.84 1835.12,1375.83 1837.08,1375.84 1839.04,1375.84 1841,1375.83 \n",
       "  1842.96,1375.84 1844.92,1375.83 1846.88,1375.84 1848.84,1375.84 1850.8,1375.83 1852.77,1375.84 1854.73,1375.83 1856.69,1375.84 1858.65,1375.84 1860.61,1375.83 \n",
       "  1862.57,1375.84 1864.53,1375.83 1866.49,1375.84 1868.45,1375.84 1870.41,1375.83 1872.37,1375.84 1874.33,1375.83 1876.29,1375.84 1878.25,1375.84 1880.22,1375.83 \n",
       "  1882.18,1375.84 1884.14,1375.83 1886.1,1375.84 1888.06,1375.84 1890.02,1375.83 1891.98,1375.84 1893.94,1375.83 1895.9,1375.84 1897.86,1375.84 1899.82,1375.83 \n",
       "  1901.78,1375.84 1903.74,1375.83 1905.71,1375.83 1907.67,1375.84 1909.63,1375.83 1911.59,1375.84 1913.55,1375.83 1915.51,1375.83 1917.47,1375.84 1919.43,1375.83 \n",
       "  1921.39,1375.84 1923.35,1375.83 1925.31,1375.83 1927.27,1375.84 1929.23,1375.83 1931.19,1375.84 1933.16,1375.84 1935.12,1375.83 1937.08,1375.84 1939.04,1375.83 \n",
       "  1941,1375.84 1942.96,1375.84 1944.92,1375.83 1946.88,1375.84 1948.84,1375.83 1950.8,1375.84 1952.76,1375.84 1954.72,1375.83 1956.68,1375.84 1958.65,1375.83 \n",
       "  1960.61,1375.84 1962.57,1375.84 1964.53,1375.83 1966.49,1375.84 1968.45,1375.83 1970.41,1375.84 1972.37,1375.84 1974.33,1375.83 1976.29,1375.84 1978.25,1375.83 \n",
       "  1980.21,1375.84 1982.17,1375.84 1984.14,1375.83 1986.1,1375.84 1988.06,1375.83 1990.02,1375.84 1991.98,1375.84 1993.94,1375.83 1995.9,1375.84 1997.86,1375.83 \n",
       "  1999.82,1375.84 2001.78,1375.84 2003.74,1375.83 2005.7,1375.84 2007.66,1375.83 2009.62,1375.84 2011.59,1375.84 2013.55,1375.83 2015.51,1375.84 2017.47,1375.83 \n",
       "  2019.43,1375.83 2021.39,1375.84 2023.35,1375.83 2025.31,1375.84 2027.27,1375.83 2029.23,1375.83 2031.19,1375.84 2033.15,1375.83 2035.11,1375.84 2037.08,1375.83 \n",
       "  2039.04,1375.83 2041,1375.84 2042.96,1375.83 2044.92,1375.84 2046.88,1375.84 2048.84,1375.83 2050.8,1375.84 2052.76,1375.83 2054.72,1375.84 2056.68,1375.84 \n",
       "  2058.64,1375.83 2060.6,1375.84 2062.57,1375.83 2064.53,1375.84 2066.49,1375.84 2068.45,1375.83 2070.41,1375.84 2072.37,1375.83 2074.33,1375.84 2076.29,1375.84 \n",
       "  2078.25,1375.83 2080.21,1375.84 2082.17,1375.83 2084.13,1375.84 2086.09,1375.84 2088.05,1375.83 2090.02,1375.84 2091.98,1375.83 2093.94,1375.84 2095.9,1375.84 \n",
       "  2097.86,1375.83 2099.82,1375.84 2101.78,1375.83 2103.74,1375.84 2105.7,1375.84 2107.66,1375.83 2109.62,1375.84 2111.58,1375.83 2113.54,1375.84 2115.51,1375.84 \n",
       "  2117.47,1375.83 2119.43,1375.84 2121.39,1375.83 2123.35,1375.84 2125.31,1375.84 2127.27,1375.83 2129.23,1375.84 2131.19,1375.83 2133.15,1375.83 2135.11,1375.84 \n",
       "  2137.07,1375.83 2139.03,1375.84 2141,1375.83 2142.96,1375.83 2144.92,1375.84 2146.88,1375.83 2148.84,1375.84 2150.8,1375.83 2152.76,1375.83 2154.72,1375.84 \n",
       "  2156.68,1375.83 2158.64,1375.84 2160.6,1375.83 2162.56,1375.83 2164.52,1375.84 2166.48,1375.83 2168.45,1375.84 2170.41,1375.84 2172.37,1375.83 2174.33,1375.84 \n",
       "  2176.29,1375.83 2178.25,1375.84 2180.21,1375.84 2182.17,1375.83 2184.13,1375.84 2186.09,1375.83 2188.05,1375.84 2190.01,1375.84 2191.97,1375.83 2193.94,1375.84 \n",
       "  2195.9,1375.83 2197.86,1375.84 2199.82,1375.84 2201.78,1375.83 2203.74,1375.84 2205.7,1375.83 2207.66,1375.84 2209.62,1375.84 2211.58,1375.83 2213.54,1375.84 \n",
       "  2215.5,1375.83 2217.46,1375.84 2219.43,1375.84 2221.39,1375.83 2223.35,1375.84 2225.31,1375.83 2227.27,1375.84 2229.23,1375.84 2231.19,1375.83 2233.15,1375.84 \n",
       "  2235.11,1375.83 2237.07,1375.84 2239.03,1375.84 2240.99,1375.83 2242.95,1375.84 2244.91,1375.83 2246.88,1375.84 2248.84,1375.84 2250.8,1375.83 2252.76,1375.84 \n",
       "  2254.72,1375.83 2256.68,1375.83 2258.64,1375.84 2260.6,1375.83 2262.56,1375.84 2264.52,1375.83 2266.48,1375.83 2268.44,1375.84 2270.4,1375.83 2272.37,1375.84 \n",
       "  2274.33,1375.83 2276.29,1375.83 2278.25,1375.84 2280.21,1375.83 2282.17,1375.84 2284.13,1375.84 2286.09,1375.83 2288.05,1375.84 2290.01,1375.83 2291.97,1375.84 \n",
       "  2293.93,1375.83 \n",
       "  \"/>\n",
       "<path clip-path=\"url(#clip950)\" d=\"\n",
       "M1940.26 196.501 L2283.48 196.501 L2283.48 92.8206 L1940.26 92.8206  Z\n",
       "  \" fill=\"#ffffff\" fill-rule=\"evenodd\" fill-opacity=\"1\"/>\n",
       "<polyline clip-path=\"url(#clip950)\" style=\"stroke:#000000; stroke-linecap:butt; stroke-linejoin:round; stroke-width:4; stroke-opacity:1; fill:none\" points=\"\n",
       "  1940.26,196.501 2283.48,196.501 2283.48,92.8206 1940.26,92.8206 1940.26,196.501 \n",
       "  \"/>\n",
       "<polyline clip-path=\"url(#clip950)\" style=\"stroke:#009af9; stroke-linecap:butt; stroke-linejoin:round; stroke-width:4; stroke-opacity:1; fill:none\" points=\"\n",
       "  1964.26,144.661 2108.26,144.661 \n",
       "  \"/>\n",
       "<path clip-path=\"url(#clip950)\" d=\"M2160.13 130.043 L2160.13 134.973 Q2157.77 132.774 2155.08 131.686 Q2152.42 130.598 2149.41 130.598 Q2143.49 130.598 2140.34 134.232 Q2137.19 137.844 2137.19 144.695 Q2137.19 151.524 2140.34 155.158 Q2143.49 158.769 2149.41 158.769 Q2152.42 158.769 2155.08 157.681 Q2157.77 156.593 2160.13 154.394 L2160.13 159.279 Q2157.68 160.945 2154.92 161.779 Q2152.19 162.612 2149.13 162.612 Q2141.29 162.612 2136.77 157.82 Q2132.26 153.005 2132.26 144.695 Q2132.26 136.362 2136.77 131.57 Q2141.29 126.756 2149.13 126.756 Q2152.24 126.756 2154.97 127.589 Q2157.72 128.399 2160.13 130.043 Z\" fill=\"#000000\" fill-rule=\"evenodd\" fill-opacity=\"1\" /><path clip-path=\"url(#clip950)\" d=\"M2172.03 131.223 L2172.03 158.098 L2177.68 158.098 Q2184.83 158.098 2188.14 154.857 Q2191.47 151.617 2191.47 144.626 Q2191.47 137.681 2188.14 134.464 Q2184.83 131.223 2177.68 131.223 L2172.03 131.223 M2167.35 127.381 L2176.96 127.381 Q2187 127.381 2191.7 131.57 Q2196.4 135.737 2196.4 144.626 Q2196.4 153.561 2191.68 157.751 Q2186.96 161.941 2176.96 161.941 L2167.35 161.941 L2167.35 127.381 Z\" fill=\"#000000\" fill-rule=\"evenodd\" fill-opacity=\"1\" /><path clip-path=\"url(#clip950)\" d=\"M2203.86 127.381 L2210.82 127.381 L2219.64 150.899 L2228.51 127.381 L2235.48 127.381 L2235.48 161.941 L2230.92 161.941 L2230.92 131.594 L2222 155.297 L2217.3 155.297 L2208.39 131.594 L2208.39 161.941 L2203.86 161.941 L2203.86 127.381 Z\" fill=\"#000000\" fill-rule=\"evenodd\" fill-opacity=\"1\" /></svg>\n"
      ]
     },
     "execution_count": 11,
     "metadata": {},
     "output_type": "execute_result"
    }
   ],
   "source": [
    "using Plots\n",
    "\n",
    "plot(sol_CDM.t, sol_CDM[1,:], \n",
    "    label  = \"CDM\", \n",
    "    legend = true,\n",
    "    xlabel = \"Time [s]\",\n",
    "    ylabel = \"Mean gene number\",\n",
    "    lw=2,\n",
    "    legendfontsize=8,\n",
    "    xtickfontsize=10,\n",
    "    ytickfontsize=10,\n",
    "    dpi=100)"
   ]
  },
  {
   "cell_type": "code",
   "execution_count": 12,
   "metadata": {},
   "outputs": [
    {
     "data": {
      "image/svg+xml": [
       "<?xml version=\"1.0\" encoding=\"utf-8\"?>\n",
       "<svg xmlns=\"http://www.w3.org/2000/svg\" xmlns:xlink=\"http://www.w3.org/1999/xlink\" width=\"600\" height=\"400\" viewBox=\"0 0 2400 1600\">\n",
       "<defs>\n",
       "  <clipPath id=\"clip990\">\n",
       "    <rect x=\"0\" y=\"0\" width=\"2400\" height=\"1600\"/>\n",
       "  </clipPath>\n",
       "</defs>\n",
       "<path clip-path=\"url(#clip990)\" d=\"\n",
       "M0 1600 L2400 1600 L2400 0 L0 0  Z\n",
       "  \" fill=\"#ffffff\" fill-rule=\"evenodd\" fill-opacity=\"1\"/>\n",
       "<defs>\n",
       "  <clipPath id=\"clip991\">\n",
       "    <rect x=\"480\" y=\"0\" width=\"1681\" height=\"1600\"/>\n",
       "  </clipPath>\n",
       "</defs>\n",
       "<path clip-path=\"url(#clip990)\" d=\"\n",
       "M218.836 1414.54 L2352.76 1414.54 L2352.76 47.2441 L218.836 47.2441  Z\n",
       "  \" fill=\"#ffffff\" fill-rule=\"evenodd\" fill-opacity=\"1\"/>\n",
       "<defs>\n",
       "  <clipPath id=\"clip992\">\n",
       "    <rect x=\"218\" y=\"47\" width=\"2135\" height=\"1368\"/>\n",
       "  </clipPath>\n",
       "</defs>\n",
       "<polyline clip-path=\"url(#clip992)\" style=\"stroke:#000000; stroke-linecap:butt; stroke-linejoin:round; stroke-width:2; stroke-opacity:0.1; fill:none\" points=\"\n",
       "  279.23,1414.54 279.23,47.2441 \n",
       "  \"/>\n",
       "<polyline clip-path=\"url(#clip992)\" style=\"stroke:#000000; stroke-linecap:butt; stroke-linejoin:round; stroke-width:2; stroke-opacity:0.1; fill:none\" points=\"\n",
       "  782.513,1414.54 782.513,47.2441 \n",
       "  \"/>\n",
       "<polyline clip-path=\"url(#clip992)\" style=\"stroke:#000000; stroke-linecap:butt; stroke-linejoin:round; stroke-width:2; stroke-opacity:0.1; fill:none\" points=\"\n",
       "  1285.8,1414.54 1285.8,47.2441 \n",
       "  \"/>\n",
       "<polyline clip-path=\"url(#clip992)\" style=\"stroke:#000000; stroke-linecap:butt; stroke-linejoin:round; stroke-width:2; stroke-opacity:0.1; fill:none\" points=\"\n",
       "  1789.08,1414.54 1789.08,47.2441 \n",
       "  \"/>\n",
       "<polyline clip-path=\"url(#clip992)\" style=\"stroke:#000000; stroke-linecap:butt; stroke-linejoin:round; stroke-width:2; stroke-opacity:0.1; fill:none\" points=\"\n",
       "  2292.36,1414.54 2292.36,47.2441 \n",
       "  \"/>\n",
       "<polyline clip-path=\"url(#clip990)\" style=\"stroke:#000000; stroke-linecap:butt; stroke-linejoin:round; stroke-width:4; stroke-opacity:1; fill:none\" points=\"\n",
       "  218.836,1414.54 2352.76,1414.54 \n",
       "  \"/>\n",
       "<polyline clip-path=\"url(#clip990)\" style=\"stroke:#000000; stroke-linecap:butt; stroke-linejoin:round; stroke-width:4; stroke-opacity:1; fill:none\" points=\"\n",
       "  279.23,1414.54 279.23,1395.64 \n",
       "  \"/>\n",
       "<polyline clip-path=\"url(#clip990)\" style=\"stroke:#000000; stroke-linecap:butt; stroke-linejoin:round; stroke-width:4; stroke-opacity:1; fill:none\" points=\"\n",
       "  782.513,1414.54 782.513,1395.64 \n",
       "  \"/>\n",
       "<polyline clip-path=\"url(#clip990)\" style=\"stroke:#000000; stroke-linecap:butt; stroke-linejoin:round; stroke-width:4; stroke-opacity:1; fill:none\" points=\"\n",
       "  1285.8,1414.54 1285.8,1395.64 \n",
       "  \"/>\n",
       "<polyline clip-path=\"url(#clip990)\" style=\"stroke:#000000; stroke-linecap:butt; stroke-linejoin:round; stroke-width:4; stroke-opacity:1; fill:none\" points=\"\n",
       "  1789.08,1414.54 1789.08,1395.64 \n",
       "  \"/>\n",
       "<polyline clip-path=\"url(#clip990)\" style=\"stroke:#000000; stroke-linecap:butt; stroke-linejoin:round; stroke-width:4; stroke-opacity:1; fill:none\" points=\"\n",
       "  2292.36,1414.54 2292.36,1395.64 \n",
       "  \"/>\n",
       "<path clip-path=\"url(#clip990)\" d=\"M279.23 1448.39 Q274.716 1448.39 272.43 1452.84 Q270.173 1457.27 270.173 1466.18 Q270.173 1475.07 272.43 1479.52 Q274.716 1483.95 279.23 1483.95 Q283.773 1483.95 286.03 1479.52 Q288.316 1475.07 288.316 1466.18 Q288.316 1457.27 286.03 1452.84 Q283.773 1448.39 279.23 1448.39 M279.23 1443.76 Q286.493 1443.76 290.312 1449.52 Q294.161 1455.25 294.161 1466.18 Q294.161 1477.09 290.312 1482.85 Q286.493 1488.58 279.23 1488.58 Q271.967 1488.58 268.119 1482.85 Q264.3 1477.09 264.3 1466.18 Q264.3 1455.25 268.119 1449.52 Q271.967 1443.76 279.23 1443.76 Z\" fill=\"#000000\" fill-rule=\"evenodd\" fill-opacity=\"1\" /><path clip-path=\"url(#clip990)\" d=\"M737.128 1482.82 L757.528 1482.82 L757.528 1487.74 L730.097 1487.74 L730.097 1482.82 Q733.425 1479.38 739.154 1473.59 Q744.912 1467.77 746.388 1466.1 Q749.194 1462.94 750.294 1460.77 Q751.422 1458.57 751.422 1456.46 Q751.422 1453.02 748.992 1450.85 Q746.59 1448.68 742.713 1448.68 Q739.964 1448.68 736.897 1449.63 Q733.859 1450.59 730.387 1452.53 L730.387 1446.62 Q733.917 1445.21 736.984 1444.48 Q740.051 1443.76 742.597 1443.76 Q749.31 1443.76 753.303 1447.12 Q757.296 1450.47 757.296 1456.08 Q757.296 1458.75 756.283 1461.15 Q755.3 1463.52 752.667 1466.76 Q751.943 1467.6 748.066 1471.62 Q744.189 1475.62 737.128 1482.82 Z\" fill=\"#000000\" fill-rule=\"evenodd\" fill-opacity=\"1\" /><path clip-path=\"url(#clip990)\" d=\"M769.854 1444.54 L792.799 1444.54 L792.799 1449.46 L775.207 1449.46 L775.207 1460.05 Q776.48 1459.61 777.753 1459.41 Q779.026 1459.18 780.3 1459.18 Q787.533 1459.18 791.758 1463.15 Q795.982 1467.11 795.982 1473.88 Q795.982 1480.85 791.642 1484.73 Q787.302 1488.58 779.403 1488.58 Q776.683 1488.58 773.847 1488.12 Q771.04 1487.65 768.031 1486.73 L768.031 1480.85 Q770.635 1482.27 773.413 1482.97 Q776.191 1483.66 779.287 1483.66 Q784.293 1483.66 787.215 1481.03 Q790.137 1478.39 790.137 1473.88 Q790.137 1469.37 787.215 1466.73 Q784.293 1464.1 779.287 1464.1 Q776.943 1464.1 774.599 1464.62 Q772.285 1465.14 769.854 1466.24 L769.854 1444.54 Z\" fill=\"#000000\" fill-rule=\"evenodd\" fill-opacity=\"1\" /><path clip-path=\"url(#clip990)\" d=\"M819.998 1448.39 Q815.485 1448.39 813.199 1452.84 Q810.942 1457.27 810.942 1466.18 Q810.942 1475.07 813.199 1479.52 Q815.485 1483.95 819.998 1483.95 Q824.541 1483.95 826.798 1479.52 Q829.084 1475.07 829.084 1466.18 Q829.084 1457.27 826.798 1452.84 Q824.541 1448.39 819.998 1448.39 M819.998 1443.76 Q827.261 1443.76 831.081 1449.52 Q834.929 1455.25 834.929 1466.18 Q834.929 1477.09 831.081 1482.85 Q827.261 1488.58 819.998 1488.58 Q812.736 1488.58 808.887 1482.85 Q805.068 1477.09 805.068 1466.18 Q805.068 1455.25 808.887 1449.52 Q812.736 1443.76 819.998 1443.76 Z\" fill=\"#000000\" fill-rule=\"evenodd\" fill-opacity=\"1\" /><path clip-path=\"url(#clip990)\" d=\"M1235.32 1444.54 L1258.26 1444.54 L1258.26 1449.46 L1240.67 1449.46 L1240.67 1460.05 Q1241.95 1459.61 1243.22 1459.41 Q1244.49 1459.18 1245.76 1459.18 Q1253 1459.18 1257.22 1463.15 Q1261.45 1467.11 1261.45 1473.88 Q1261.45 1480.85 1257.11 1484.73 Q1252.77 1488.58 1244.87 1488.58 Q1242.15 1488.58 1239.31 1488.12 Q1236.51 1487.65 1233.5 1486.73 L1233.5 1480.85 Q1236.1 1482.27 1238.88 1482.97 Q1241.66 1483.66 1244.75 1483.66 Q1249.76 1483.66 1252.68 1481.03 Q1255.6 1478.39 1255.6 1473.88 Q1255.6 1469.37 1252.68 1466.73 Q1249.76 1464.1 1244.75 1464.1 Q1242.41 1464.1 1240.06 1464.62 Q1237.75 1465.14 1235.32 1466.24 L1235.32 1444.54 Z\" fill=\"#000000\" fill-rule=\"evenodd\" fill-opacity=\"1\" /><path clip-path=\"url(#clip990)\" d=\"M1285.46 1448.39 Q1280.95 1448.39 1278.66 1452.84 Q1276.41 1457.27 1276.41 1466.18 Q1276.41 1475.07 1278.66 1479.52 Q1280.95 1483.95 1285.46 1483.95 Q1290.01 1483.95 1292.26 1479.52 Q1294.55 1475.07 1294.55 1466.18 Q1294.55 1457.27 1292.26 1452.84 Q1290.01 1448.39 1285.46 1448.39 M1285.46 1443.76 Q1292.73 1443.76 1296.55 1449.52 Q1300.39 1455.25 1300.39 1466.18 Q1300.39 1477.09 1296.55 1482.85 Q1292.73 1488.58 1285.46 1488.58 Q1278.2 1488.58 1274.35 1482.85 Q1270.53 1477.09 1270.53 1466.18 Q1270.53 1455.25 1274.35 1449.52 Q1278.2 1443.76 1285.46 1443.76 Z\" fill=\"#000000\" fill-rule=\"evenodd\" fill-opacity=\"1\" /><path clip-path=\"url(#clip990)\" d=\"M1323.17 1448.39 Q1318.65 1448.39 1316.37 1452.84 Q1314.11 1457.27 1314.11 1466.18 Q1314.11 1475.07 1316.37 1479.52 Q1318.65 1483.95 1323.17 1483.95 Q1327.71 1483.95 1329.97 1479.52 Q1332.25 1475.07 1332.25 1466.18 Q1332.25 1457.27 1329.97 1452.84 Q1327.71 1448.39 1323.17 1448.39 M1323.17 1443.76 Q1330.43 1443.76 1334.25 1449.52 Q1338.1 1455.25 1338.1 1466.18 Q1338.1 1477.09 1334.25 1482.85 Q1330.43 1488.58 1323.17 1488.58 Q1315.9 1488.58 1312.05 1482.85 Q1308.24 1477.09 1308.24 1466.18 Q1308.24 1455.25 1312.05 1449.52 Q1315.9 1443.76 1323.17 1443.76 Z\" fill=\"#000000\" fill-rule=\"evenodd\" fill-opacity=\"1\" /><path clip-path=\"url(#clip990)\" d=\"M1736.92 1444.54 L1764.7 1444.54 L1764.7 1447.03 L1749.02 1487.74 L1742.91 1487.74 L1757.67 1449.46 L1736.92 1449.46 L1736.92 1444.54 Z\" fill=\"#000000\" fill-rule=\"evenodd\" fill-opacity=\"1\" /><path clip-path=\"url(#clip990)\" d=\"M1776.16 1444.54 L1799.1 1444.54 L1799.1 1449.46 L1781.51 1449.46 L1781.51 1460.05 Q1782.79 1459.61 1784.06 1459.41 Q1785.33 1459.18 1786.61 1459.18 Q1793.84 1459.18 1798.06 1463.15 Q1802.29 1467.11 1802.29 1473.88 Q1802.29 1480.85 1797.95 1484.73 Q1793.61 1488.58 1785.71 1488.58 Q1782.99 1488.58 1780.15 1488.12 Q1777.35 1487.65 1774.34 1486.73 L1774.34 1480.85 Q1776.94 1482.27 1779.72 1482.97 Q1782.5 1483.66 1785.59 1483.66 Q1790.6 1483.66 1793.52 1481.03 Q1796.44 1478.39 1796.44 1473.88 Q1796.44 1469.37 1793.52 1466.73 Q1790.6 1464.1 1785.59 1464.1 Q1783.25 1464.1 1780.9 1464.62 Q1778.59 1465.14 1776.16 1466.24 L1776.16 1444.54 Z\" fill=\"#000000\" fill-rule=\"evenodd\" fill-opacity=\"1\" /><path clip-path=\"url(#clip990)\" d=\"M1826.3 1448.39 Q1821.79 1448.39 1819.5 1452.84 Q1817.25 1457.27 1817.25 1466.18 Q1817.25 1475.07 1819.5 1479.52 Q1821.79 1483.95 1826.3 1483.95 Q1830.85 1483.95 1833.1 1479.52 Q1835.39 1475.07 1835.39 1466.18 Q1835.39 1457.27 1833.1 1452.84 Q1830.85 1448.39 1826.3 1448.39 M1826.3 1443.76 Q1833.57 1443.76 1837.39 1449.52 Q1841.23 1455.25 1841.23 1466.18 Q1841.23 1477.09 1837.39 1482.85 Q1833.57 1488.58 1826.3 1488.58 Q1819.04 1488.58 1815.19 1482.85 Q1811.37 1477.09 1811.37 1466.18 Q1811.37 1455.25 1815.19 1449.52 Q1819.04 1443.76 1826.3 1443.76 Z\" fill=\"#000000\" fill-rule=\"evenodd\" fill-opacity=\"1\" /><path clip-path=\"url(#clip990)\" d=\"M2223.02 1482.82 L2232.57 1482.82 L2232.57 1449.86 L2222.18 1451.95 L2222.18 1446.62 L2232.51 1444.54 L2238.35 1444.54 L2238.35 1482.82 L2247.9 1482.82 L2247.9 1487.74 L2223.02 1487.74 L2223.02 1482.82 Z\" fill=\"#000000\" fill-rule=\"evenodd\" fill-opacity=\"1\" /><path clip-path=\"url(#clip990)\" d=\"M2272.21 1448.39 Q2267.69 1448.39 2265.41 1452.84 Q2263.15 1457.27 2263.15 1466.18 Q2263.15 1475.07 2265.41 1479.52 Q2267.69 1483.95 2272.21 1483.95 Q2276.75 1483.95 2279.01 1479.52 Q2281.29 1475.07 2281.29 1466.18 Q2281.29 1457.27 2279.01 1452.84 Q2276.75 1448.39 2272.21 1448.39 M2272.21 1443.76 Q2279.47 1443.76 2283.29 1449.52 Q2287.14 1455.25 2287.14 1466.18 Q2287.14 1477.09 2283.29 1482.85 Q2279.47 1488.58 2272.21 1488.58 Q2264.95 1488.58 2261.1 1482.85 Q2257.28 1477.09 2257.28 1466.18 Q2257.28 1455.25 2261.1 1449.52 Q2264.95 1443.76 2272.21 1443.76 Z\" fill=\"#000000\" fill-rule=\"evenodd\" fill-opacity=\"1\" /><path clip-path=\"url(#clip990)\" d=\"M2309.91 1448.39 Q2305.4 1448.39 2303.11 1452.84 Q2300.85 1457.27 2300.85 1466.18 Q2300.85 1475.07 2303.11 1479.52 Q2305.4 1483.95 2309.91 1483.95 Q2314.45 1483.95 2316.71 1479.52 Q2319 1475.07 2319 1466.18 Q2319 1457.27 2316.71 1452.84 Q2314.45 1448.39 2309.91 1448.39 M2309.91 1443.76 Q2317.17 1443.76 2320.99 1449.52 Q2324.84 1455.25 2324.84 1466.18 Q2324.84 1477.09 2320.99 1482.85 Q2317.17 1488.58 2309.91 1488.58 Q2302.65 1488.58 2298.8 1482.85 Q2294.98 1477.09 2294.98 1466.18 Q2294.98 1455.25 2298.8 1449.52 Q2302.65 1443.76 2309.91 1443.76 Z\" fill=\"#000000\" fill-rule=\"evenodd\" fill-opacity=\"1\" /><path clip-path=\"url(#clip990)\" d=\"M2347.61 1448.39 Q2343.1 1448.39 2340.81 1452.84 Q2338.56 1457.27 2338.56 1466.18 Q2338.56 1475.07 2340.81 1479.52 Q2343.1 1483.95 2347.61 1483.95 Q2352.16 1483.95 2354.41 1479.52 Q2356.7 1475.07 2356.7 1466.18 Q2356.7 1457.27 2354.41 1452.84 Q2352.16 1448.39 2347.61 1448.39 M2347.61 1443.76 Q2354.88 1443.76 2358.7 1449.52 Q2362.54 1455.25 2362.54 1466.18 Q2362.54 1477.09 2358.7 1482.85 Q2354.88 1488.58 2347.61 1488.58 Q2340.35 1488.58 2336.5 1482.85 Q2332.68 1477.09 2332.68 1466.18 Q2332.68 1455.25 2336.5 1449.52 Q2340.35 1443.76 2347.61 1443.76 Z\" fill=\"#000000\" fill-rule=\"evenodd\" fill-opacity=\"1\" /><path clip-path=\"url(#clip990)\" d=\"M1155.97 1524.84 L1196.17 1524.84 L1196.17 1530.25 L1179.3 1530.25 L1179.3 1572.36 L1172.84 1572.36 L1172.84 1530.25 L1155.97 1530.25 L1155.97 1524.84 Z\" fill=\"#000000\" fill-rule=\"evenodd\" fill-opacity=\"1\" /><path clip-path=\"url(#clip990)\" d=\"M1200.11 1536.72 L1205.97 1536.72 L1205.97 1572.36 L1200.11 1572.36 L1200.11 1536.72 M1200.11 1522.84 L1205.97 1522.84 L1205.97 1530.25 L1200.11 1530.25 L1200.11 1522.84 Z\" fill=\"#000000\" fill-rule=\"evenodd\" fill-opacity=\"1\" /><path clip-path=\"url(#clip990)\" d=\"M1245.98 1543.56 Q1248.17 1539.61 1251.23 1537.73 Q1254.29 1535.86 1258.42 1535.86 Q1263.99 1535.86 1267.02 1539.77 Q1270.04 1543.65 1270.04 1550.85 L1270.04 1572.36 L1264.15 1572.36 L1264.15 1551.04 Q1264.15 1545.91 1262.34 1543.43 Q1260.52 1540.95 1256.8 1540.95 Q1252.25 1540.95 1249.61 1543.97 Q1246.97 1547 1246.97 1552.22 L1246.97 1572.36 L1241.08 1572.36 L1241.08 1551.04 Q1241.08 1545.88 1239.26 1543.43 Q1237.45 1540.95 1233.66 1540.95 Q1229.17 1540.95 1226.53 1544 Q1223.89 1547.03 1223.89 1552.22 L1223.89 1572.36 L1218 1572.36 L1218 1536.72 L1223.89 1536.72 L1223.89 1542.25 Q1225.89 1538.98 1228.7 1537.42 Q1231.5 1535.86 1235.35 1535.86 Q1239.23 1535.86 1241.94 1537.83 Q1244.67 1539.8 1245.98 1543.56 Z\" fill=\"#000000\" fill-rule=\"evenodd\" fill-opacity=\"1\" /><path clip-path=\"url(#clip990)\" d=\"M1312.21 1553.08 L1312.21 1555.94 L1285.29 1555.94 Q1285.67 1561.99 1288.92 1565.17 Q1292.19 1568.32 1298.02 1568.32 Q1301.39 1568.32 1304.54 1567.49 Q1307.73 1566.67 1310.85 1565.01 L1310.85 1570.55 Q1307.69 1571.89 1304.38 1572.59 Q1301.07 1573.29 1297.67 1573.29 Q1289.14 1573.29 1284.14 1568.32 Q1279.18 1563.36 1279.18 1554.89 Q1279.18 1546.14 1283.89 1541.01 Q1288.63 1535.86 1296.65 1535.86 Q1303.84 1535.86 1308.01 1540.5 Q1312.21 1545.12 1312.21 1553.08 M1306.36 1551.36 Q1306.29 1546.55 1303.65 1543.69 Q1301.04 1540.82 1296.71 1540.82 Q1291.81 1540.82 1288.85 1543.59 Q1285.92 1546.36 1285.48 1551.39 L1306.36 1551.36 Z\" fill=\"#000000\" fill-rule=\"evenodd\" fill-opacity=\"1\" /><path clip-path=\"url(#clip990)\" d=\"M1342.01 1522.84 L1355.5 1522.84 L1355.5 1527.39 L1347.86 1527.39 L1347.86 1576.41 L1355.5 1576.41 L1355.5 1580.96 L1342.01 1580.96 L1342.01 1522.84 Z\" fill=\"#000000\" fill-rule=\"evenodd\" fill-opacity=\"1\" /><path clip-path=\"url(#clip990)\" d=\"M1390.7 1537.77 L1390.7 1543.3 Q1388.22 1542.03 1385.55 1541.39 Q1382.87 1540.76 1380.01 1540.76 Q1375.65 1540.76 1373.45 1542.09 Q1371.29 1543.43 1371.29 1546.11 Q1371.29 1548.14 1372.85 1549.32 Q1374.41 1550.47 1379.12 1551.52 L1381.12 1551.96 Q1387.36 1553.3 1389.97 1555.75 Q1392.61 1558.17 1392.61 1562.53 Q1392.61 1567.49 1388.67 1570.39 Q1384.75 1573.29 1377.88 1573.29 Q1375.01 1573.29 1371.89 1572.71 Q1368.8 1572.17 1365.37 1571.06 L1365.37 1565.01 Q1368.61 1566.7 1371.76 1567.56 Q1374.92 1568.39 1378 1568.39 Q1382.14 1568.39 1384.37 1566.98 Q1386.6 1565.55 1386.6 1562.97 Q1386.6 1560.59 1384.97 1559.31 Q1383.38 1558.04 1377.94 1556.86 L1375.9 1556.39 Q1370.46 1555.24 1368.04 1552.88 Q1365.62 1550.5 1365.62 1546.36 Q1365.62 1541.33 1369.19 1538.59 Q1372.75 1535.86 1379.31 1535.86 Q1382.55 1535.86 1385.42 1536.33 Q1388.28 1536.81 1390.7 1537.77 Z\" fill=\"#000000\" fill-rule=\"evenodd\" fill-opacity=\"1\" /><path clip-path=\"url(#clip990)\" d=\"M1415.62 1522.84 L1415.62 1580.96 L1402.13 1580.96 L1402.13 1576.41 L1409.74 1576.41 L1409.74 1527.39 L1402.13 1527.39 L1402.13 1522.84 L1415.62 1522.84 Z\" fill=\"#000000\" fill-rule=\"evenodd\" fill-opacity=\"1\" /><polyline clip-path=\"url(#clip992)\" style=\"stroke:#000000; stroke-linecap:butt; stroke-linejoin:round; stroke-width:2; stroke-opacity:0.1; fill:none\" points=\"\n",
       "  218.836,1375.88 2352.76,1375.88 \n",
       "  \"/>\n",
       "<polyline clip-path=\"url(#clip992)\" style=\"stroke:#000000; stroke-linecap:butt; stroke-linejoin:round; stroke-width:2; stroke-opacity:0.1; fill:none\" points=\"\n",
       "  218.836,1044.89 2352.76,1044.89 \n",
       "  \"/>\n",
       "<polyline clip-path=\"url(#clip992)\" style=\"stroke:#000000; stroke-linecap:butt; stroke-linejoin:round; stroke-width:2; stroke-opacity:0.1; fill:none\" points=\"\n",
       "  218.836,713.908 2352.76,713.908 \n",
       "  \"/>\n",
       "<polyline clip-path=\"url(#clip992)\" style=\"stroke:#000000; stroke-linecap:butt; stroke-linejoin:round; stroke-width:2; stroke-opacity:0.1; fill:none\" points=\"\n",
       "  218.836,382.924 2352.76,382.924 \n",
       "  \"/>\n",
       "<polyline clip-path=\"url(#clip992)\" style=\"stroke:#000000; stroke-linecap:butt; stroke-linejoin:round; stroke-width:2; stroke-opacity:0.1; fill:none\" points=\"\n",
       "  218.836,51.9405 2352.76,51.9405 \n",
       "  \"/>\n",
       "<polyline clip-path=\"url(#clip990)\" style=\"stroke:#000000; stroke-linecap:butt; stroke-linejoin:round; stroke-width:4; stroke-opacity:1; fill:none\" points=\"\n",
       "  218.836,1414.54 218.836,47.2441 \n",
       "  \"/>\n",
       "<polyline clip-path=\"url(#clip990)\" style=\"stroke:#000000; stroke-linecap:butt; stroke-linejoin:round; stroke-width:4; stroke-opacity:1; fill:none\" points=\"\n",
       "  218.836,1375.88 237.734,1375.88 \n",
       "  \"/>\n",
       "<polyline clip-path=\"url(#clip990)\" style=\"stroke:#000000; stroke-linecap:butt; stroke-linejoin:round; stroke-width:4; stroke-opacity:1; fill:none\" points=\"\n",
       "  218.836,1044.89 237.734,1044.89 \n",
       "  \"/>\n",
       "<polyline clip-path=\"url(#clip990)\" style=\"stroke:#000000; stroke-linecap:butt; stroke-linejoin:round; stroke-width:4; stroke-opacity:1; fill:none\" points=\"\n",
       "  218.836,713.908 237.734,713.908 \n",
       "  \"/>\n",
       "<polyline clip-path=\"url(#clip990)\" style=\"stroke:#000000; stroke-linecap:butt; stroke-linejoin:round; stroke-width:4; stroke-opacity:1; fill:none\" points=\"\n",
       "  218.836,382.924 237.734,382.924 \n",
       "  \"/>\n",
       "<polyline clip-path=\"url(#clip990)\" style=\"stroke:#000000; stroke-linecap:butt; stroke-linejoin:round; stroke-width:4; stroke-opacity:1; fill:none\" points=\"\n",
       "  218.836,51.9405 237.734,51.9405 \n",
       "  \"/>\n",
       "<path clip-path=\"url(#clip990)\" d=\"M167.906 1358.12 Q163.392 1358.12 161.106 1362.58 Q158.849 1367.01 158.849 1375.92 Q158.849 1384.8 161.106 1389.26 Q163.392 1393.69 167.906 1393.69 Q172.449 1393.69 174.705 1389.26 Q176.991 1384.8 176.991 1375.92 Q176.991 1367.01 174.705 1362.58 Q172.449 1358.12 167.906 1358.12 M167.906 1353.49 Q175.168 1353.49 178.988 1359.25 Q182.836 1364.98 182.836 1375.92 Q182.836 1386.83 178.988 1392.59 Q175.168 1398.32 167.906 1398.32 Q160.643 1398.32 156.795 1392.59 Q152.975 1386.83 152.975 1375.92 Q152.975 1364.98 156.795 1359.25 Q160.643 1353.49 167.906 1353.49 Z\" fill=\"#000000\" fill-rule=\"evenodd\" fill-opacity=\"1\" /><path clip-path=\"url(#clip990)\" d=\"M118.716 1061.57 L128.265 1061.57 L128.265 1028.62 L117.877 1030.7 L117.877 1025.38 L128.207 1023.29 L134.052 1023.29 L134.052 1061.57 L143.6 1061.57 L143.6 1066.49 L118.716 1066.49 L118.716 1061.57 Z\" fill=\"#000000\" fill-rule=\"evenodd\" fill-opacity=\"1\" /><path clip-path=\"url(#clip990)\" d=\"M167.906 1027.14 Q163.392 1027.14 161.106 1031.6 Q158.849 1036.02 158.849 1044.94 Q158.849 1053.82 161.106 1058.27 Q163.392 1062.7 167.906 1062.7 Q172.449 1062.7 174.705 1058.27 Q176.991 1053.82 176.991 1044.94 Q176.991 1036.02 174.705 1031.6 Q172.449 1027.14 167.906 1027.14 M167.906 1022.51 Q175.168 1022.51 178.988 1028.27 Q182.836 1034 182.836 1044.94 Q182.836 1055.84 178.988 1061.6 Q175.168 1067.33 167.906 1067.33 Q160.643 1067.33 156.795 1061.6 Q152.975 1055.84 152.975 1044.94 Q152.975 1034 156.795 1028.27 Q160.643 1022.51 167.906 1022.51 Z\" fill=\"#000000\" fill-rule=\"evenodd\" fill-opacity=\"1\" /><path clip-path=\"url(#clip990)\" d=\"M122.738 730.589 L143.137 730.589 L143.137 735.508 L115.707 735.508 L115.707 730.589 Q119.034 727.146 124.764 721.359 Q130.522 715.543 131.997 713.865 Q134.804 710.711 135.904 708.541 Q137.032 706.342 137.032 704.229 Q137.032 700.786 134.601 698.616 Q132.2 696.446 128.323 696.446 Q125.574 696.446 122.507 697.401 Q119.468 698.356 115.996 700.294 L115.996 694.391 Q119.526 692.974 122.593 692.25 Q125.661 691.527 128.207 691.527 Q134.92 691.527 138.913 694.883 Q142.906 698.24 142.906 703.853 Q142.906 706.515 141.893 708.917 Q140.909 711.29 138.276 714.53 Q137.553 715.369 133.676 719.391 Q129.798 723.384 122.738 730.589 Z\" fill=\"#000000\" fill-rule=\"evenodd\" fill-opacity=\"1\" /><path clip-path=\"url(#clip990)\" d=\"M167.906 696.157 Q163.392 696.157 161.106 700.613 Q158.849 705.04 158.849 713.952 Q158.849 722.835 161.106 727.291 Q163.392 731.718 167.906 731.718 Q172.449 731.718 174.705 727.291 Q176.991 722.835 176.991 713.952 Q176.991 705.04 174.705 700.613 Q172.449 696.157 167.906 696.157 M167.906 691.527 Q175.168 691.527 178.988 697.285 Q182.836 703.014 182.836 713.952 Q182.836 724.86 178.988 730.618 Q175.168 736.347 167.906 736.347 Q160.643 736.347 156.795 730.618 Q152.975 724.86 152.975 713.952 Q152.975 703.014 156.795 697.285 Q160.643 691.527 167.906 691.527 Z\" fill=\"#000000\" fill-rule=\"evenodd\" fill-opacity=\"1\" /><path clip-path=\"url(#clip990)\" d=\"M135.412 381.232 Q139.607 382.129 141.951 384.964 Q144.324 387.8 144.324 391.967 Q144.324 398.361 139.926 401.862 Q135.527 405.363 127.426 405.363 Q124.706 405.363 121.812 404.814 Q118.948 404.293 115.881 403.222 L115.881 397.58 Q118.311 398.998 121.205 399.721 Q124.098 400.444 127.252 400.444 Q132.75 400.444 135.614 398.274 Q138.508 396.104 138.508 391.967 Q138.508 388.147 135.817 386.006 Q133.155 383.836 128.38 383.836 L123.346 383.836 L123.346 379.033 L128.612 379.033 Q132.923 379.033 135.209 377.325 Q137.495 375.589 137.495 372.349 Q137.495 369.021 135.122 367.256 Q132.779 365.462 128.38 365.462 Q125.979 365.462 123.23 365.983 Q120.481 366.504 117.183 367.603 L117.183 362.395 Q120.51 361.469 123.404 361.006 Q126.326 360.543 128.901 360.543 Q135.556 360.543 139.434 363.581 Q143.311 366.59 143.311 371.741 Q143.311 375.329 141.257 377.817 Q139.202 380.277 135.412 381.232 Z\" fill=\"#000000\" fill-rule=\"evenodd\" fill-opacity=\"1\" /><path clip-path=\"url(#clip990)\" d=\"M167.906 365.173 Q163.392 365.173 161.106 369.629 Q158.849 374.056 158.849 382.968 Q158.849 391.851 161.106 396.307 Q163.392 400.734 167.906 400.734 Q172.449 400.734 174.705 396.307 Q176.991 391.851 176.991 382.968 Q176.991 374.056 174.705 369.629 Q172.449 365.173 167.906 365.173 M167.906 360.543 Q175.168 360.543 178.988 366.301 Q182.836 372.03 182.836 382.968 Q182.836 393.876 178.988 399.634 Q175.168 405.363 167.906 405.363 Q160.643 405.363 156.795 399.634 Q152.975 393.876 152.975 382.968 Q152.975 372.03 156.795 366.301 Q160.643 360.543 167.906 360.543 Z\" fill=\"#000000\" fill-rule=\"evenodd\" fill-opacity=\"1\" /><path clip-path=\"url(#clip990)\" d=\"M133.762 35.433 L119.006 58.4942 L133.762 58.4942 L133.762 35.433 M132.229 30.3405 L139.578 30.3405 L139.578 58.4942 L145.741 58.4942 L145.741 63.3553 L139.578 63.3553 L139.578 73.5405 L133.762 73.5405 L133.762 63.3553 L114.26 63.3553 L114.26 57.713 L132.229 30.3405 Z\" fill=\"#000000\" fill-rule=\"evenodd\" fill-opacity=\"1\" /><path clip-path=\"url(#clip990)\" d=\"M167.906 34.1888 Q163.392 34.1888 161.106 38.6448 Q158.849 43.0719 158.849 51.9839 Q158.849 60.8669 161.106 65.3229 Q163.392 69.75 167.906 69.75 Q172.449 69.75 174.705 65.3229 Q176.991 60.8669 176.991 51.9839 Q176.991 43.0719 174.705 38.6448 Q172.449 34.1888 167.906 34.1888 M167.906 29.5592 Q175.168 29.5592 178.988 35.3173 Q182.836 41.0464 182.836 51.9839 Q182.836 62.8924 178.988 68.6504 Q175.168 74.3796 167.906 74.3796 Q160.643 74.3796 156.795 68.6504 Q152.975 62.8924 152.975 51.9839 Q152.975 41.0464 156.795 35.3173 Q160.643 29.5592 167.906 29.5592 Z\" fill=\"#000000\" fill-rule=\"evenodd\" fill-opacity=\"1\" /><path clip-path=\"url(#clip990)\" d=\"M16.4842 1080.27 L16.4842 1070.69 L48.8219 1058.57 L16.4842 1046.38 L16.4842 1036.8 L64.0042 1036.8 L64.0042 1043.07 L22.277 1043.07 L54.8694 1055.32 L54.8694 1061.78 L22.277 1074.04 L64.0042 1074.04 L64.0042 1080.27 L16.4842 1080.27 Z\" fill=\"#000000\" fill-rule=\"evenodd\" fill-opacity=\"1\" /><path clip-path=\"url(#clip990)\" d=\"M44.7161 993.796 L47.5806 993.796 L47.5806 1020.72 Q53.6281 1020.34 56.8109 1017.09 Q59.9619 1013.82 59.9619 1007.99 Q59.9619 1004.62 59.1344 1001.47 Q58.3069 998.283 56.6518 995.164 L62.1899 995.164 Q63.5267 998.315 64.227 1001.63 Q64.9272 1004.94 64.9272 1008.34 Q64.9272 1016.87 59.9619 1021.87 Q54.9967 1026.83 46.5303 1026.83 Q37.7774 1026.83 32.6531 1022.12 Q27.4968 1017.38 27.4968 1009.36 Q27.4968 1002.17 32.1438 997.997 Q36.7589 993.796 44.7161 993.796 M42.9973 999.652 Q38.1912 999.716 35.3266 1002.36 Q32.4621 1004.97 32.4621 1009.3 Q32.4621 1014.2 35.2312 1017.16 Q38.0002 1020.09 43.0292 1020.53 L42.9973 999.652 Z\" fill=\"#000000\" fill-rule=\"evenodd\" fill-opacity=\"1\" /><path clip-path=\"url(#clip990)\" d=\"M46.0847 967.983 Q46.0847 975.08 47.7079 977.818 Q49.3312 980.555 53.2461 980.555 Q56.3653 980.555 58.2114 978.518 Q60.0256 976.449 60.0256 972.916 Q60.0256 968.046 56.5881 965.118 Q53.1188 962.158 47.3897 962.158 L46.0847 962.158 L46.0847 967.983 M43.6657 956.302 L64.0042 956.302 L64.0042 962.158 L58.5933 962.158 Q61.8398 964.163 63.3994 967.155 Q64.9272 970.147 64.9272 974.476 Q64.9272 979.95 61.8716 983.197 Q58.7843 986.411 53.6281 986.411 Q47.6125 986.411 44.5569 982.401 Q41.5014 978.359 41.5014 970.37 L41.5014 962.158 L40.9285 962.158 Q36.8862 962.158 34.6901 964.832 Q32.4621 967.473 32.4621 972.28 Q32.4621 975.335 33.1941 978.231 Q33.9262 981.128 35.3903 983.801 L29.9795 983.801 Q28.7381 980.587 28.1334 977.563 Q27.4968 974.539 27.4968 971.675 Q27.4968 963.94 31.5072 960.121 Q35.5176 956.302 43.6657 956.302 Z\" fill=\"#000000\" fill-rule=\"evenodd\" fill-opacity=\"1\" /><path clip-path=\"url(#clip990)\" d=\"M42.4881 914.606 L64.0042 914.606 L64.0042 920.463 L42.679 920.463 Q37.6183 920.463 35.1038 922.436 Q32.5894 924.409 32.5894 928.356 Q32.5894 933.099 35.6131 935.836 Q38.6368 938.573 43.8567 938.573 L64.0042 938.573 L64.0042 944.461 L28.3562 944.461 L28.3562 938.573 L33.8944 938.573 Q30.6797 936.472 29.0883 933.64 Q27.4968 930.775 27.4968 927.051 Q27.4968 920.908 31.3163 917.757 Q35.1038 914.606 42.4881 914.606 Z\" fill=\"#000000\" fill-rule=\"evenodd\" fill-opacity=\"1\" /><path clip-path=\"url(#clip990)\" d=\"M58.657 876.539 L77.5631 876.539 L77.5631 882.428 L28.3562 882.428 L28.3562 876.539 L33.7671 876.539 Q30.5842 874.693 29.0564 871.892 Q27.4968 869.06 27.4968 865.145 Q27.4968 858.652 32.6531 854.609 Q37.8093 850.535 46.212 850.535 Q54.6147 850.535 59.771 854.609 Q64.9272 858.652 64.9272 865.145 Q64.9272 869.06 63.3994 871.892 Q61.8398 874.693 58.657 876.539 M46.212 856.615 Q39.7508 856.615 36.0905 859.288 Q32.3984 861.93 32.3984 866.577 Q32.3984 871.224 36.0905 873.898 Q39.7508 876.539 46.212 876.539 Q52.6732 876.539 56.3653 873.898 Q60.0256 871.224 60.0256 866.577 Q60.0256 861.93 56.3653 859.288 Q52.6732 856.615 46.212 856.615 Z\" fill=\"#000000\" fill-rule=\"evenodd\" fill-opacity=\"1\" /><path clip-path=\"url(#clip990)\" d=\"M33.8307 820.171 Q33.2578 821.158 33.0032 822.335 Q32.7167 823.481 32.7167 824.882 Q32.7167 829.847 35.9632 832.52 Q39.1779 835.162 45.2253 835.162 L64.0042 835.162 L64.0042 841.051 L28.3562 841.051 L28.3562 835.162 L33.8944 835.162 Q30.6479 833.316 29.0883 830.356 Q27.4968 827.396 27.4968 823.163 Q27.4968 822.558 27.5923 821.826 Q27.656 821.094 27.8151 820.203 L33.8307 820.171 Z\" fill=\"#000000\" fill-rule=\"evenodd\" fill-opacity=\"1\" /><path clip-path=\"url(#clip990)\" d=\"M32.4621 801.647 Q32.4621 806.357 36.1542 809.095 Q39.8145 811.832 46.212 811.832 Q52.6095 811.832 56.3017 809.127 Q59.9619 806.389 59.9619 801.647 Q59.9619 796.968 56.2698 794.231 Q52.5777 791.493 46.212 791.493 Q39.8781 791.493 36.186 794.231 Q32.4621 796.968 32.4621 801.647 M27.4968 801.647 Q27.4968 794.008 32.4621 789.647 Q37.4273 785.287 46.212 785.287 Q54.9649 785.287 59.9619 789.647 Q64.9272 794.008 64.9272 801.647 Q64.9272 809.317 59.9619 813.678 Q54.9649 818.007 46.212 818.007 Q37.4273 818.007 32.4621 813.678 Q27.4968 809.317 27.4968 801.647 Z\" fill=\"#000000\" fill-rule=\"evenodd\" fill-opacity=\"1\" /><path clip-path=\"url(#clip990)\" d=\"M18.2347 769.786 L28.3562 769.786 L28.3562 757.723 L32.9077 757.723 L32.9077 769.786 L52.2594 769.786 Q56.6199 769.786 57.8613 768.609 Q59.1026 767.399 59.1026 763.739 L59.1026 757.723 L64.0042 757.723 L64.0042 763.739 Q64.0042 770.518 61.4897 773.097 Q58.9434 775.675 52.2594 775.675 L32.9077 775.675 L32.9077 779.972 L28.3562 779.972 L28.3562 775.675 L18.2347 775.675 L18.2347 769.786 Z\" fill=\"#000000\" fill-rule=\"evenodd\" fill-opacity=\"1\" /><path clip-path=\"url(#clip990)\" d=\"M44.7161 719.529 L47.5806 719.529 L47.5806 746.456 Q53.6281 746.074 56.8109 742.828 Q59.9619 739.549 59.9619 733.725 Q59.9619 730.351 59.1344 727.2 Q58.3069 724.017 56.6518 720.898 L62.1899 720.898 Q63.5267 724.049 64.227 727.359 Q64.9272 730.669 64.9272 734.075 Q64.9272 742.605 59.9619 747.602 Q54.9967 752.567 46.5303 752.567 Q37.7774 752.567 32.6531 747.857 Q27.4968 743.114 27.4968 735.093 Q27.4968 727.9 32.1438 723.731 Q36.7589 719.529 44.7161 719.529 M42.9973 725.386 Q38.1912 725.449 35.3266 728.091 Q32.4621 730.701 32.4621 735.03 Q32.4621 739.931 35.2312 742.891 Q38.0002 745.82 43.0292 746.265 L42.9973 725.386 Z\" fill=\"#000000\" fill-rule=\"evenodd\" fill-opacity=\"1\" /><path clip-path=\"url(#clip990)\" d=\"M28.3562 709.917 L28.3562 704.061 L64.0042 704.061 L64.0042 709.917 L28.3562 709.917 M14.479 709.917 L14.479 704.061 L21.895 704.061 L21.895 709.917 L14.479 709.917 Z\" fill=\"#000000\" fill-rule=\"evenodd\" fill-opacity=\"1\" /><path clip-path=\"url(#clip990)\" d=\"M42.4881 662.174 L64.0042 662.174 L64.0042 668.031 L42.679 668.031 Q37.6183 668.031 35.1038 670.004 Q32.5894 671.977 32.5894 675.924 Q32.5894 680.667 35.6131 683.404 Q38.6368 686.141 43.8567 686.141 L64.0042 686.141 L64.0042 692.029 L28.3562 692.029 L28.3562 686.141 L33.8944 686.141 Q30.6797 684.04 29.0883 681.208 Q27.4968 678.343 27.4968 674.619 Q27.4968 668.476 31.3163 665.325 Q35.1038 662.174 42.4881 662.174 Z\" fill=\"#000000\" fill-rule=\"evenodd\" fill-opacity=\"1\" /><path clip-path=\"url(#clip990)\" d=\"M42.4881 600.14 L64.0042 600.14 L64.0042 605.997 L42.679 605.997 Q37.6183 605.997 35.1038 607.97 Q32.5894 609.944 32.5894 613.89 Q32.5894 618.633 35.6131 621.37 Q38.6368 624.107 43.8567 624.107 L64.0042 624.107 L64.0042 629.996 L28.3562 629.996 L28.3562 624.107 L33.8944 624.107 Q30.6797 622.007 29.0883 619.174 Q27.4968 616.309 27.4968 612.585 Q27.4968 606.442 31.3163 603.291 Q35.1038 600.14 42.4881 600.14 Z\" fill=\"#000000\" fill-rule=\"evenodd\" fill-opacity=\"1\" /><path clip-path=\"url(#clip990)\" d=\"M49.9359 589.064 L28.3562 589.064 L28.3562 583.208 L49.7131 583.208 Q54.7739 583.208 57.3202 581.234 Q59.8346 579.261 59.8346 575.314 Q59.8346 570.572 56.8109 567.834 Q53.7872 565.065 48.5673 565.065 L28.3562 565.065 L28.3562 559.209 L64.0042 559.209 L64.0042 565.065 L58.5296 565.065 Q61.7762 567.198 63.3676 570.031 Q64.9272 572.831 64.9272 576.555 Q64.9272 582.698 61.1078 585.881 Q57.2883 589.064 49.9359 589.064 M27.4968 574.327 L27.4968 574.327 Z\" fill=\"#000000\" fill-rule=\"evenodd\" fill-opacity=\"1\" /><path clip-path=\"url(#clip990)\" d=\"M35.1993 519.391 Q31.2526 517.195 29.3747 514.14 Q27.4968 511.084 27.4968 506.946 Q27.4968 501.376 31.4117 498.353 Q35.2948 495.329 42.4881 495.329 L64.0042 495.329 L64.0042 501.217 L42.679 501.217 Q37.5546 501.217 35.072 503.031 Q32.5894 504.846 32.5894 508.57 Q32.5894 513.121 35.6131 515.763 Q38.6368 518.405 43.8567 518.405 L64.0042 518.405 L64.0042 524.293 L42.679 524.293 Q37.5228 524.293 35.072 526.107 Q32.5894 527.921 32.5894 531.709 Q32.5894 536.197 35.6449 538.839 Q38.6686 541.48 43.8567 541.48 L64.0042 541.48 L64.0042 547.369 L28.3562 547.369 L28.3562 541.48 L33.8944 541.48 Q30.616 539.475 29.0564 536.674 Q27.4968 533.873 27.4968 530.022 Q27.4968 526.139 29.4702 523.434 Q31.4436 520.696 35.1993 519.391 Z\" fill=\"#000000\" fill-rule=\"evenodd\" fill-opacity=\"1\" /><path clip-path=\"url(#clip990)\" d=\"M46.212 458.058 Q39.7508 458.058 36.0905 460.731 Q32.3984 463.373 32.3984 468.02 Q32.3984 472.667 36.0905 475.341 Q39.7508 477.982 46.212 477.982 Q52.6732 477.982 56.3653 475.341 Q60.0256 472.667 60.0256 468.02 Q60.0256 463.373 56.3653 460.731 Q52.6732 458.058 46.212 458.058 M33.7671 477.982 Q30.5842 476.136 29.0564 473.335 Q27.4968 470.503 27.4968 466.588 Q27.4968 460.095 32.6531 456.053 Q37.8093 451.979 46.212 451.979 Q54.6147 451.979 59.771 456.053 Q64.9272 460.095 64.9272 466.588 Q64.9272 470.503 63.3994 473.335 Q61.8398 476.136 58.657 477.982 L64.0042 477.982 L64.0042 483.871 L14.479 483.871 L14.479 477.982 L33.7671 477.982 Z\" fill=\"#000000\" fill-rule=\"evenodd\" fill-opacity=\"1\" /><path clip-path=\"url(#clip990)\" d=\"M44.7161 411.779 L47.5806 411.779 L47.5806 438.706 Q53.6281 438.324 56.8109 435.078 Q59.9619 431.799 59.9619 425.975 Q59.9619 422.601 59.1344 419.45 Q58.3069 416.267 56.6518 413.148 L62.1899 413.148 Q63.5267 416.299 64.227 419.609 Q64.9272 422.919 64.9272 426.325 Q64.9272 434.855 59.9619 439.852 Q54.9967 444.817 46.5303 444.817 Q37.7774 444.817 32.6531 440.106 Q27.4968 435.364 27.4968 427.343 Q27.4968 420.15 32.1438 415.98 Q36.7589 411.779 44.7161 411.779 M42.9973 417.636 Q38.1912 417.699 35.3266 420.341 Q32.4621 422.951 32.4621 427.28 Q32.4621 432.181 35.2312 435.141 Q38.0002 438.069 43.0292 438.515 L42.9973 417.636 Z\" fill=\"#000000\" fill-rule=\"evenodd\" fill-opacity=\"1\" /><path clip-path=\"url(#clip990)\" d=\"M33.8307 381.51 Q33.2578 382.497 33.0032 383.675 Q32.7167 384.82 32.7167 386.221 Q32.7167 391.186 35.9632 393.86 Q39.1779 396.501 45.2253 396.501 L64.0042 396.501 L64.0042 402.39 L28.3562 402.39 L28.3562 396.501 L33.8944 396.501 Q30.6479 394.655 29.0883 391.695 Q27.4968 388.735 27.4968 384.502 Q27.4968 383.897 27.5923 383.165 Q27.656 382.433 27.8151 381.542 L33.8307 381.51 Z\" fill=\"#000000\" fill-rule=\"evenodd\" fill-opacity=\"1\" /><polyline clip-path=\"url(#clip992)\" style=\"stroke:#009af9; stroke-linecap:butt; stroke-linejoin:round; stroke-width:8; stroke-opacity:1; fill:none\" points=\"\n",
       "  279.23,1375.84 281.243,1374.14 283.256,1362.47 285.27,1304.62 287.283,1100.12 289.296,669.042 291.309,317.004 293.322,173.995 295.335,119.348 297.348,98.599 \n",
       "  299.361,90.7344 301.375,87.7567 303.388,86.6284 305.401,86.2018 307.414,86.0401 309.427,85.9785 311.44,85.9559 313.453,85.9466 315.467,85.9436 317.48,85.9424 \n",
       "  319.493,85.9415 321.506,85.9419 323.519,85.9413 325.532,85.9416 327.545,85.9417 329.558,85.9412 331.572,85.9418 333.585,85.9413 335.598,85.9415 337.611,85.9417 \n",
       "  339.624,85.9412 341.637,85.9418 343.65,85.9414 345.663,85.9415 347.677,85.9417 349.69,85.9412 351.703,85.9418 353.716,85.9414 355.729,85.9415 357.742,85.9418 \n",
       "  359.755,85.9411 361.769,85.9418 363.782,85.9414 365.795,85.9414 367.808,85.9418 369.821,85.9411 371.834,85.9417 373.847,85.9415 375.86,85.9414 377.874,85.9418 \n",
       "  379.887,85.9411 381.9,85.9417 383.913,85.9415 385.926,85.9414 387.939,85.9418 389.952,85.9412 391.966,85.9417 393.979,85.9415 395.992,85.9413 398.005,85.9418 \n",
       "  400.018,85.9412 402.031,85.9417 404.044,85.9416 406.057,85.9413 408.071,85.9418 410.084,85.9412 412.097,85.9417 414.11,85.9416 416.123,85.9413 418.136,85.9418 \n",
       "  420.149,85.9412 422.162,85.9416 424.176,85.9416 426.189,85.9412 428.202,85.9418 430.215,85.9413 432.228,85.9416 434.241,85.9417 436.254,85.9412 438.268,85.9418 \n",
       "  440.281,85.9413 442.294,85.9416 444.307,85.9417 446.32,85.9412 448.333,85.9418 450.346,85.9413 452.359,85.9415 454.373,85.9417 456.386,85.9412 458.399,85.9418 \n",
       "  460.412,85.9413 462.425,85.9415 464.438,85.9417 466.451,85.9412 468.465,85.9418 470.478,85.9414 472.491,85.9415 474.504,85.9417 476.517,85.9411 478.53,85.9418 \n",
       "  480.543,85.9414 482.556,85.9414 484.57,85.9418 486.583,85.9411 488.596,85.9418 490.609,85.9415 492.622,85.9414 494.635,85.9418 496.648,85.9411 498.662,85.9417 \n",
       "  500.675,85.9415 502.688,85.9414 504.701,85.9418 506.714,85.9412 508.727,85.9417 510.74,85.9415 512.753,85.9413 514.767,85.9418 516.78,85.9412 518.793,85.9417 \n",
       "  520.806,85.9416 522.819,85.9413 524.832,85.9418 526.845,85.9412 528.858,85.9417 530.872,85.9416 532.885,85.9413 534.898,85.9418 536.911,85.9412 538.924,85.9416 \n",
       "  540.937,85.9416 542.95,85.9412 544.964,85.9418 546.977,85.9412 548.99,85.9416 551.003,85.9416 553.016,85.9412 555.029,85.9418 557.042,85.9413 559.055,85.9416 \n",
       "  561.069,85.9417 563.082,85.9412 565.095,85.9418 567.108,85.9413 569.121,85.9415 571.134,85.9417 573.147,85.9412 575.161,85.9418 577.174,85.9413 579.187,85.9415 \n",
       "  581.2,85.9417 583.213,85.9412 585.226,85.9418 587.239,85.9414 589.252,85.9415 591.266,85.9417 593.279,85.9411 595.292,85.9418 597.305,85.9414 599.318,85.9414 \n",
       "  601.331,85.9418 603.344,85.9411 605.357,85.9418 607.371,85.9414 609.384,85.9414 611.397,85.9418 613.41,85.9411 615.423,85.9417 617.436,85.9415 619.449,85.9414 \n",
       "  621.463,85.9418 623.476,85.9412 625.489,85.9417 627.502,85.9415 629.515,85.9413 631.528,85.9418 633.541,85.9412 635.554,85.9417 637.568,85.9415 639.581,85.9413 \n",
       "  641.594,85.9418 643.607,85.9412 645.62,85.9417 647.633,85.9416 649.646,85.9413 651.66,85.9418 653.673,85.9412 655.686,85.9416 657.699,85.9416 659.712,85.9412 \n",
       "  661.725,85.9418 663.738,85.9412 665.751,85.9416 667.765,85.9416 669.778,85.9412 671.791,85.9418 673.804,85.9413 675.817,85.9416 677.83,85.9417 679.843,85.9412 \n",
       "  681.856,85.9418 683.87,85.9413 685.883,85.9415 687.896,85.9417 689.909,85.9412 691.922,85.9418 693.935,85.9413 695.948,85.9415 697.962,85.9417 699.975,85.9412 \n",
       "  701.988,85.9418 704.001,85.9414 706.014,85.9415 708.027,85.9417 710.04,85.9411 712.053,85.9418 714.067,85.9414 716.08,85.9414 718.093,85.9418 720.106,85.9411 \n",
       "  722.119,85.9418 724.132,85.9414 726.145,85.9414 728.159,85.9418 730.172,85.9411 732.185,85.9417 734.198,85.9415 736.211,85.9414 738.224,85.9418 740.237,85.9412 \n",
       "  742.25,85.9417 744.264,85.9415 746.277,85.9413 748.29,85.9418 750.303,85.9412 752.316,85.9417 754.329,85.9415 756.342,85.9413 758.356,85.9418 760.369,85.9412 \n",
       "  762.382,85.9417 764.395,85.9416 766.408,85.9413 768.421,85.9418 770.434,85.9412 772.447,85.9416 774.461,85.9416 776.474,85.9412 778.487,85.9418 780.5,85.9412 \n",
       "  782.513,85.9416 784.526,85.9416 786.539,85.9412 788.552,85.9418 790.566,85.9413 792.579,85.9416 794.592,85.9417 796.605,85.9412 798.618,85.9418 800.631,85.9413 \n",
       "  802.644,85.9415 804.658,85.9417 806.671,85.9412 808.684,85.9418 810.697,85.9413 812.71,85.9415 814.723,85.9417 816.736,85.9412 818.749,85.9418 820.763,85.9414 \n",
       "  822.776,85.9415 824.789,85.9417 826.802,85.9412 828.815,85.9418 830.828,85.9414 832.841,85.9414 834.855,85.9418 836.868,85.9411 838.881,85.9418 840.894,85.9414 \n",
       "  842.907,85.9414 844.92,85.9418 846.933,85.9411 848.946,85.9417 850.96,85.9415 852.973,85.9414 854.986,85.9418 856.999,85.9412 859.012,85.9417 861.025,85.9415 \n",
       "  863.038,85.9413 865.051,85.9418 867.065,85.9412 869.078,85.9417 871.091,85.9415 873.104,85.9413 875.117,85.9418 877.13,85.9412 879.143,85.9417 881.157,85.9416 \n",
       "  883.17,85.9413 885.183,85.9418 887.196,85.9412 889.209,85.9416 891.222,85.9416 893.235,85.9413 895.248,85.9418 897.262,85.9412 899.275,85.9416 901.288,85.9416 \n",
       "  903.301,85.9412 905.314,85.9418 907.327,85.9413 909.34,85.9416 911.354,85.9417 913.367,85.9412 915.38,85.9418 917.393,85.9413 919.406,85.9416 921.419,85.9417 \n",
       "  923.432,85.9412 925.445,85.9418 927.459,85.9413 929.472,85.9415 931.485,85.9417 933.498,85.9412 935.511,85.9418 937.524,85.9414 939.537,85.9415 941.551,85.9417 \n",
       "  943.564,85.9412 945.577,85.9418 947.59,85.9414 949.603,85.9415 951.616,85.9418 953.629,85.9411 955.642,85.9418 957.656,85.9414 959.669,85.9414 961.682,85.9418 \n",
       "  963.695,85.9411 965.708,85.9417 967.721,85.9415 969.734,85.9414 971.747,85.9418 973.761,85.9411 975.774,85.9417 977.787,85.9415 979.8,85.9413 981.813,85.9418 \n",
       "  983.826,85.9412 985.839,85.9417 987.853,85.9415 989.866,85.9413 991.879,85.9418 993.892,85.9412 995.905,85.9417 997.918,85.9416 999.931,85.9413 1001.94,85.9418 \n",
       "  1003.96,85.9412 1005.97,85.9416 1007.98,85.9416 1010,85.9413 1012.01,85.9418 1014.02,85.9412 1016.04,85.9416 1018.05,85.9416 1020.06,85.9412 1022.08,85.9418 \n",
       "  1024.09,85.9413 1026.1,85.9416 1028.12,85.9417 1030.13,85.9412 1032.14,85.9418 1034.15,85.9413 1036.17,85.9416 1038.18,85.9417 1040.19,85.9412 1042.21,85.9418 \n",
       "  1044.22,85.9413 1046.23,85.9415 1048.25,85.9417 1050.26,85.9412 1052.27,85.9418 1054.29,85.9414 1056.3,85.9415 1058.31,85.9417 1060.33,85.9412 1062.34,85.9418 \n",
       "  1064.35,85.9414 1066.36,85.9415 1068.38,85.9418 1070.39,85.9411 1072.4,85.9418 1074.42,85.9414 1076.43,85.9414 1078.44,85.9418 1080.46,85.9411 1082.47,85.9417 \n",
       "  1084.48,85.9415 1086.5,85.9414 1088.51,85.9418 1090.52,85.9411 1092.54,85.9417 1094.55,85.9415 1096.56,85.9414 1098.57,85.9418 1100.59,85.9412 1102.6,85.9417 \n",
       "  1104.61,85.9415 1106.63,85.9413 1108.64,85.9418 1110.65,85.9412 1112.67,85.9417 1114.68,85.9416 1116.69,85.9413 1118.71,85.9418 1120.72,85.9412 1122.73,85.9417 \n",
       "  1124.75,85.9416 1126.76,85.9413 1128.77,85.9418 1130.78,85.9412 1132.8,85.9416 1134.81,85.9416 1136.82,85.9412 1138.84,85.9418 1140.85,85.9413 1142.86,85.9416 \n",
       "  1144.88,85.9417 1146.89,85.9412 1148.9,85.9418 1150.92,85.9413 1152.93,85.9416 1154.94,85.9417 1156.96,85.9412 1158.97,85.9418 1160.98,85.9413 1163,85.9415 \n",
       "  1165.01,85.9417 1167.02,85.9412 1169.03,85.9418 1171.05,85.9413 1173.06,85.9415 1175.07,85.9417 1177.09,85.9412 1179.1,85.9418 1181.11,85.9414 1183.13,85.9415 \n",
       "  1185.14,85.9417 1187.15,85.9411 1189.17,85.9418 1191.18,85.9414 1193.19,85.9414 1195.21,85.9418 1197.22,85.9411 1199.23,85.9418 1201.24,85.9415 1203.26,85.9414 \n",
       "  1205.27,85.9418 1207.28,85.9411 1209.3,85.9417 1211.31,85.9415 1213.32,85.9414 1215.34,85.9418 1217.35,85.9412 1219.36,85.9417 1221.38,85.9415 1223.39,85.9413 \n",
       "  1225.4,85.9418 1227.42,85.9412 1229.43,85.9417 1231.44,85.9416 1233.45,85.9413 1235.47,85.9418 1237.48,85.9412 1239.49,85.9417 1241.51,85.9416 1243.52,85.9413 \n",
       "  1245.53,85.9418 1247.55,85.9412 1249.56,85.9416 1251.57,85.9416 1253.59,85.9412 1255.6,85.9418 1257.61,85.9412 1259.63,85.9416 1261.64,85.9416 1263.65,85.9412 \n",
       "  1265.66,85.9418 1267.68,85.9413 1269.69,85.9416 1271.7,85.9417 1273.72,85.9412 1275.73,85.9418 1277.74,85.9413 1279.76,85.9415 1281.77,85.9417 1283.78,85.9412 \n",
       "  1285.8,85.9418 1287.81,85.9413 1289.82,85.9415 1291.84,85.9417 1293.85,85.9412 1295.86,85.9418 1297.87,85.9414 1299.89,85.9415 1301.9,85.9417 1303.91,85.9411 \n",
       "  1305.93,85.9418 1307.94,85.9414 1309.95,85.9414 1311.97,85.9418 1313.98,85.9411 1315.99,85.9418 1318.01,85.9414 1320.02,85.9414 1322.03,85.9418 1324.05,85.9411 \n",
       "  1326.06,85.9417 1328.07,85.9415 1330.08,85.9414 1332.1,85.9418 1334.11,85.9412 1336.12,85.9417 1338.14,85.9415 1340.15,85.9413 1342.16,85.9418 1344.18,85.9412 \n",
       "  1346.19,85.9417 1348.2,85.9415 1350.22,85.9413 1352.23,85.9418 1354.24,85.9412 1356.26,85.9417 1358.27,85.9416 1360.28,85.9413 1362.3,85.9418 1364.31,85.9412 \n",
       "  1366.32,85.9416 1368.33,85.9416 1370.35,85.9412 1372.36,85.9418 1374.37,85.9412 1376.39,85.9416 1378.4,85.9416 1380.41,85.9412 1382.43,85.9418 1384.44,85.9413 \n",
       "  1386.45,85.9416 1388.47,85.9417 1390.48,85.9412 1392.49,85.9418 1394.51,85.9413 1396.52,85.9415 1398.53,85.9417 1400.54,85.9412 1402.56,85.9418 1404.57,85.9413 \n",
       "  1406.58,85.9415 1408.6,85.9417 1410.61,85.9412 1412.62,85.9418 1414.64,85.9414 1416.65,85.9415 1418.66,85.9417 1420.68,85.9411 1422.69,85.9418 1424.7,85.9414 \n",
       "  1426.72,85.9414 1428.73,85.9418 1430.74,85.9411 1432.75,85.9418 1434.77,85.9414 1436.78,85.9414 1438.79,85.9418 1440.81,85.9411 1442.82,85.9417 1444.83,85.9415 \n",
       "  1446.85,85.9414 1448.86,85.9418 1450.87,85.9412 1452.89,85.9417 1454.9,85.9415 1456.91,85.9413 1458.93,85.9418 1460.94,85.9412 1462.95,85.9417 1464.96,85.9415 \n",
       "  1466.98,85.9413 1468.99,85.9418 1471,85.9412 1473.02,85.9417 1475.03,85.9416 1477.04,85.9413 1479.06,85.9418 1481.07,85.9412 1483.08,85.9416 1485.1,85.9416 \n",
       "  1487.11,85.9412 1489.12,85.9418 1491.14,85.9412 1493.15,85.9416 1495.16,85.9416 1497.17,85.9412 1499.19,85.9418 1501.2,85.9413 1503.21,85.9416 1505.23,85.9417 \n",
       "  1507.24,85.9412 1509.25,85.9418 1511.27,85.9413 1513.28,85.9415 1515.29,85.9417 1517.31,85.9412 1519.32,85.9418 1521.33,85.9413 1523.35,85.9415 1525.36,85.9417 \n",
       "  1527.37,85.9412 1529.38,85.9418 1531.4,85.9414 1533.41,85.9415 1535.42,85.9417 1537.44,85.9412 1539.45,85.9418 1541.46,85.9414 1543.48,85.9414 1545.49,85.9418 \n",
       "  1547.5,85.9411 1549.52,85.9418 1551.53,85.9414 1553.54,85.9414 1555.56,85.9418 1557.57,85.9411 1559.58,85.9417 1561.6,85.9415 1563.61,85.9414 1565.62,85.9418 \n",
       "  1567.63,85.9412 1569.65,85.9417 1571.66,85.9415 1573.67,85.9413 1575.69,85.9418 1577.7,85.9412 1579.71,85.9417 1581.73,85.9415 1583.74,85.9413 1585.75,85.9418 \n",
       "  1587.77,85.9412 1589.78,85.9417 1591.79,85.9416 1593.81,85.9413 1595.82,85.9418 1597.83,85.9412 1599.84,85.9416 1601.86,85.9416 1603.87,85.9413 1605.88,85.9418 \n",
       "  1607.9,85.9412 1609.91,85.9416 1611.92,85.9416 1613.94,85.9412 1615.95,85.9418 1617.96,85.9413 1619.98,85.9416 1621.99,85.9417 1624,85.9412 1626.02,85.9418 \n",
       "  1628.03,85.9413 1630.04,85.9416 1632.05,85.9417 1634.07,85.9412 1636.08,85.9418 1638.09,85.9413 1640.11,85.9415 1642.12,85.9417 1644.13,85.9412 1646.15,85.9418 \n",
       "  1648.16,85.9414 1650.17,85.9415 1652.19,85.9417 1654.2,85.9412 1656.21,85.9418 1658.23,85.9414 1660.24,85.9415 1662.25,85.9418 1664.26,85.9411 1666.28,85.9418 \n",
       "  1668.29,85.9414 1670.3,85.9414 1672.32,85.9418 1674.33,85.9411 1676.34,85.9417 1678.36,85.9415 1680.37,85.9414 1682.38,85.9418 1684.4,85.9411 1686.41,85.9417 \n",
       "  1688.42,85.9415 1690.44,85.9413 1692.45,85.9418 1694.46,85.9412 1696.47,85.9417 1698.49,85.9415 1700.5,85.9413 1702.51,85.9418 1704.53,85.9412 1706.54,85.9417 \n",
       "  1708.55,85.9416 1710.57,85.9413 1712.58,85.9418 1714.59,85.9412 1716.61,85.9416 1718.62,85.9416 1720.63,85.9413 1722.65,85.9418 1724.66,85.9412 1726.67,85.9416 \n",
       "  1728.69,85.9416 1730.7,85.9412 1732.71,85.9418 1734.72,85.9413 1736.74,85.9416 1738.75,85.9417 1740.76,85.9412 1742.78,85.9418 1744.79,85.9413 1746.8,85.9416 \n",
       "  1748.82,85.9417 1750.83,85.9412 1752.84,85.9418 1754.86,85.9413 1756.87,85.9415 1758.88,85.9417 1760.9,85.9412 1762.91,85.9418 1764.92,85.9414 1766.93,85.9415 \n",
       "  1768.95,85.9417 1770.96,85.9412 1772.97,85.9418 1774.99,85.9414 1777,85.9415 1779.01,85.9418 1781.03,85.9411 1783.04,85.9418 1785.05,85.9414 1787.07,85.9414 \n",
       "  1789.08,85.9418 1791.09,85.9411 1793.11,85.9417 1795.12,85.9415 1797.13,85.9414 1799.14,85.9418 1801.16,85.9411 1803.17,85.9417 1805.18,85.9415 1807.2,85.9414 \n",
       "  1809.21,85.9418 1811.22,85.9412 1813.24,85.9417 1815.25,85.9415 1817.26,85.9413 1819.28,85.9418 1821.29,85.9412 1823.3,85.9417 1825.32,85.9416 1827.33,85.9413 \n",
       "  1829.34,85.9418 1831.35,85.9412 1833.37,85.9417 1835.38,85.9416 1837.39,85.9413 1839.41,85.9418 1841.42,85.9412 1843.43,85.9416 1845.45,85.9416 1847.46,85.9412 \n",
       "  1849.47,85.9418 1851.49,85.9413 1853.5,85.9416 1855.51,85.9417 1857.53,85.9412 1859.54,85.9418 1861.55,85.9413 1863.56,85.9416 1865.58,85.9417 1867.59,85.9412 \n",
       "  1869.6,85.9418 1871.62,85.9413 1873.63,85.9415 1875.64,85.9417 1877.66,85.9412 1879.67,85.9418 1881.68,85.9413 1883.7,85.9415 1885.71,85.9417 1887.72,85.9412 \n",
       "  1889.74,85.9418 1891.75,85.9414 1893.76,85.9415 1895.77,85.9417 1897.79,85.9411 1899.8,85.9418 1901.81,85.9414 1903.83,85.9414 1905.84,85.9418 1907.85,85.9411 \n",
       "  1909.87,85.9418 1911.88,85.9415 1913.89,85.9414 1915.91,85.9418 1917.92,85.9411 1919.93,85.9417 1921.95,85.9415 1923.96,85.9414 1925.97,85.9418 1927.99,85.9412 \n",
       "  1930,85.9417 1932.01,85.9415 1934.02,85.9413 1936.04,85.9418 1938.05,85.9412 1940.06,85.9417 1942.08,85.9416 1944.09,85.9413 1946.1,85.9418 1948.12,85.9412 \n",
       "  1950.13,85.9417 1952.14,85.9416 1954.16,85.9413 1956.17,85.9418 1958.18,85.9412 1960.2,85.9416 1962.21,85.9416 1964.22,85.9412 1966.23,85.9418 1968.25,85.9412 \n",
       "  1970.26,85.9416 1972.27,85.9416 1974.29,85.9412 1976.3,85.9418 1978.31,85.9413 1980.33,85.9416 1982.34,85.9417 1984.35,85.9412 1986.37,85.9418 1988.38,85.9413 \n",
       "  1990.39,85.9415 1992.41,85.9417 1994.42,85.9412 1996.43,85.9418 1998.44,85.9413 2000.46,85.9415 2002.47,85.9417 2004.48,85.9412 2006.5,85.9418 2008.51,85.9414 \n",
       "  2010.52,85.9415 2012.54,85.9417 2014.55,85.9411 2016.56,85.9418 2018.58,85.9414 2020.59,85.9414 2022.6,85.9418 2024.62,85.9411 2026.63,85.9418 2028.64,85.9414 \n",
       "  2030.65,85.9414 2032.67,85.9418 2034.68,85.9411 2036.69,85.9417 2038.71,85.9415 2040.72,85.9414 2042.73,85.9418 2044.75,85.9412 2046.76,85.9417 2048.77,85.9415 \n",
       "  2050.79,85.9413 2052.8,85.9418 2054.81,85.9412 2056.83,85.9417 2058.84,85.9415 2060.85,85.9413 2062.86,85.9418 2064.88,85.9412 2066.89,85.9417 2068.9,85.9416 \n",
       "  2070.92,85.9413 2072.93,85.9418 2074.94,85.9412 2076.96,85.9416 2078.97,85.9416 2080.98,85.9412 2083,85.9418 2085.01,85.9412 2087.02,85.9416 2089.04,85.9416 \n",
       "  2091.05,85.9412 2093.06,85.9418 2095.08,85.9413 2097.09,85.9416 2099.1,85.9417 2101.11,85.9412 2103.13,85.9418 2105.14,85.9413 2107.15,85.9415 2109.17,85.9417 \n",
       "  2111.18,85.9412 2113.19,85.9418 2115.21,85.9413 2117.22,85.9415 2119.23,85.9417 2121.25,85.9412 2123.26,85.9418 2125.27,85.9414 2127.29,85.9415 2129.3,85.9417 \n",
       "  2131.31,85.9411 2133.32,85.9418 2135.34,85.9414 2137.35,85.9414 2139.36,85.9418 2141.38,85.9411 2143.39,85.9418 2145.4,85.9414 2147.42,85.9414 2149.43,85.9418 \n",
       "  2151.44,85.9411 2153.46,85.9417 2155.47,85.9415 2157.48,85.9414 2159.5,85.9418 2161.51,85.9412 2163.52,85.9417 2165.53,85.9415 2167.55,85.9413 2169.56,85.9418 \n",
       "  2171.57,85.9412 2173.59,85.9417 2175.6,85.9415 2177.61,85.9413 2179.63,85.9418 2181.64,85.9412 2183.65,85.9417 2185.67,85.9416 2187.68,85.9413 2189.69,85.9418 \n",
       "  2191.71,85.9412 2193.72,85.9416 2195.73,85.9416 2197.74,85.9412 2199.76,85.9418 2201.77,85.9412 2203.78,85.9416 2205.8,85.9416 2207.81,85.9412 2209.82,85.9418 \n",
       "  2211.84,85.9413 2213.85,85.9416 2215.86,85.9417 2217.88,85.9412 2219.89,85.9418 2221.9,85.9413 2223.92,85.9415 2225.93,85.9417 2227.94,85.9412 2229.95,85.9418 \n",
       "  2231.97,85.9413 2233.98,85.9415 2235.99,85.9417 2238.01,85.9412 2240.02,85.9418 2242.03,85.9414 2244.05,85.9415 2246.06,85.9417 2248.07,85.9412 2250.09,85.9418 \n",
       "  2252.1,85.9414 2254.11,85.9414 2256.13,85.9418 2258.14,85.9411 2260.15,85.9418 2262.16,85.9414 2264.18,85.9414 2266.19,85.9418 2268.2,85.9411 2270.22,85.9417 \n",
       "  2272.23,85.9415 2274.24,85.9414 2276.26,85.9418 2278.27,85.9412 2280.28,85.9417 2282.3,85.9415 2284.31,85.9413 2286.32,85.9418 2288.34,85.9412 2290.35,85.9417 \n",
       "  2292.36,85.9413 \n",
       "  \"/>\n",
       "<path clip-path=\"url(#clip990)\" d=\"\n",
       "M1938.41 1368.96 L2281.63 1368.96 L2281.63 1265.28 L1938.41 1265.28  Z\n",
       "  \" fill=\"#ffffff\" fill-rule=\"evenodd\" fill-opacity=\"1\"/>\n",
       "<polyline clip-path=\"url(#clip990)\" style=\"stroke:#000000; stroke-linecap:butt; stroke-linejoin:round; stroke-width:4; stroke-opacity:1; fill:none\" points=\"\n",
       "  1938.41,1368.96 2281.63,1368.96 2281.63,1265.28 1938.41,1265.28 1938.41,1368.96 \n",
       "  \"/>\n",
       "<polyline clip-path=\"url(#clip990)\" style=\"stroke:#009af9; stroke-linecap:butt; stroke-linejoin:round; stroke-width:4; stroke-opacity:1; fill:none\" points=\"\n",
       "  1962.41,1317.12 2106.41,1317.12 \n",
       "  \"/>\n",
       "<path clip-path=\"url(#clip990)\" d=\"M2158.28 1302.51 L2158.28 1307.44 Q2155.92 1305.24 2153.23 1304.15 Q2150.57 1303.06 2147.56 1303.06 Q2141.64 1303.06 2138.49 1306.7 Q2135.34 1310.31 2135.34 1317.16 Q2135.34 1323.99 2138.49 1327.62 Q2141.64 1331.23 2147.56 1331.23 Q2150.57 1331.23 2153.23 1330.14 Q2155.92 1329.06 2158.28 1326.86 L2158.28 1331.74 Q2155.82 1333.41 2153.07 1334.24 Q2150.34 1335.07 2147.28 1335.07 Q2139.44 1335.07 2134.92 1330.28 Q2130.41 1325.47 2130.41 1317.16 Q2130.41 1308.82 2134.92 1304.03 Q2139.44 1299.22 2147.28 1299.22 Q2150.38 1299.22 2153.12 1300.05 Q2155.87 1300.86 2158.28 1302.51 Z\" fill=\"#000000\" fill-rule=\"evenodd\" fill-opacity=\"1\" /><path clip-path=\"url(#clip990)\" d=\"M2170.18 1303.69 L2170.18 1330.56 L2175.82 1330.56 Q2182.98 1330.56 2186.29 1327.32 Q2189.62 1324.08 2189.62 1317.09 Q2189.62 1310.14 2186.29 1306.93 Q2182.98 1303.69 2175.82 1303.69 L2170.18 1303.69 M2165.5 1299.84 L2175.11 1299.84 Q2185.15 1299.84 2189.85 1304.03 Q2194.55 1308.2 2194.55 1317.09 Q2194.55 1326.02 2189.83 1330.21 Q2185.11 1334.4 2175.11 1334.4 L2165.5 1334.4 L2165.5 1299.84 Z\" fill=\"#000000\" fill-rule=\"evenodd\" fill-opacity=\"1\" /><path clip-path=\"url(#clip990)\" d=\"M2202.01 1299.84 L2208.97 1299.84 L2217.79 1323.36 L2226.66 1299.84 L2233.63 1299.84 L2233.63 1334.4 L2229.07 1334.4 L2229.07 1304.06 L2220.15 1327.76 L2215.45 1327.76 L2206.54 1304.06 L2206.54 1334.4 L2202.01 1334.4 L2202.01 1299.84 Z\" fill=\"#000000\" fill-rule=\"evenodd\" fill-opacity=\"1\" /></svg>\n"
      ]
     },
     "execution_count": 12,
     "metadata": {},
     "output_type": "execute_result"
    }
   ],
   "source": [
    "plot(sol_CDM.t, sol_CDM[2,:], \n",
    "    label  = \"CDM\",\n",
    "    legend = :bottomright,\n",
    "    xlabel = \"Time [s]\",\n",
    "    ylabel = \"Mean protein number\",\n",
    "    lw=2,\n",
    "    legendfontsize=8,\n",
    "    xtickfontsize=10,\n",
    "    ytickfontsize=10,\n",
    "    dpi=100)"
   ]
  },
  {
   "cell_type": "code",
   "execution_count": 13,
   "metadata": {},
   "outputs": [
    {
     "data": {
      "image/svg+xml": [
       "<?xml version=\"1.0\" encoding=\"utf-8\"?>\n",
       "<svg xmlns=\"http://www.w3.org/2000/svg\" xmlns:xlink=\"http://www.w3.org/1999/xlink\" width=\"600\" height=\"400\" viewBox=\"0 0 2400 1600\">\n",
       "<defs>\n",
       "  <clipPath id=\"clip030\">\n",
       "    <rect x=\"0\" y=\"0\" width=\"2400\" height=\"1600\"/>\n",
       "  </clipPath>\n",
       "</defs>\n",
       "<path clip-path=\"url(#clip030)\" d=\"\n",
       "M0 1600 L2400 1600 L2400 0 L0 0  Z\n",
       "  \" fill=\"#ffffff\" fill-rule=\"evenodd\" fill-opacity=\"1\"/>\n",
       "<defs>\n",
       "  <clipPath id=\"clip031\">\n",
       "    <rect x=\"480\" y=\"0\" width=\"1681\" height=\"1600\"/>\n",
       "  </clipPath>\n",
       "</defs>\n",
       "<path clip-path=\"url(#clip030)\" d=\"\n",
       "M215.219 1414.54 L2352.76 1414.54 L2352.76 47.2441 L215.219 47.2441  Z\n",
       "  \" fill=\"#ffffff\" fill-rule=\"evenodd\" fill-opacity=\"1\"/>\n",
       "<defs>\n",
       "  <clipPath id=\"clip032\">\n",
       "    <rect x=\"215\" y=\"47\" width=\"2139\" height=\"1368\"/>\n",
       "  </clipPath>\n",
       "</defs>\n",
       "<polyline clip-path=\"url(#clip032)\" style=\"stroke:#000000; stroke-linecap:butt; stroke-linejoin:round; stroke-width:2; stroke-opacity:0.1; fill:none\" points=\"\n",
       "  273.697,1414.54 273.697,47.2441 \n",
       "  \"/>\n",
       "<polyline clip-path=\"url(#clip032)\" style=\"stroke:#000000; stroke-linecap:butt; stroke-linejoin:round; stroke-width:2; stroke-opacity:0.1; fill:none\" points=\"\n",
       "  778.338,1414.54 778.338,47.2441 \n",
       "  \"/>\n",
       "<polyline clip-path=\"url(#clip032)\" style=\"stroke:#000000; stroke-linecap:butt; stroke-linejoin:round; stroke-width:2; stroke-opacity:0.1; fill:none\" points=\"\n",
       "  1282.98,1414.54 1282.98,47.2441 \n",
       "  \"/>\n",
       "<polyline clip-path=\"url(#clip032)\" style=\"stroke:#000000; stroke-linecap:butt; stroke-linejoin:round; stroke-width:2; stroke-opacity:0.1; fill:none\" points=\"\n",
       "  1787.62,1414.54 1787.62,47.2441 \n",
       "  \"/>\n",
       "<polyline clip-path=\"url(#clip032)\" style=\"stroke:#000000; stroke-linecap:butt; stroke-linejoin:round; stroke-width:2; stroke-opacity:0.1; fill:none\" points=\"\n",
       "  2292.26,1414.54 2292.26,47.2441 \n",
       "  \"/>\n",
       "<polyline clip-path=\"url(#clip030)\" style=\"stroke:#000000; stroke-linecap:butt; stroke-linejoin:round; stroke-width:4; stroke-opacity:1; fill:none\" points=\"\n",
       "  215.219,1414.54 2352.76,1414.54 \n",
       "  \"/>\n",
       "<polyline clip-path=\"url(#clip030)\" style=\"stroke:#000000; stroke-linecap:butt; stroke-linejoin:round; stroke-width:4; stroke-opacity:1; fill:none\" points=\"\n",
       "  273.697,1414.54 273.697,1395.64 \n",
       "  \"/>\n",
       "<polyline clip-path=\"url(#clip030)\" style=\"stroke:#000000; stroke-linecap:butt; stroke-linejoin:round; stroke-width:4; stroke-opacity:1; fill:none\" points=\"\n",
       "  778.338,1414.54 778.338,1395.64 \n",
       "  \"/>\n",
       "<polyline clip-path=\"url(#clip030)\" style=\"stroke:#000000; stroke-linecap:butt; stroke-linejoin:round; stroke-width:4; stroke-opacity:1; fill:none\" points=\"\n",
       "  1282.98,1414.54 1282.98,1395.64 \n",
       "  \"/>\n",
       "<polyline clip-path=\"url(#clip030)\" style=\"stroke:#000000; stroke-linecap:butt; stroke-linejoin:round; stroke-width:4; stroke-opacity:1; fill:none\" points=\"\n",
       "  1787.62,1414.54 1787.62,1395.64 \n",
       "  \"/>\n",
       "<polyline clip-path=\"url(#clip030)\" style=\"stroke:#000000; stroke-linecap:butt; stroke-linejoin:round; stroke-width:4; stroke-opacity:1; fill:none\" points=\"\n",
       "  2292.26,1414.54 2292.26,1395.64 \n",
       "  \"/>\n",
       "<path clip-path=\"url(#clip030)\" d=\"M273.697 1448.39 Q269.183 1448.39 266.897 1452.84 Q264.64 1457.27 264.64 1466.18 Q264.64 1475.07 266.897 1479.52 Q269.183 1483.95 273.697 1483.95 Q278.24 1483.95 280.497 1479.52 Q282.783 1475.07 282.783 1466.18 Q282.783 1457.27 280.497 1452.84 Q278.24 1448.39 273.697 1448.39 M273.697 1443.76 Q280.96 1443.76 284.779 1449.52 Q288.628 1455.25 288.628 1466.18 Q288.628 1477.09 284.779 1482.85 Q280.96 1488.58 273.697 1488.58 Q266.434 1488.58 262.586 1482.85 Q258.767 1477.09 258.767 1466.18 Q258.767 1455.25 262.586 1449.52 Q266.434 1443.76 273.697 1443.76 Z\" fill=\"#000000\" fill-rule=\"evenodd\" fill-opacity=\"1\" /><path clip-path=\"url(#clip030)\" d=\"M732.953 1482.82 L753.352 1482.82 L753.352 1487.74 L725.922 1487.74 L725.922 1482.82 Q729.249 1479.38 734.979 1473.59 Q740.737 1467.77 742.212 1466.1 Q745.019 1462.94 746.119 1460.77 Q747.247 1458.57 747.247 1456.46 Q747.247 1453.02 744.816 1450.85 Q742.415 1448.68 738.538 1448.68 Q735.789 1448.68 732.722 1449.63 Q729.683 1450.59 726.211 1452.53 L726.211 1446.62 Q729.741 1445.21 732.808 1444.48 Q735.876 1443.76 738.422 1443.76 Q745.135 1443.76 749.128 1447.12 Q753.121 1450.47 753.121 1456.08 Q753.121 1458.75 752.108 1461.15 Q751.124 1463.52 748.491 1466.76 Q747.768 1467.6 743.891 1471.62 Q740.013 1475.62 732.953 1482.82 Z\" fill=\"#000000\" fill-rule=\"evenodd\" fill-opacity=\"1\" /><path clip-path=\"url(#clip030)\" d=\"M765.679 1444.54 L788.624 1444.54 L788.624 1449.46 L771.032 1449.46 L771.032 1460.05 Q772.305 1459.61 773.578 1459.41 Q774.851 1459.18 776.124 1459.18 Q783.358 1459.18 787.582 1463.15 Q791.807 1467.11 791.807 1473.88 Q791.807 1480.85 787.467 1484.73 Q783.126 1488.58 775.227 1488.58 Q772.507 1488.58 769.672 1488.12 Q766.865 1487.65 763.856 1486.73 L763.856 1480.85 Q766.46 1482.27 769.238 1482.97 Q772.015 1483.66 775.111 1483.66 Q780.117 1483.66 783.04 1481.03 Q785.962 1478.39 785.962 1473.88 Q785.962 1469.37 783.04 1466.73 Q780.117 1464.1 775.111 1464.1 Q772.768 1464.1 770.424 1464.62 Q768.109 1465.14 765.679 1466.24 L765.679 1444.54 Z\" fill=\"#000000\" fill-rule=\"evenodd\" fill-opacity=\"1\" /><path clip-path=\"url(#clip030)\" d=\"M815.823 1448.39 Q811.309 1448.39 809.023 1452.84 Q806.766 1457.27 806.766 1466.18 Q806.766 1475.07 809.023 1479.52 Q811.309 1483.95 815.823 1483.95 Q820.366 1483.95 822.623 1479.52 Q824.909 1475.07 824.909 1466.18 Q824.909 1457.27 822.623 1452.84 Q820.366 1448.39 815.823 1448.39 M815.823 1443.76 Q823.086 1443.76 826.905 1449.52 Q830.753 1455.25 830.753 1466.18 Q830.753 1477.09 826.905 1482.85 Q823.086 1488.58 815.823 1488.58 Q808.56 1488.58 804.712 1482.85 Q800.893 1477.09 800.893 1466.18 Q800.893 1455.25 804.712 1449.52 Q808.56 1443.76 815.823 1443.76 Z\" fill=\"#000000\" fill-rule=\"evenodd\" fill-opacity=\"1\" /><path clip-path=\"url(#clip030)\" d=\"M1232.5 1444.54 L1255.45 1444.54 L1255.45 1449.46 L1237.85 1449.46 L1237.85 1460.05 Q1239.13 1459.61 1240.4 1459.41 Q1241.67 1459.18 1242.95 1459.18 Q1250.18 1459.18 1254.4 1463.15 Q1258.63 1467.11 1258.63 1473.88 Q1258.63 1480.85 1254.29 1484.73 Q1249.95 1488.58 1242.05 1488.58 Q1239.33 1488.58 1236.49 1488.12 Q1233.69 1487.65 1230.68 1486.73 L1230.68 1480.85 Q1233.28 1482.27 1236.06 1482.97 Q1238.84 1483.66 1241.93 1483.66 Q1246.94 1483.66 1249.86 1481.03 Q1252.78 1478.39 1252.78 1473.88 Q1252.78 1469.37 1249.86 1466.73 Q1246.94 1464.1 1241.93 1464.1 Q1239.59 1464.1 1237.25 1464.62 Q1234.93 1465.14 1232.5 1466.24 L1232.5 1444.54 Z\" fill=\"#000000\" fill-rule=\"evenodd\" fill-opacity=\"1\" /><path clip-path=\"url(#clip030)\" d=\"M1282.65 1448.39 Q1278.13 1448.39 1275.85 1452.84 Q1273.59 1457.27 1273.59 1466.18 Q1273.59 1475.07 1275.85 1479.52 Q1278.13 1483.95 1282.65 1483.95 Q1287.19 1483.95 1289.45 1479.52 Q1291.73 1475.07 1291.73 1466.18 Q1291.73 1457.27 1289.45 1452.84 Q1287.19 1448.39 1282.65 1448.39 M1282.65 1443.76 Q1289.91 1443.76 1293.73 1449.52 Q1297.58 1455.25 1297.58 1466.18 Q1297.58 1477.09 1293.73 1482.85 Q1289.91 1488.58 1282.65 1488.58 Q1275.38 1488.58 1271.53 1482.85 Q1267.72 1477.09 1267.72 1466.18 Q1267.72 1455.25 1271.53 1449.52 Q1275.38 1443.76 1282.65 1443.76 Z\" fill=\"#000000\" fill-rule=\"evenodd\" fill-opacity=\"1\" /><path clip-path=\"url(#clip030)\" d=\"M1320.35 1448.39 Q1315.83 1448.39 1313.55 1452.84 Q1311.29 1457.27 1311.29 1466.18 Q1311.29 1475.07 1313.55 1479.52 Q1315.83 1483.95 1320.35 1483.95 Q1324.89 1483.95 1327.15 1479.52 Q1329.43 1475.07 1329.43 1466.18 Q1329.43 1457.27 1327.15 1452.84 Q1324.89 1448.39 1320.35 1448.39 M1320.35 1443.76 Q1327.61 1443.76 1331.43 1449.52 Q1335.28 1455.25 1335.28 1466.18 Q1335.28 1477.09 1331.43 1482.85 Q1327.61 1488.58 1320.35 1488.58 Q1313.09 1488.58 1309.24 1482.85 Q1305.42 1477.09 1305.42 1466.18 Q1305.42 1455.25 1309.24 1449.52 Q1313.09 1443.76 1320.35 1443.76 Z\" fill=\"#000000\" fill-rule=\"evenodd\" fill-opacity=\"1\" /><path clip-path=\"url(#clip030)\" d=\"M1735.46 1444.54 L1763.24 1444.54 L1763.24 1447.03 L1747.56 1487.74 L1741.45 1487.74 L1756.21 1449.46 L1735.46 1449.46 L1735.46 1444.54 Z\" fill=\"#000000\" fill-rule=\"evenodd\" fill-opacity=\"1\" /><path clip-path=\"url(#clip030)\" d=\"M1774.7 1444.54 L1797.64 1444.54 L1797.64 1449.46 L1780.05 1449.46 L1780.05 1460.05 Q1781.33 1459.61 1782.6 1459.41 Q1783.87 1459.18 1785.15 1459.18 Q1792.38 1459.18 1796.6 1463.15 Q1800.83 1467.11 1800.83 1473.88 Q1800.83 1480.85 1796.49 1484.73 Q1792.15 1488.58 1784.25 1488.58 Q1781.53 1488.58 1778.69 1488.12 Q1775.89 1487.65 1772.88 1486.73 L1772.88 1480.85 Q1775.48 1482.27 1778.26 1482.97 Q1781.04 1483.66 1784.13 1483.66 Q1789.14 1483.66 1792.06 1481.03 Q1794.98 1478.39 1794.98 1473.88 Q1794.98 1469.37 1792.06 1466.73 Q1789.14 1464.1 1784.13 1464.1 Q1781.79 1464.1 1779.44 1464.62 Q1777.13 1465.14 1774.7 1466.24 L1774.7 1444.54 Z\" fill=\"#000000\" fill-rule=\"evenodd\" fill-opacity=\"1\" /><path clip-path=\"url(#clip030)\" d=\"M1824.84 1448.39 Q1820.33 1448.39 1818.04 1452.84 Q1815.79 1457.27 1815.79 1466.18 Q1815.79 1475.07 1818.04 1479.52 Q1820.33 1483.95 1824.84 1483.95 Q1829.39 1483.95 1831.64 1479.52 Q1833.93 1475.07 1833.93 1466.18 Q1833.93 1457.27 1831.64 1452.84 Q1829.39 1448.39 1824.84 1448.39 M1824.84 1443.76 Q1832.11 1443.76 1835.93 1449.52 Q1839.77 1455.25 1839.77 1466.18 Q1839.77 1477.09 1835.93 1482.85 Q1832.11 1488.58 1824.84 1488.58 Q1817.58 1488.58 1813.73 1482.85 Q1809.91 1477.09 1809.91 1466.18 Q1809.91 1455.25 1813.73 1449.52 Q1817.58 1443.76 1824.84 1443.76 Z\" fill=\"#000000\" fill-rule=\"evenodd\" fill-opacity=\"1\" /><path clip-path=\"url(#clip030)\" d=\"M2222.92 1482.82 L2232.47 1482.82 L2232.47 1449.86 L2222.08 1451.95 L2222.08 1446.62 L2232.41 1444.54 L2238.25 1444.54 L2238.25 1482.82 L2247.8 1482.82 L2247.8 1487.74 L2222.92 1487.74 L2222.92 1482.82 Z\" fill=\"#000000\" fill-rule=\"evenodd\" fill-opacity=\"1\" /><path clip-path=\"url(#clip030)\" d=\"M2272.11 1448.39 Q2267.59 1448.39 2265.31 1452.84 Q2263.05 1457.27 2263.05 1466.18 Q2263.05 1475.07 2265.31 1479.52 Q2267.59 1483.95 2272.11 1483.95 Q2276.65 1483.95 2278.91 1479.52 Q2281.19 1475.07 2281.19 1466.18 Q2281.19 1457.27 2278.91 1452.84 Q2276.65 1448.39 2272.11 1448.39 M2272.11 1443.76 Q2279.37 1443.76 2283.19 1449.52 Q2287.04 1455.25 2287.04 1466.18 Q2287.04 1477.09 2283.19 1482.85 Q2279.37 1488.58 2272.11 1488.58 Q2264.84 1488.58 2261 1482.85 Q2257.18 1477.09 2257.18 1466.18 Q2257.18 1455.25 2261 1449.52 Q2264.84 1443.76 2272.11 1443.76 Z\" fill=\"#000000\" fill-rule=\"evenodd\" fill-opacity=\"1\" /><path clip-path=\"url(#clip030)\" d=\"M2309.81 1448.39 Q2305.29 1448.39 2303.01 1452.84 Q2300.75 1457.27 2300.75 1466.18 Q2300.75 1475.07 2303.01 1479.52 Q2305.29 1483.95 2309.81 1483.95 Q2314.35 1483.95 2316.61 1479.52 Q2318.89 1475.07 2318.89 1466.18 Q2318.89 1457.27 2316.61 1452.84 Q2314.35 1448.39 2309.81 1448.39 M2309.81 1443.76 Q2317.07 1443.76 2320.89 1449.52 Q2324.74 1455.25 2324.74 1466.18 Q2324.74 1477.09 2320.89 1482.85 Q2317.07 1488.58 2309.81 1488.58 Q2302.55 1488.58 2298.7 1482.85 Q2294.88 1477.09 2294.88 1466.18 Q2294.88 1455.25 2298.7 1449.52 Q2302.55 1443.76 2309.81 1443.76 Z\" fill=\"#000000\" fill-rule=\"evenodd\" fill-opacity=\"1\" /><path clip-path=\"url(#clip030)\" d=\"M2347.51 1448.39 Q2343 1448.39 2340.71 1452.84 Q2338.45 1457.27 2338.45 1466.18 Q2338.45 1475.07 2340.71 1479.52 Q2343 1483.95 2347.51 1483.95 Q2352.05 1483.95 2354.31 1479.52 Q2356.6 1475.07 2356.6 1466.18 Q2356.6 1457.27 2354.31 1452.84 Q2352.05 1448.39 2347.51 1448.39 M2347.51 1443.76 Q2354.77 1443.76 2358.59 1449.52 Q2362.44 1455.25 2362.44 1466.18 Q2362.44 1477.09 2358.59 1482.85 Q2354.77 1488.58 2347.51 1488.58 Q2340.25 1488.58 2336.4 1482.85 Q2332.58 1477.09 2332.58 1466.18 Q2332.58 1455.25 2336.4 1449.52 Q2340.25 1443.76 2347.51 1443.76 Z\" fill=\"#000000\" fill-rule=\"evenodd\" fill-opacity=\"1\" /><path clip-path=\"url(#clip030)\" d=\"M1154.16 1524.84 L1194.36 1524.84 L1194.36 1530.25 L1177.49 1530.25 L1177.49 1572.36 L1171.03 1572.36 L1171.03 1530.25 L1154.16 1530.25 L1154.16 1524.84 Z\" fill=\"#000000\" fill-rule=\"evenodd\" fill-opacity=\"1\" /><path clip-path=\"url(#clip030)\" d=\"M1198.31 1536.72 L1204.16 1536.72 L1204.16 1572.36 L1198.31 1572.36 L1198.31 1536.72 M1198.31 1522.84 L1204.16 1522.84 L1204.16 1530.25 L1198.31 1530.25 L1198.31 1522.84 Z\" fill=\"#000000\" fill-rule=\"evenodd\" fill-opacity=\"1\" /><path clip-path=\"url(#clip030)\" d=\"M1244.17 1543.56 Q1246.37 1539.61 1249.42 1537.73 Q1252.48 1535.86 1256.62 1535.86 Q1262.19 1535.86 1265.21 1539.77 Q1268.23 1543.65 1268.23 1550.85 L1268.23 1572.36 L1262.34 1572.36 L1262.34 1551.04 Q1262.34 1545.91 1260.53 1543.43 Q1258.72 1540.95 1254.99 1540.95 Q1250.44 1540.95 1247.8 1543.97 Q1245.16 1547 1245.16 1552.22 L1245.16 1572.36 L1239.27 1572.36 L1239.27 1551.04 Q1239.27 1545.88 1237.45 1543.43 Q1235.64 1540.95 1231.85 1540.95 Q1227.36 1540.95 1224.72 1544 Q1222.08 1547.03 1222.08 1552.22 L1222.08 1572.36 L1216.19 1572.36 L1216.19 1536.72 L1222.08 1536.72 L1222.08 1542.25 Q1224.09 1538.98 1226.89 1537.42 Q1229.69 1535.86 1233.54 1535.86 Q1237.42 1535.86 1240.13 1537.83 Q1242.87 1539.8 1244.17 1543.56 Z\" fill=\"#000000\" fill-rule=\"evenodd\" fill-opacity=\"1\" /><path clip-path=\"url(#clip030)\" d=\"M1310.41 1553.08 L1310.41 1555.94 L1283.48 1555.94 Q1283.86 1561.99 1287.11 1565.17 Q1290.39 1568.32 1296.21 1568.32 Q1299.58 1568.32 1302.73 1567.49 Q1305.92 1566.67 1309.04 1565.01 L1309.04 1570.55 Q1305.89 1571.89 1302.58 1572.59 Q1299.27 1573.29 1295.86 1573.29 Q1287.33 1573.29 1282.33 1568.32 Q1277.37 1563.36 1277.37 1554.89 Q1277.37 1546.14 1282.08 1541.01 Q1286.82 1535.86 1294.84 1535.86 Q1302.03 1535.86 1306.2 1540.5 Q1310.41 1545.12 1310.41 1553.08 M1304.55 1551.36 Q1304.49 1546.55 1301.84 1543.69 Q1299.23 1540.82 1294.9 1540.82 Q1290 1540.82 1287.04 1543.59 Q1284.11 1546.36 1283.67 1551.39 L1304.55 1551.36 Z\" fill=\"#000000\" fill-rule=\"evenodd\" fill-opacity=\"1\" /><path clip-path=\"url(#clip030)\" d=\"M1340.2 1522.84 L1353.69 1522.84 L1353.69 1527.39 L1346.05 1527.39 L1346.05 1576.41 L1353.69 1576.41 L1353.69 1580.96 L1340.2 1580.96 L1340.2 1522.84 Z\" fill=\"#000000\" fill-rule=\"evenodd\" fill-opacity=\"1\" /><path clip-path=\"url(#clip030)\" d=\"M1388.89 1537.77 L1388.89 1543.3 Q1386.41 1542.03 1383.74 1541.39 Q1381.06 1540.76 1378.2 1540.76 Q1373.84 1540.76 1371.64 1542.09 Q1369.48 1543.43 1369.48 1546.11 Q1369.48 1548.14 1371.04 1549.32 Q1372.6 1550.47 1377.31 1551.52 L1379.31 1551.96 Q1385.55 1553.3 1388.16 1555.75 Q1390.8 1558.17 1390.8 1562.53 Q1390.8 1567.49 1386.86 1570.39 Q1382.94 1573.29 1376.07 1573.29 Q1373.2 1573.29 1370.08 1572.71 Q1367 1572.17 1363.56 1571.06 L1363.56 1565.01 Q1366.81 1566.7 1369.96 1567.56 Q1373.11 1568.39 1376.19 1568.39 Q1380.33 1568.39 1382.56 1566.98 Q1384.79 1565.55 1384.79 1562.97 Q1384.79 1560.59 1383.17 1559.31 Q1381.57 1558.04 1376.13 1556.86 L1374.09 1556.39 Q1368.65 1555.24 1366.23 1552.88 Q1363.81 1550.5 1363.81 1546.36 Q1363.81 1541.33 1367.38 1538.59 Q1370.94 1535.86 1377.5 1535.86 Q1380.75 1535.86 1383.61 1536.33 Q1386.48 1536.81 1388.89 1537.77 Z\" fill=\"#000000\" fill-rule=\"evenodd\" fill-opacity=\"1\" /><path clip-path=\"url(#clip030)\" d=\"M1413.82 1522.84 L1413.82 1580.96 L1400.32 1580.96 L1400.32 1576.41 L1407.93 1576.41 L1407.93 1527.39 L1400.32 1527.39 L1400.32 1522.84 L1413.82 1522.84 Z\" fill=\"#000000\" fill-rule=\"evenodd\" fill-opacity=\"1\" /><polyline clip-path=\"url(#clip032)\" style=\"stroke:#000000; stroke-linecap:butt; stroke-linejoin:round; stroke-width:2; stroke-opacity:0.1; fill:none\" points=\"\n",
       "  215.219,1226.23 2352.76,1226.23 \n",
       "  \"/>\n",
       "<polyline clip-path=\"url(#clip032)\" style=\"stroke:#000000; stroke-linecap:butt; stroke-linejoin:round; stroke-width:2; stroke-opacity:0.1; fill:none\" points=\"\n",
       "  215.219,973.596 2352.76,973.596 \n",
       "  \"/>\n",
       "<polyline clip-path=\"url(#clip032)\" style=\"stroke:#000000; stroke-linecap:butt; stroke-linejoin:round; stroke-width:2; stroke-opacity:0.1; fill:none\" points=\"\n",
       "  215.219,720.959 2352.76,720.959 \n",
       "  \"/>\n",
       "<polyline clip-path=\"url(#clip032)\" style=\"stroke:#000000; stroke-linecap:butt; stroke-linejoin:round; stroke-width:2; stroke-opacity:0.1; fill:none\" points=\"\n",
       "  215.219,468.322 2352.76,468.322 \n",
       "  \"/>\n",
       "<polyline clip-path=\"url(#clip032)\" style=\"stroke:#000000; stroke-linecap:butt; stroke-linejoin:round; stroke-width:2; stroke-opacity:0.1; fill:none\" points=\"\n",
       "  215.219,215.685 2352.76,215.685 \n",
       "  \"/>\n",
       "<polyline clip-path=\"url(#clip030)\" style=\"stroke:#000000; stroke-linecap:butt; stroke-linejoin:round; stroke-width:4; stroke-opacity:1; fill:none\" points=\"\n",
       "  215.219,1414.54 215.219,47.2441 \n",
       "  \"/>\n",
       "<polyline clip-path=\"url(#clip030)\" style=\"stroke:#000000; stroke-linecap:butt; stroke-linejoin:round; stroke-width:4; stroke-opacity:1; fill:none\" points=\"\n",
       "  215.219,1226.23 234.117,1226.23 \n",
       "  \"/>\n",
       "<polyline clip-path=\"url(#clip030)\" style=\"stroke:#000000; stroke-linecap:butt; stroke-linejoin:round; stroke-width:4; stroke-opacity:1; fill:none\" points=\"\n",
       "  215.219,973.596 234.117,973.596 \n",
       "  \"/>\n",
       "<polyline clip-path=\"url(#clip030)\" style=\"stroke:#000000; stroke-linecap:butt; stroke-linejoin:round; stroke-width:4; stroke-opacity:1; fill:none\" points=\"\n",
       "  215.219,720.959 234.117,720.959 \n",
       "  \"/>\n",
       "<polyline clip-path=\"url(#clip030)\" style=\"stroke:#000000; stroke-linecap:butt; stroke-linejoin:round; stroke-width:4; stroke-opacity:1; fill:none\" points=\"\n",
       "  215.219,468.322 234.117,468.322 \n",
       "  \"/>\n",
       "<polyline clip-path=\"url(#clip030)\" style=\"stroke:#000000; stroke-linecap:butt; stroke-linejoin:round; stroke-width:4; stroke-opacity:1; fill:none\" points=\"\n",
       "  215.219,215.685 234.117,215.685 \n",
       "  \"/>\n",
       "<path clip-path=\"url(#clip030)\" d=\"M158.82 1242.91 L179.219 1242.91 L179.219 1247.83 L151.789 1247.83 L151.789 1242.91 Q155.116 1239.47 160.846 1233.68 Q166.604 1227.87 168.079 1226.19 Q170.886 1223.04 171.986 1220.87 Q173.114 1218.67 173.114 1216.55 Q173.114 1213.11 170.683 1210.94 Q168.282 1208.77 164.405 1208.77 Q161.656 1208.77 158.589 1209.73 Q155.55 1210.68 152.078 1212.62 L152.078 1206.72 Q155.608 1205.3 158.675 1204.57 Q161.743 1203.85 164.289 1203.85 Q171.002 1203.85 174.995 1207.21 Q178.988 1210.56 178.988 1216.18 Q178.988 1218.84 177.975 1221.24 Q176.991 1223.61 174.358 1226.85 Q173.635 1227.69 169.758 1231.72 Q165.88 1235.71 158.82 1242.91 Z\" fill=\"#000000\" fill-rule=\"evenodd\" fill-opacity=\"1\" /><path clip-path=\"url(#clip030)\" d=\"M167.24 957.088 L152.483 980.15 L167.24 980.15 L167.24 957.088 M165.707 951.996 L173.056 951.996 L173.056 980.15 L179.219 980.15 L179.219 985.011 L173.056 985.011 L173.056 995.196 L167.24 995.196 L167.24 985.011 L147.738 985.011 L147.738 979.368 L165.707 951.996 Z\" fill=\"#000000\" fill-rule=\"evenodd\" fill-opacity=\"1\" /><path clip-path=\"url(#clip030)\" d=\"M164.81 718.63 Q160.874 718.63 158.56 721.32 Q156.274 724.011 156.274 728.699 Q156.274 733.357 158.56 736.077 Q160.874 738.768 164.81 738.768 Q168.745 738.768 171.031 736.077 Q173.345 733.357 173.345 728.699 Q173.345 724.011 171.031 721.32 Q168.745 718.63 164.81 718.63 M176.413 700.314 L176.413 705.638 Q174.214 704.596 171.957 704.046 Q169.729 703.497 167.53 703.497 Q161.743 703.497 158.675 707.403 Q155.637 711.309 155.203 719.208 Q156.91 716.691 159.486 715.36 Q162.061 714 165.157 714 Q171.667 714 175.429 717.964 Q179.219 721.899 179.219 728.699 Q179.219 735.354 175.284 739.376 Q171.349 743.398 164.81 743.398 Q157.315 743.398 153.351 737.669 Q149.387 731.911 149.387 721.002 Q149.387 710.759 154.248 704.683 Q159.109 698.578 167.298 698.578 Q169.497 698.578 171.725 699.012 Q173.982 699.446 176.413 700.314 Z\" fill=\"#000000\" fill-rule=\"evenodd\" fill-opacity=\"1\" /><path clip-path=\"url(#clip030)\" d=\"M164.405 469.407 Q160.238 469.407 157.836 471.635 Q155.464 473.863 155.464 477.769 Q155.464 481.675 157.836 483.903 Q160.238 486.131 164.405 486.131 Q168.571 486.131 170.973 483.903 Q173.374 481.646 173.374 477.769 Q173.374 473.863 170.973 471.635 Q168.6 469.407 164.405 469.407 M158.56 466.919 Q154.798 465.993 152.686 463.417 Q150.603 460.842 150.603 457.138 Q150.603 451.959 154.277 448.95 Q157.981 445.941 164.405 445.941 Q170.857 445.941 174.532 448.95 Q178.207 451.959 178.207 457.138 Q178.207 460.842 176.094 463.417 Q174.011 465.993 170.278 466.919 Q174.503 467.902 176.847 470.767 Q179.219 473.631 179.219 477.769 Q179.219 484.048 175.371 487.405 Q171.552 490.761 164.405 490.761 Q157.258 490.761 153.409 487.405 Q149.59 484.048 149.59 477.769 Q149.59 473.631 151.963 470.767 Q154.335 467.902 158.56 466.919 M156.418 457.688 Q156.418 461.045 158.502 462.925 Q160.614 464.806 164.405 464.806 Q168.166 464.806 170.278 462.925 Q172.42 461.045 172.42 457.688 Q172.42 454.332 170.278 452.451 Q168.166 450.57 164.405 450.57 Q160.614 450.57 158.502 452.451 Q156.418 454.332 156.418 457.688 Z\" fill=\"#000000\" fill-rule=\"evenodd\" fill-opacity=\"1\" /><path clip-path=\"url(#clip030)\" d=\"M115.099 232.366 L124.648 232.366 L124.648 199.409 L114.26 201.492 L114.26 196.168 L124.59 194.085 L130.435 194.085 L130.435 232.366 L139.983 232.366 L139.983 237.285 L115.099 237.285 L115.099 232.366 Z\" fill=\"#000000\" fill-rule=\"evenodd\" fill-opacity=\"1\" /><path clip-path=\"url(#clip030)\" d=\"M164.289 197.933 Q159.775 197.933 157.489 202.389 Q155.232 206.816 155.232 215.728 Q155.232 224.611 157.489 229.067 Q159.775 233.494 164.289 233.494 Q168.832 233.494 171.089 229.067 Q173.374 224.611 173.374 215.728 Q173.374 206.816 171.089 202.389 Q168.832 197.933 164.289 197.933 M164.289 193.304 Q171.552 193.304 175.371 199.062 Q179.219 204.791 179.219 215.728 Q179.219 226.637 175.371 232.395 Q171.552 238.124 164.289 238.124 Q157.026 238.124 153.178 232.395 Q149.358 226.637 149.358 215.728 Q149.358 204.791 153.178 199.062 Q157.026 193.304 164.289 193.304 Z\" fill=\"#000000\" fill-rule=\"evenodd\" fill-opacity=\"1\" /><path clip-path=\"url(#clip030)\" d=\"M29.4065 1379.61 L34.9447 1379.61 Q33.6716 1382.09 33.035 1384.76 Q32.3984 1387.44 32.3984 1390.3 Q32.3984 1394.66 33.7352 1396.86 Q35.072 1399.02 37.7456 1399.02 Q39.7826 1399.02 40.9603 1397.46 Q42.1061 1395.9 43.1565 1391.19 L43.6021 1389.19 Q44.9389 1382.95 47.3897 1380.34 Q49.8086 1377.7 54.1691 1377.7 Q59.1344 1377.7 62.0308 1381.64 Q64.9272 1385.56 64.9272 1392.43 Q64.9272 1395.3 64.3543 1398.42 Q63.8132 1401.5 62.6992 1404.94 L56.6518 1404.94 Q58.3387 1401.69 59.198 1398.54 Q60.0256 1395.39 60.0256 1392.3 Q60.0256 1388.17 58.6251 1385.94 Q57.1929 1383.71 54.6147 1383.71 Q52.2276 1383.71 50.9545 1385.33 Q49.6813 1386.93 48.5037 1392.37 L48.0262 1394.41 Q46.8804 1399.85 44.5251 1402.27 Q42.138 1404.69 38.0002 1404.69 Q32.9713 1404.69 30.2341 1401.12 Q27.4968 1397.56 27.4968 1391 Q27.4968 1387.75 27.9743 1384.89 Q28.4517 1382.02 29.4065 1379.61 Z\" fill=\"#000000\" fill-rule=\"evenodd\" fill-opacity=\"1\" /><path clip-path=\"url(#clip030)\" d=\"M18.2347 1362.58 L28.3562 1362.58 L28.3562 1350.51 L32.9077 1350.51 L32.9077 1362.58 L52.2594 1362.58 Q56.6199 1362.58 57.8613 1361.4 Q59.1026 1360.19 59.1026 1356.53 L59.1026 1350.51 L64.0042 1350.51 L64.0042 1356.53 Q64.0042 1363.31 61.4897 1365.89 Q58.9434 1368.47 52.2594 1368.47 L32.9077 1368.47 L32.9077 1372.76 L28.3562 1372.76 L28.3562 1368.47 L18.2347 1368.47 L18.2347 1362.58 Z\" fill=\"#000000\" fill-rule=\"evenodd\" fill-opacity=\"1\" /><path clip-path=\"url(#clip030)\" d=\"M46.0847 1326.61 Q46.0847 1333.71 47.7079 1336.45 Q49.3312 1339.18 53.2461 1339.18 Q56.3653 1339.18 58.2114 1337.15 Q60.0256 1335.08 60.0256 1331.54 Q60.0256 1326.67 56.5881 1323.75 Q53.1188 1320.79 47.3897 1320.79 L46.0847 1320.79 L46.0847 1326.61 M43.6657 1314.93 L64.0042 1314.93 L64.0042 1320.79 L58.5933 1320.79 Q61.8398 1322.79 63.3994 1325.78 Q64.9272 1328.78 64.9272 1333.1 Q64.9272 1338.58 61.8716 1341.82 Q58.7843 1345.04 53.6281 1345.04 Q47.6125 1345.04 44.5569 1341.03 Q41.5014 1336.99 41.5014 1329 L41.5014 1320.79 L40.9285 1320.79 Q36.8862 1320.79 34.6901 1323.46 Q32.4621 1326.1 32.4621 1330.91 Q32.4621 1333.96 33.1941 1336.86 Q33.9262 1339.76 35.3903 1342.43 L29.9795 1342.43 Q28.7381 1339.21 28.1334 1336.19 Q27.4968 1333.17 27.4968 1330.3 Q27.4968 1322.57 31.5072 1318.75 Q35.5176 1314.93 43.6657 1314.93 Z\" fill=\"#000000\" fill-rule=\"evenodd\" fill-opacity=\"1\" /><path clip-path=\"url(#clip030)\" d=\"M42.4881 1273.23 L64.0042 1273.23 L64.0042 1279.09 L42.679 1279.09 Q37.6183 1279.09 35.1038 1281.06 Q32.5894 1283.04 32.5894 1286.98 Q32.5894 1291.73 35.6131 1294.46 Q38.6368 1297.2 43.8567 1297.2 L64.0042 1297.2 L64.0042 1303.09 L28.3562 1303.09 L28.3562 1297.2 L33.8944 1297.2 Q30.6797 1295.1 29.0883 1292.27 Q27.4968 1289.4 27.4968 1285.68 Q27.4968 1279.54 31.3163 1276.39 Q35.1038 1273.23 42.4881 1273.23 Z\" fill=\"#000000\" fill-rule=\"evenodd\" fill-opacity=\"1\" /><path clip-path=\"url(#clip030)\" d=\"M33.7671 1238.1 L14.479 1238.1 L14.479 1232.24 L64.0042 1232.24 L64.0042 1238.1 L58.657 1238.1 Q61.8398 1239.94 63.3994 1242.77 Q64.9272 1245.58 64.9272 1249.52 Q64.9272 1255.98 59.771 1260.06 Q54.6147 1264.1 46.212 1264.1 Q37.8093 1264.1 32.6531 1260.06 Q27.4968 1255.98 27.4968 1249.52 Q27.4968 1245.58 29.0564 1242.77 Q30.5842 1239.94 33.7671 1238.1 M46.212 1258.05 Q52.6732 1258.05 56.3653 1255.41 Q60.0256 1252.74 60.0256 1248.09 Q60.0256 1243.44 56.3653 1240.77 Q52.6732 1238.1 46.212 1238.1 Q39.7508 1238.1 36.0905 1240.77 Q32.3984 1243.44 32.3984 1248.09 Q32.3984 1252.74 36.0905 1255.41 Q39.7508 1258.05 46.212 1258.05 Z\" fill=\"#000000\" fill-rule=\"evenodd\" fill-opacity=\"1\" /><path clip-path=\"url(#clip030)\" d=\"M46.0847 1203.98 Q46.0847 1211.07 47.7079 1213.81 Q49.3312 1216.55 53.2461 1216.55 Q56.3653 1216.55 58.2114 1214.51 Q60.0256 1212.44 60.0256 1208.91 Q60.0256 1204.04 56.5881 1201.11 Q53.1188 1198.15 47.3897 1198.15 L46.0847 1198.15 L46.0847 1203.98 M43.6657 1192.29 L64.0042 1192.29 L64.0042 1198.15 L58.5933 1198.15 Q61.8398 1200.16 63.3994 1203.15 Q64.9272 1206.14 64.9272 1210.47 Q64.9272 1215.94 61.8716 1219.19 Q58.7843 1222.4 53.6281 1222.4 Q47.6125 1222.4 44.5569 1218.39 Q41.5014 1214.35 41.5014 1206.36 L41.5014 1198.15 L40.9285 1198.15 Q36.8862 1198.15 34.6901 1200.82 Q32.4621 1203.47 32.4621 1208.27 Q32.4621 1211.33 33.1941 1214.22 Q33.9262 1217.12 35.3903 1219.79 L29.9795 1219.79 Q28.7381 1216.58 28.1334 1213.56 Q27.4968 1210.53 27.4968 1207.67 Q27.4968 1199.93 31.5072 1196.11 Q35.5176 1192.29 43.6657 1192.29 Z\" fill=\"#000000\" fill-rule=\"evenodd\" fill-opacity=\"1\" /><path clip-path=\"url(#clip030)\" d=\"M33.8307 1159.57 Q33.2578 1160.56 33.0032 1161.74 Q32.7167 1162.88 32.7167 1164.29 Q32.7167 1169.25 35.9632 1171.92 Q39.1779 1174.57 45.2253 1174.57 L64.0042 1174.57 L64.0042 1180.45 L28.3562 1180.45 L28.3562 1174.57 L33.8944 1174.57 Q30.6479 1172.72 29.0883 1169.76 Q27.4968 1166.8 27.4968 1162.57 Q27.4968 1161.96 27.5923 1161.23 Q27.656 1160.5 27.8151 1159.61 L33.8307 1159.57 Z\" fill=\"#000000\" fill-rule=\"evenodd\" fill-opacity=\"1\" /><path clip-path=\"url(#clip030)\" d=\"M33.7671 1131.12 L14.479 1131.12 L14.479 1125.26 L64.0042 1125.26 L64.0042 1131.12 L58.657 1131.12 Q61.8398 1132.97 63.3994 1135.8 Q64.9272 1138.6 64.9272 1142.55 Q64.9272 1149.01 59.771 1153.08 Q54.6147 1157.12 46.212 1157.12 Q37.8093 1157.12 32.6531 1153.08 Q27.4968 1149.01 27.4968 1142.55 Q27.4968 1138.6 29.0564 1135.8 Q30.5842 1132.97 33.7671 1131.12 M46.212 1151.08 Q52.6732 1151.08 56.3653 1148.43 Q60.0256 1145.76 60.0256 1141.11 Q60.0256 1136.47 56.3653 1133.79 Q52.6732 1131.12 46.212 1131.12 Q39.7508 1131.12 36.0905 1133.79 Q32.3984 1136.47 32.3984 1141.11 Q32.3984 1145.76 36.0905 1148.43 Q39.7508 1151.08 46.212 1151.08 Z\" fill=\"#000000\" fill-rule=\"evenodd\" fill-opacity=\"1\" /><path clip-path=\"url(#clip030)\" d=\"M33.7671 1069.02 L14.479 1069.02 L14.479 1063.17 L64.0042 1063.17 L64.0042 1069.02 L58.657 1069.02 Q61.8398 1070.87 63.3994 1073.7 Q64.9272 1076.5 64.9272 1080.45 Q64.9272 1086.91 59.771 1090.98 Q54.6147 1095.03 46.212 1095.03 Q37.8093 1095.03 32.6531 1090.98 Q27.4968 1086.91 27.4968 1080.45 Q27.4968 1076.5 29.0564 1073.7 Q30.5842 1070.87 33.7671 1069.02 M46.212 1088.98 Q52.6732 1088.98 56.3653 1086.34 Q60.0256 1083.66 60.0256 1079.02 Q60.0256 1074.37 56.3653 1071.7 Q52.6732 1069.02 46.212 1069.02 Q39.7508 1069.02 36.0905 1071.7 Q32.3984 1074.37 32.3984 1079.02 Q32.3984 1083.66 36.0905 1086.34 Q39.7508 1088.98 46.212 1088.98 Z\" fill=\"#000000\" fill-rule=\"evenodd\" fill-opacity=\"1\" /><path clip-path=\"url(#clip030)\" d=\"M44.7161 1020.61 L47.5806 1020.61 L47.5806 1047.54 Q53.6281 1047.16 56.8109 1043.91 Q59.9619 1040.63 59.9619 1034.81 Q59.9619 1031.43 59.1344 1028.28 Q58.3069 1025.1 56.6518 1021.98 L62.1899 1021.98 Q63.5267 1025.13 64.227 1028.44 Q64.9272 1031.75 64.9272 1035.16 Q64.9272 1043.69 59.9619 1048.68 Q54.9967 1053.65 46.5303 1053.65 Q37.7774 1053.65 32.6531 1048.94 Q27.4968 1044.2 27.4968 1036.18 Q27.4968 1028.98 32.1438 1024.81 Q36.7589 1020.61 44.7161 1020.61 M42.9973 1026.47 Q38.1912 1026.53 35.3266 1029.17 Q32.4621 1031.78 32.4621 1036.11 Q32.4621 1041.01 35.2312 1043.97 Q38.0002 1046.9 43.0292 1047.35 L42.9973 1026.47 Z\" fill=\"#000000\" fill-rule=\"evenodd\" fill-opacity=\"1\" /><path clip-path=\"url(#clip030)\" d=\"M28.3562 1015.2 L28.3562 1008.99 L58.275 997.854 L28.3562 986.714 L28.3562 980.507 L64.0042 993.875 L64.0042 1001.83 L28.3562 1015.2 Z\" fill=\"#000000\" fill-rule=\"evenodd\" fill-opacity=\"1\" /><path clip-path=\"url(#clip030)\" d=\"M28.3562 972.423 L28.3562 966.566 L64.0042 966.566 L64.0042 972.423 L28.3562 972.423 M14.479 972.423 L14.479 966.566 L21.895 966.566 L21.895 972.423 L14.479 972.423 Z\" fill=\"#000000\" fill-rule=\"evenodd\" fill-opacity=\"1\" /><path clip-path=\"url(#clip030)\" d=\"M46.0847 938.112 Q46.0847 945.209 47.7079 947.947 Q49.3312 950.684 53.2461 950.684 Q56.3653 950.684 58.2114 948.647 Q60.0256 946.578 60.0256 943.045 Q60.0256 938.175 56.5881 935.247 Q53.1188 932.287 47.3897 932.287 L46.0847 932.287 L46.0847 938.112 M43.6657 926.431 L64.0042 926.431 L64.0042 932.287 L58.5933 932.287 Q61.8398 934.292 63.3994 937.284 Q64.9272 940.276 64.9272 944.605 Q64.9272 950.079 61.8716 953.326 Q58.7843 956.54 53.6281 956.54 Q47.6125 956.54 44.5569 952.53 Q41.5014 948.488 41.5014 940.499 L41.5014 932.287 L40.9285 932.287 Q36.8862 932.287 34.6901 934.961 Q32.4621 937.602 32.4621 942.408 Q32.4621 945.464 33.1941 948.36 Q33.9262 951.257 35.3903 953.93 L29.9795 953.93 Q28.7381 950.716 28.1334 947.692 Q27.4968 944.668 27.4968 941.804 Q27.4968 934.069 31.5072 930.25 Q35.5176 926.431 43.6657 926.431 Z\" fill=\"#000000\" fill-rule=\"evenodd\" fill-opacity=\"1\" /><path clip-path=\"url(#clip030)\" d=\"M18.2347 908.575 L28.3562 908.575 L28.3562 896.512 L32.9077 896.512 L32.9077 908.575 L52.2594 908.575 Q56.6199 908.575 57.8613 907.397 Q59.1026 906.188 59.1026 902.527 L59.1026 896.512 L64.0042 896.512 L64.0042 902.527 Q64.0042 909.307 61.4897 911.885 Q58.9434 914.463 52.2594 914.463 L32.9077 914.463 L32.9077 918.76 L28.3562 918.76 L28.3562 914.463 L18.2347 914.463 L18.2347 908.575 Z\" fill=\"#000000\" fill-rule=\"evenodd\" fill-opacity=\"1\" /><path clip-path=\"url(#clip030)\" d=\"M28.3562 888.809 L28.3562 882.953 L64.0042 882.953 L64.0042 888.809 L28.3562 888.809 M14.479 888.809 L14.479 882.953 L21.895 882.953 L21.895 888.809 L14.479 888.809 Z\" fill=\"#000000\" fill-rule=\"evenodd\" fill-opacity=\"1\" /><path clip-path=\"url(#clip030)\" d=\"M32.4621 856.885 Q32.4621 861.596 36.1542 864.333 Q39.8145 867.07 46.212 867.07 Q52.6095 867.07 56.3017 864.365 Q59.9619 861.628 59.9619 856.885 Q59.9619 852.206 56.2698 849.469 Q52.5777 846.732 46.212 846.732 Q39.8781 846.732 36.186 849.469 Q32.4621 852.206 32.4621 856.885 M27.4968 856.885 Q27.4968 849.246 32.4621 844.886 Q37.4273 840.525 46.212 840.525 Q54.9649 840.525 59.9619 844.886 Q64.9272 849.246 64.9272 856.885 Q64.9272 864.556 59.9619 868.916 Q54.9649 873.245 46.212 873.245 Q37.4273 873.245 32.4621 868.916 Q27.4968 864.556 27.4968 856.885 Z\" fill=\"#000000\" fill-rule=\"evenodd\" fill-opacity=\"1\" /><path clip-path=\"url(#clip030)\" d=\"M42.4881 801.185 L64.0042 801.185 L64.0042 807.042 L42.679 807.042 Q37.6183 807.042 35.1038 809.015 Q32.5894 810.988 32.5894 814.935 Q32.5894 819.678 35.6131 822.415 Q38.6368 825.152 43.8567 825.152 L64.0042 825.152 L64.0042 831.04 L28.3562 831.04 L28.3562 825.152 L33.8944 825.152 Q30.6797 823.051 29.0883 820.219 Q27.4968 817.354 27.4968 813.63 Q27.4968 807.487 31.3163 804.336 Q35.1038 801.185 42.4881 801.185 Z\" fill=\"#000000\" fill-rule=\"evenodd\" fill-opacity=\"1\" /><path clip-path=\"url(#clip030)\" d=\"M32.4621 754.97 Q32.4621 759.681 36.1542 762.418 Q39.8145 765.155 46.212 765.155 Q52.6095 765.155 56.3017 762.45 Q59.9619 759.713 59.9619 754.97 Q59.9619 750.291 56.2698 747.554 Q52.5777 744.817 46.212 744.817 Q39.8781 744.817 36.186 747.554 Q32.4621 750.291 32.4621 754.97 M27.4968 754.97 Q27.4968 747.331 32.4621 742.971 Q37.4273 738.61 46.212 738.61 Q54.9649 738.61 59.9619 742.971 Q64.9272 747.331 64.9272 754.97 Q64.9272 762.641 59.9619 767.001 Q54.9649 771.33 46.212 771.33 Q37.4273 771.33 32.4621 767.001 Q27.4968 762.641 27.4968 754.97 Z\" fill=\"#000000\" fill-rule=\"evenodd\" fill-opacity=\"1\" /><path clip-path=\"url(#clip030)\" d=\"M14.479 710.856 L19.3487 710.856 L19.3487 716.458 Q19.3487 719.609 20.6219 720.85 Q21.895 722.06 25.2052 722.06 L28.3562 722.06 L28.3562 712.416 L32.9077 712.416 L32.9077 722.06 L64.0042 722.06 L64.0042 727.948 L32.9077 727.948 L32.9077 733.55 L28.3562 733.55 L28.3562 727.948 L25.8736 727.948 Q19.9216 727.948 17.2162 725.179 Q14.479 722.41 14.479 716.394 L14.479 710.856 Z\" fill=\"#000000\" fill-rule=\"evenodd\" fill-opacity=\"1\" /><path clip-path=\"url(#clip030)\" d=\"M18.2347 679.441 L28.3562 679.441 L28.3562 667.378 L32.9077 667.378 L32.9077 679.441 L52.2594 679.441 Q56.6199 679.441 57.8613 678.263 Q59.1026 677.054 59.1026 673.394 L59.1026 667.378 L64.0042 667.378 L64.0042 673.394 Q64.0042 680.173 61.4897 682.751 Q58.9434 685.329 52.2594 685.329 L32.9077 685.329 L32.9077 689.626 L28.3562 689.626 L28.3562 685.329 L18.2347 685.329 L18.2347 679.441 Z\" fill=\"#000000\" fill-rule=\"evenodd\" fill-opacity=\"1\" /><path clip-path=\"url(#clip030)\" d=\"M42.4881 630.043 L64.0042 630.043 L64.0042 635.9 L42.679 635.9 Q37.6183 635.9 35.1038 637.873 Q32.5894 639.846 32.5894 643.793 Q32.5894 648.536 35.6131 651.273 Q38.6368 654.01 43.8567 654.01 L64.0042 654.01 L64.0042 659.898 L14.479 659.898 L14.479 654.01 L33.8944 654.01 Q30.6797 651.909 29.0883 649.077 Q27.4968 646.212 27.4968 642.488 Q27.4968 636.345 31.3163 633.194 Q35.1038 630.043 42.4881 630.043 Z\" fill=\"#000000\" fill-rule=\"evenodd\" fill-opacity=\"1\" /><path clip-path=\"url(#clip030)\" d=\"M44.7161 587.87 L47.5806 587.87 L47.5806 614.797 Q53.6281 614.415 56.8109 611.169 Q59.9619 607.891 59.9619 602.066 Q59.9619 598.692 59.1344 595.541 Q58.3069 592.358 56.6518 589.239 L62.1899 589.239 Q63.5267 592.39 64.227 595.7 Q64.9272 599.01 64.9272 602.416 Q64.9272 610.946 59.9619 615.943 Q54.9967 620.908 46.5303 620.908 Q37.7774 620.908 32.6531 616.198 Q27.4968 611.455 27.4968 603.435 Q27.4968 596.241 32.1438 592.072 Q36.7589 587.87 44.7161 587.87 M42.9973 593.727 Q38.1912 593.791 35.3266 596.432 Q32.4621 599.042 32.4621 603.371 Q32.4621 608.273 35.2312 611.233 Q38.0002 614.161 43.0292 614.606 L42.9973 593.727 Z\" fill=\"#000000\" fill-rule=\"evenodd\" fill-opacity=\"1\" /><path clip-path=\"url(#clip030)\" d=\"M58.657 551.872 L77.5631 551.872 L77.5631 557.761 L28.3562 557.761 L28.3562 551.872 L33.7671 551.872 Q30.5842 550.026 29.0564 547.225 Q27.4968 544.393 27.4968 540.478 Q27.4968 533.985 32.6531 529.943 Q37.8093 525.868 46.212 525.868 Q54.6147 525.868 59.771 529.943 Q64.9272 533.985 64.9272 540.478 Q64.9272 544.393 63.3994 547.225 Q61.8398 550.026 58.657 551.872 M46.212 531.948 Q39.7508 531.948 36.0905 534.621 Q32.3984 537.263 32.3984 541.91 Q32.3984 546.557 36.0905 549.231 Q39.7508 551.872 46.212 551.872 Q52.6732 551.872 56.3653 549.231 Q60.0256 546.557 60.0256 541.91 Q60.0256 537.263 56.3653 534.621 Q52.6732 531.948 46.212 531.948 Z\" fill=\"#000000\" fill-rule=\"evenodd\" fill-opacity=\"1\" /><path clip-path=\"url(#clip030)\" d=\"M33.8307 495.504 Q33.2578 496.491 33.0032 497.668 Q32.7167 498.814 32.7167 500.215 Q32.7167 505.18 35.9632 507.854 Q39.1779 510.495 45.2253 510.495 L64.0042 510.495 L64.0042 516.384 L28.3562 516.384 L28.3562 510.495 L33.8944 510.495 Q30.6479 508.649 29.0883 505.689 Q27.4968 502.729 27.4968 498.496 Q27.4968 497.891 27.5923 497.159 Q27.656 496.427 27.8151 495.536 L33.8307 495.504 Z\" fill=\"#000000\" fill-rule=\"evenodd\" fill-opacity=\"1\" /><path clip-path=\"url(#clip030)\" d=\"M32.4621 476.98 Q32.4621 481.69 36.1542 484.428 Q39.8145 487.165 46.212 487.165 Q52.6095 487.165 56.3017 484.46 Q59.9619 481.722 59.9619 476.98 Q59.9619 472.301 56.2698 469.564 Q52.5777 466.827 46.212 466.827 Q39.8781 466.827 36.186 469.564 Q32.4621 472.301 32.4621 476.98 M27.4968 476.98 Q27.4968 469.341 32.4621 464.98 Q37.4273 460.62 46.212 460.62 Q54.9649 460.62 59.9619 464.98 Q64.9272 469.341 64.9272 476.98 Q64.9272 484.651 59.9619 489.011 Q54.9649 493.34 46.212 493.34 Q37.4273 493.34 32.4621 489.011 Q27.4968 484.651 27.4968 476.98 Z\" fill=\"#000000\" fill-rule=\"evenodd\" fill-opacity=\"1\" /><path clip-path=\"url(#clip030)\" d=\"M18.2347 445.119 L28.3562 445.119 L28.3562 433.056 L32.9077 433.056 L32.9077 445.119 L52.2594 445.119 Q56.6199 445.119 57.8613 443.942 Q59.1026 442.732 59.1026 439.072 L59.1026 433.056 L64.0042 433.056 L64.0042 439.072 Q64.0042 445.852 61.4897 448.43 Q58.9434 451.008 52.2594 451.008 L32.9077 451.008 L32.9077 455.305 L28.3562 455.305 L28.3562 451.008 L18.2347 451.008 L18.2347 445.119 Z\" fill=\"#000000\" fill-rule=\"evenodd\" fill-opacity=\"1\" /><path clip-path=\"url(#clip030)\" d=\"M44.7161 394.862 L47.5806 394.862 L47.5806 421.789 Q53.6281 421.407 56.8109 418.161 Q59.9619 414.882 59.9619 409.058 Q59.9619 405.684 59.1344 402.533 Q58.3069 399.35 56.6518 396.231 L62.1899 396.231 Q63.5267 399.382 64.227 402.692 Q64.9272 406.002 64.9272 409.408 Q64.9272 417.938 59.9619 422.935 Q54.9967 427.9 46.5303 427.9 Q37.7774 427.9 32.6531 423.19 Q27.4968 418.447 27.4968 410.426 Q27.4968 403.233 32.1438 399.064 Q36.7589 394.862 44.7161 394.862 M42.9973 400.719 Q38.1912 400.782 35.3266 403.424 Q32.4621 406.034 32.4621 410.363 Q32.4621 415.264 35.2312 418.224 Q38.0002 421.153 43.0292 421.598 L42.9973 400.719 Z\" fill=\"#000000\" fill-rule=\"evenodd\" fill-opacity=\"1\" /><path clip-path=\"url(#clip030)\" d=\"M28.3562 385.25 L28.3562 379.394 L64.0042 379.394 L64.0042 385.25 L28.3562 385.25 M14.479 385.25 L14.479 379.394 L21.895 379.394 L21.895 385.25 L14.479 385.25 Z\" fill=\"#000000\" fill-rule=\"evenodd\" fill-opacity=\"1\" /><path clip-path=\"url(#clip030)\" d=\"M42.4881 337.507 L64.0042 337.507 L64.0042 343.364 L42.679 343.364 Q37.6183 343.364 35.1038 345.337 Q32.5894 347.31 32.5894 351.257 Q32.5894 356 35.6131 358.737 Q38.6368 361.474 43.8567 361.474 L64.0042 361.474 L64.0042 367.362 L28.3562 367.362 L28.3562 361.474 L33.8944 361.474 Q30.6797 359.373 29.0883 356.541 Q27.4968 353.676 27.4968 349.952 Q27.4968 343.809 31.3163 340.658 Q35.1038 337.507 42.4881 337.507 Z\" fill=\"#000000\" fill-rule=\"evenodd\" fill-opacity=\"1\" /><path clip-path=\"url(#clip030)\" d=\"M42.4881 275.473 L64.0042 275.473 L64.0042 281.33 L42.679 281.33 Q37.6183 281.33 35.1038 283.303 Q32.5894 285.277 32.5894 289.223 Q32.5894 293.966 35.6131 296.703 Q38.6368 299.44 43.8567 299.44 L64.0042 299.44 L64.0042 305.329 L28.3562 305.329 L28.3562 299.44 L33.8944 299.44 Q30.6797 297.34 29.0883 294.507 Q27.4968 291.642 27.4968 287.918 Q27.4968 281.775 31.3163 278.624 Q35.1038 275.473 42.4881 275.473 Z\" fill=\"#000000\" fill-rule=\"evenodd\" fill-opacity=\"1\" /><path clip-path=\"url(#clip030)\" d=\"M49.9359 264.397 L28.3562 264.397 L28.3562 258.541 L49.7131 258.541 Q54.7739 258.541 57.3202 256.567 Q59.8346 254.594 59.8346 250.647 Q59.8346 245.905 56.8109 243.167 Q53.7872 240.398 48.5673 240.398 L28.3562 240.398 L28.3562 234.542 L64.0042 234.542 L64.0042 240.398 L58.5296 240.398 Q61.7762 242.531 63.3676 245.364 Q64.9272 248.165 64.9272 251.888 Q64.9272 258.031 61.1078 261.214 Q57.2883 264.397 49.9359 264.397 M27.4968 249.66 L27.4968 249.66 Z\" fill=\"#000000\" fill-rule=\"evenodd\" fill-opacity=\"1\" /><path clip-path=\"url(#clip030)\" d=\"M35.1993 194.724 Q31.2526 192.528 29.3747 189.473 Q27.4968 186.417 27.4968 182.279 Q27.4968 176.709 31.4117 173.686 Q35.2948 170.662 42.4881 170.662 L64.0042 170.662 L64.0042 176.55 L42.679 176.55 Q37.5546 176.55 35.072 178.365 Q32.5894 180.179 32.5894 183.903 Q32.5894 188.454 35.6131 191.096 Q38.6368 193.738 43.8567 193.738 L64.0042 193.738 L64.0042 199.626 L42.679 199.626 Q37.5228 199.626 35.072 201.44 Q32.5894 203.254 32.5894 207.042 Q32.5894 211.53 35.6449 214.172 Q38.6686 216.813 43.8567 216.813 L64.0042 216.813 L64.0042 222.702 L28.3562 222.702 L28.3562 216.813 L33.8944 216.813 Q30.616 214.808 29.0564 212.007 Q27.4968 209.206 27.4968 205.355 Q27.4968 201.472 29.4702 198.767 Q31.4436 196.029 35.1993 194.724 Z\" fill=\"#000000\" fill-rule=\"evenodd\" fill-opacity=\"1\" /><path clip-path=\"url(#clip030)\" d=\"M46.212 133.391 Q39.7508 133.391 36.0905 136.064 Q32.3984 138.706 32.3984 143.353 Q32.3984 148 36.0905 150.674 Q39.7508 153.315 46.212 153.315 Q52.6732 153.315 56.3653 150.674 Q60.0256 148 60.0256 143.353 Q60.0256 138.706 56.3653 136.064 Q52.6732 133.391 46.212 133.391 M33.7671 153.315 Q30.5842 151.469 29.0564 148.669 Q27.4968 145.836 27.4968 141.921 Q27.4968 135.428 32.6531 131.386 Q37.8093 127.312 46.212 127.312 Q54.6147 127.312 59.771 131.386 Q64.9272 135.428 64.9272 141.921 Q64.9272 145.836 63.3994 148.669 Q61.8398 151.469 58.657 153.315 L64.0042 153.315 L64.0042 159.204 L14.479 159.204 L14.479 153.315 L33.7671 153.315 Z\" fill=\"#000000\" fill-rule=\"evenodd\" fill-opacity=\"1\" /><path clip-path=\"url(#clip030)\" d=\"M44.7161 87.1121 L47.5806 87.1121 L47.5806 114.039 Q53.6281 113.657 56.8109 110.411 Q59.9619 107.132 59.9619 101.308 Q59.9619 97.9338 59.1344 94.7828 Q58.3069 91.6 56.6518 88.4808 L62.1899 88.4808 Q63.5267 91.6318 64.227 94.942 Q64.9272 98.2521 64.9272 101.658 Q64.9272 110.188 59.9619 115.185 Q54.9967 120.15 46.5303 120.15 Q37.7774 120.15 32.6531 115.44 Q27.4968 110.697 27.4968 102.676 Q27.4968 95.483 32.1438 91.3135 Q36.7589 87.1121 44.7161 87.1121 M42.9973 92.9686 Q38.1912 93.0322 35.3266 95.674 Q32.4621 98.284 32.4621 102.613 Q32.4621 107.514 35.2312 110.474 Q38.0002 113.403 43.0292 113.848 L42.9973 92.9686 Z\" fill=\"#000000\" fill-rule=\"evenodd\" fill-opacity=\"1\" /><path clip-path=\"url(#clip030)\" d=\"M33.8307 56.8432 Q33.2578 57.8299 33.0032 59.0075 Q32.7167 60.1534 32.7167 61.5538 Q32.7167 66.5191 35.9632 69.1927 Q39.1779 71.8344 45.2253 71.8344 L64.0042 71.8344 L64.0042 77.7227 L28.3562 77.7227 L28.3562 71.8344 L33.8944 71.8344 Q30.6479 69.9884 29.0883 67.0283 Q27.4968 64.0683 27.4968 59.8351 Q27.4968 59.2303 27.5923 58.4983 Q27.656 57.7662 27.8151 56.875 L33.8307 56.8432 Z\" fill=\"#000000\" fill-rule=\"evenodd\" fill-opacity=\"1\" /><polyline clip-path=\"url(#clip032)\" style=\"stroke:#009af9; stroke-linecap:butt; stroke-linejoin:round; stroke-width:8; stroke-opacity:1; fill:none\" points=\"\n",
       "  275.716,1375.84 277.734,1147.27 279.753,701.225 281.771,104.144 283.79,85.9411 285.808,562.026 287.827,665.597 289.846,674.211 291.864,672.384 293.883,670.93 \n",
       "  295.901,670.278 297.92,670.006 299.938,669.907 301.957,669.868 303.975,669.849 305.994,669.85 308.013,669.842 310.031,669.844 312.05,669.845 314.068,669.84 \n",
       "  316.087,669.846 318.105,669.841 320.124,669.843 322.143,669.845 324.161,669.839 326.18,669.846 328.198,669.841 330.217,669.843 332.235,669.845 334.254,669.839 \n",
       "  336.272,669.846 338.291,669.841 340.31,669.843 342.328,669.845 344.347,669.839 346.365,669.846 348.384,669.842 350.402,669.842 352.421,669.845 354.44,669.839 \n",
       "  356.458,669.846 358.477,669.842 360.495,669.842 362.514,669.846 364.532,669.839 366.551,669.845 368.569,669.842 370.588,669.842 372.607,669.846 374.625,669.839 \n",
       "  376.644,669.845 378.662,669.843 380.681,669.841 382.699,669.846 384.718,669.839 386.737,669.845 388.755,669.843 390.774,669.841 392.792,669.846 394.811,669.839 \n",
       "  396.829,669.845 398.848,669.843 400.866,669.841 402.885,669.846 404.904,669.84 406.922,669.844 408.941,669.844 410.959,669.84 412.978,669.846 414.996,669.84 \n",
       "  417.015,669.844 419.034,669.844 421.052,669.84 423.071,669.846 425.089,669.84 427.108,669.844 429.126,669.844 431.145,669.84 433.163,669.846 435.182,669.84 \n",
       "  437.201,669.844 439.219,669.845 441.238,669.84 443.256,669.846 445.275,669.841 447.293,669.843 449.312,669.845 451.331,669.839 453.349,669.846 455.368,669.841 \n",
       "  457.386,669.843 459.405,669.845 461.423,669.839 463.442,669.846 465.46,669.842 467.479,669.842 469.498,669.845 471.516,669.839 473.535,669.846 475.553,669.842 \n",
       "  477.572,669.842 479.59,669.846 481.609,669.839 483.628,669.846 485.646,669.842 487.665,669.842 489.683,669.846 491.702,669.839 493.72,669.845 495.739,669.843 \n",
       "  497.757,669.841 499.776,669.846 501.795,669.839 503.813,669.845 505.832,669.843 507.85,669.841 509.869,669.846 511.887,669.839 513.906,669.845 515.925,669.843 \n",
       "  517.943,669.841 519.962,669.846 521.98,669.84 523.999,669.845 526.017,669.844 528.036,669.84 530.054,669.846 532.073,669.84 534.092,669.844 536.11,669.844 \n",
       "  538.129,669.84 540.147,669.846 542.166,669.84 544.184,669.844 546.203,669.844 548.222,669.84 550.24,669.846 552.259,669.84 554.277,669.844 556.296,669.845 \n",
       "  558.314,669.84 560.333,669.846 562.351,669.841 564.37,669.843 566.389,669.845 568.407,669.839 570.426,669.846 572.444,669.841 574.463,669.843 576.481,669.845 \n",
       "  578.5,669.839 580.519,669.846 582.537,669.841 584.556,669.843 586.574,669.845 588.593,669.839 590.611,669.846 592.63,669.842 594.648,669.842 596.667,669.846 \n",
       "  598.686,669.839 600.704,669.846 602.723,669.842 604.741,669.842 606.76,669.846 608.778,669.839 610.797,669.845 612.816,669.843 614.834,669.841 616.853,669.846 \n",
       "  618.871,669.839 620.89,669.845 622.908,669.843 624.927,669.841 626.945,669.846 628.964,669.839 630.983,669.845 633.001,669.843 635.02,669.841 637.038,669.846 \n",
       "  639.057,669.84 641.075,669.845 643.094,669.844 645.113,669.84 647.131,669.846 649.15,669.84 651.168,669.844 653.187,669.844 655.205,669.84 657.224,669.846 \n",
       "  659.242,669.84 661.261,669.844 663.28,669.844 665.298,669.84 667.317,669.846 669.335,669.84 671.354,669.844 673.372,669.845 675.391,669.84 677.41,669.846 \n",
       "  679.428,669.841 681.447,669.843 683.465,669.845 685.484,669.839 687.502,669.846 689.521,669.841 691.54,669.843 693.558,669.845 695.577,669.839 697.595,669.846 \n",
       "  699.614,669.841 701.632,669.843 703.651,669.845 705.669,669.839 707.688,669.846 709.707,669.842 711.725,669.842 713.744,669.846 715.762,669.839 717.781,669.846 \n",
       "  719.799,669.842 721.818,669.842 723.837,669.846 725.855,669.839 727.874,669.845 729.892,669.843 731.911,669.841 733.929,669.846 735.948,669.839 737.966,669.845 \n",
       "  739.985,669.843 742.004,669.841 744.022,669.846 746.041,669.839 748.059,669.845 750.078,669.843 752.096,669.841 754.115,669.846 756.134,669.839 758.152,669.845 \n",
       "  760.171,669.844 762.189,669.84 764.208,669.846 766.226,669.84 768.245,669.844 770.263,669.844 772.282,669.84 774.301,669.846 776.319,669.84 778.338,669.844 \n",
       "  780.356,669.844 782.375,669.84 784.393,669.846 786.412,669.84 788.431,669.844 790.449,669.845 792.468,669.84 794.486,669.846 796.505,669.841 798.523,669.843 \n",
       "  800.542,669.845 802.56,669.839 804.579,669.846 806.598,669.841 808.616,669.843 810.635,669.845 812.653,669.839 814.672,669.846 816.69,669.841 818.709,669.843 \n",
       "  820.728,669.845 822.746,669.839 824.765,669.846 826.783,669.842 828.802,669.842 830.82,669.846 832.839,669.839 834.857,669.846 836.876,669.842 838.895,669.842 \n",
       "  840.913,669.846 842.932,669.839 844.95,669.845 846.969,669.842 848.987,669.842 851.006,669.846 853.025,669.839 855.043,669.845 857.062,669.843 859.08,669.841 \n",
       "  861.099,669.846 863.117,669.839 865.136,669.845 867.154,669.843 869.173,669.841 871.192,669.846 873.21,669.839 875.229,669.845 877.247,669.844 879.266,669.84 \n",
       "  881.284,669.846 883.303,669.84 885.322,669.844 887.34,669.844 889.359,669.84 891.377,669.846 893.396,669.84 895.414,669.844 897.433,669.844 899.451,669.84 \n",
       "  901.47,669.846 903.489,669.84 905.507,669.844 907.526,669.845 909.544,669.84 911.563,669.846 913.581,669.841 915.6,669.843 917.619,669.845 919.637,669.839 \n",
       "  921.656,669.846 923.674,669.841 925.693,669.843 927.711,669.845 929.73,669.839 931.748,669.846 933.767,669.841 935.786,669.843 937.804,669.845 939.823,669.839 \n",
       "  941.841,669.846 943.86,669.842 945.878,669.842 947.897,669.846 949.916,669.839 951.934,669.846 953.953,669.842 955.971,669.842 957.99,669.846 960.008,669.839 \n",
       "  962.027,669.845 964.045,669.842 966.064,669.842 968.083,669.846 970.101,669.839 972.12,669.845 974.138,669.843 976.157,669.841 978.175,669.846 980.194,669.839 \n",
       "  982.213,669.845 984.231,669.843 986.25,669.841 988.268,669.846 990.287,669.839 992.305,669.845 994.324,669.844 996.342,669.841 998.361,669.846 1000.38,669.84 \n",
       "  1002.4,669.844 1004.42,669.844 1006.44,669.84 1008.45,669.846 1010.47,669.84 1012.49,669.844 1014.51,669.844 1016.53,669.84 1018.55,669.846 1020.57,669.84 \n",
       "  1022.58,669.844 1024.6,669.844 1026.62,669.84 1028.64,669.846 1030.66,669.841 1032.68,669.843 1034.7,669.845 1036.71,669.839 1038.73,669.846 1040.75,669.841 \n",
       "  1042.77,669.843 1044.79,669.845 1046.81,669.839 1048.83,669.846 1050.84,669.841 1052.86,669.843 1054.88,669.845 1056.9,669.839 1058.92,669.846 1060.94,669.842 \n",
       "  1062.96,669.842 1064.97,669.845 1066.99,669.839 1069.01,669.846 1071.03,669.842 1073.05,669.842 1075.07,669.846 1077.08,669.839 1079.1,669.845 1081.12,669.842 \n",
       "  1083.14,669.842 1085.16,669.846 1087.18,669.839 1089.2,669.845 1091.21,669.843 1093.23,669.841 1095.25,669.846 1097.27,669.839 1099.29,669.845 1101.31,669.843 \n",
       "  1103.33,669.841 1105.34,669.846 1107.36,669.839 1109.38,669.845 1111.4,669.843 1113.42,669.841 1115.44,669.846 1117.46,669.84 1119.47,669.844 1121.49,669.844 \n",
       "  1123.51,669.84 1125.53,669.846 1127.55,669.84 1129.57,669.844 1131.59,669.844 1133.6,669.84 1135.62,669.846 1137.64,669.84 1139.66,669.844 1141.68,669.844 \n",
       "  1143.7,669.84 1145.72,669.846 1147.73,669.841 1149.75,669.844 1151.77,669.845 1153.79,669.84 1155.81,669.846 1157.83,669.841 1159.85,669.843 1161.86,669.845 \n",
       "  1163.88,669.839 1165.9,669.846 1167.92,669.841 1169.94,669.843 1171.96,669.845 1173.98,669.839 1175.99,669.846 1178.01,669.842 1180.03,669.842 1182.05,669.845 \n",
       "  1184.07,669.839 1186.09,669.846 1188.11,669.842 1190.12,669.842 1192.14,669.846 1194.16,669.839 1196.18,669.846 1198.2,669.842 1200.22,669.842 1202.24,669.846 \n",
       "  1204.25,669.839 1206.27,669.845 1208.29,669.843 1210.31,669.841 1212.33,669.846 1214.35,669.839 1216.37,669.845 1218.38,669.843 1220.4,669.841 1222.42,669.846 \n",
       "  1224.44,669.839 1226.46,669.845 1228.48,669.843 1230.5,669.841 1232.51,669.846 1234.53,669.84 1236.55,669.845 1238.57,669.844 1240.59,669.84 1242.61,669.846 \n",
       "  1244.63,669.84 1246.64,669.844 1248.66,669.844 1250.68,669.84 1252.7,669.846 1254.72,669.84 1256.74,669.844 1258.76,669.844 1260.77,669.84 1262.79,669.846 \n",
       "  1264.81,669.84 1266.83,669.844 1268.85,669.845 1270.87,669.84 1272.89,669.846 1274.9,669.841 1276.92,669.843 1278.94,669.845 1280.96,669.839 1282.98,669.846 \n",
       "  1285,669.841 1287.02,669.843 1289.03,669.845 1291.05,669.839 1293.07,669.846 1295.09,669.842 1297.11,669.842 1299.13,669.845 1301.15,669.839 1303.16,669.846 \n",
       "  1305.18,669.842 1307.2,669.842 1309.22,669.846 1311.24,669.839 1313.26,669.846 1315.28,669.842 1317.29,669.842 1319.31,669.846 1321.33,669.839 1323.35,669.845 \n",
       "  1325.37,669.843 1327.39,669.841 1329.41,669.846 1331.42,669.839 1333.44,669.845 1335.46,669.843 1337.48,669.841 1339.5,669.846 1341.52,669.839 1343.54,669.845 \n",
       "  1345.55,669.843 1347.57,669.841 1349.59,669.846 1351.61,669.84 1353.63,669.845 1355.65,669.844 1357.67,669.84 1359.68,669.846 1361.7,669.84 1363.72,669.844 \n",
       "  1365.74,669.844 1367.76,669.84 1369.78,669.846 1371.8,669.84 1373.81,669.844 1375.83,669.844 1377.85,669.84 1379.87,669.846 1381.89,669.84 1383.91,669.844 \n",
       "  1385.93,669.845 1387.94,669.84 1389.96,669.846 1391.98,669.841 1394,669.843 1396.02,669.845 1398.04,669.839 1400.05,669.846 1402.07,669.841 1404.09,669.843 \n",
       "  1406.11,669.845 1408.13,669.839 1410.15,669.846 1412.17,669.841 1414.18,669.843 1416.2,669.845 1418.22,669.839 1420.24,669.846 1422.26,669.842 1424.28,669.842 \n",
       "  1426.3,669.846 1428.31,669.839 1430.33,669.846 1432.35,669.842 1434.37,669.842 1436.39,669.846 1438.41,669.839 1440.43,669.845 1442.44,669.843 1444.46,669.841 \n",
       "  1446.48,669.846 1448.5,669.839 1450.52,669.845 1452.54,669.843 1454.56,669.841 1456.57,669.846 1458.59,669.839 1460.61,669.845 1462.63,669.843 1464.65,669.841 \n",
       "  1466.67,669.846 1468.69,669.839 1470.7,669.845 1472.72,669.844 1474.74,669.84 1476.76,669.846 1478.78,669.84 1480.8,669.844 1482.82,669.844 1484.83,669.84 \n",
       "  1486.85,669.846 1488.87,669.84 1490.89,669.844 1492.91,669.844 1494.93,669.84 1496.95,669.846 1498.96,669.84 1500.98,669.844 1503,669.845 1505.02,669.84 \n",
       "  1507.04,669.846 1509.06,669.841 1511.08,669.843 1513.09,669.845 1515.11,669.839 1517.13,669.846 1519.15,669.841 1521.17,669.843 1523.19,669.845 1525.21,669.839 \n",
       "  1527.22,669.846 1529.24,669.841 1531.26,669.843 1533.28,669.845 1535.3,669.839 1537.32,669.846 1539.34,669.842 1541.35,669.842 1543.37,669.846 1545.39,669.839 \n",
       "  1547.41,669.846 1549.43,669.842 1551.45,669.842 1553.47,669.846 1555.48,669.839 1557.5,669.845 1559.52,669.842 1561.54,669.842 1563.56,669.846 1565.58,669.839 \n",
       "  1567.6,669.845 1569.61,669.843 1571.63,669.841 1573.65,669.846 1575.67,669.839 1577.69,669.845 1579.71,669.843 1581.73,669.841 1583.74,669.846 1585.76,669.839 \n",
       "  1587.78,669.845 1589.8,669.844 1591.82,669.84 1593.84,669.846 1595.86,669.84 1597.87,669.844 1599.89,669.844 1601.91,669.84 1603.93,669.846 1605.95,669.84 \n",
       "  1607.97,669.844 1609.99,669.844 1612,669.84 1614.02,669.846 1616.04,669.84 1618.06,669.844 1620.08,669.845 1622.1,669.84 1624.12,669.846 1626.13,669.841 \n",
       "  1628.15,669.843 1630.17,669.845 1632.19,669.839 1634.21,669.846 1636.23,669.841 1638.25,669.843 1640.26,669.845 1642.28,669.839 1644.3,669.846 1646.32,669.841 \n",
       "  1648.34,669.843 1650.36,669.845 1652.38,669.839 1654.39,669.846 1656.41,669.842 1658.43,669.842 1660.45,669.846 1662.47,669.839 1664.49,669.846 1666.51,669.842 \n",
       "  1668.52,669.842 1670.54,669.846 1672.56,669.839 1674.58,669.845 1676.6,669.842 1678.62,669.842 1680.64,669.846 1682.65,669.839 1684.67,669.845 1686.69,669.843 \n",
       "  1688.71,669.841 1690.73,669.846 1692.75,669.839 1694.77,669.845 1696.78,669.843 1698.8,669.841 1700.82,669.846 1702.84,669.839 1704.86,669.845 1706.88,669.844 \n",
       "  1708.9,669.841 1710.91,669.846 1712.93,669.84 1714.95,669.844 1716.97,669.844 1718.99,669.84 1721.01,669.846 1723.02,669.84 1725.04,669.844 1727.06,669.844 \n",
       "  1729.08,669.84 1731.1,669.846 1733.12,669.84 1735.14,669.844 1737.15,669.844 1739.17,669.84 1741.19,669.846 1743.21,669.841 1745.23,669.843 1747.25,669.845 \n",
       "  1749.27,669.839 1751.28,669.846 1753.3,669.841 1755.32,669.843 1757.34,669.845 1759.36,669.839 1761.38,669.846 1763.4,669.841 1765.41,669.843 1767.43,669.845 \n",
       "  1769.45,669.839 1771.47,669.846 1773.49,669.842 1775.51,669.842 1777.53,669.846 1779.54,669.839 1781.56,669.846 1783.58,669.842 1785.6,669.842 1787.62,669.846 \n",
       "  1789.64,669.839 1791.66,669.845 1793.67,669.842 1795.69,669.842 1797.71,669.846 1799.73,669.839 1801.75,669.845 1803.77,669.843 1805.79,669.841 1807.8,669.846 \n",
       "  1809.82,669.839 1811.84,669.845 1813.86,669.843 1815.88,669.841 1817.9,669.846 1819.92,669.839 1821.93,669.845 1823.95,669.843 1825.97,669.841 1827.99,669.846 \n",
       "  1830.01,669.84 1832.03,669.844 1834.05,669.844 1836.06,669.84 1838.08,669.846 1840.1,669.84 1842.12,669.844 1844.14,669.844 1846.16,669.84 1848.18,669.846 \n",
       "  1850.19,669.84 1852.21,669.844 1854.23,669.844 1856.25,669.84 1858.27,669.846 1860.29,669.841 1862.31,669.844 1864.32,669.845 1866.34,669.84 1868.36,669.846 \n",
       "  1870.38,669.841 1872.4,669.843 1874.42,669.845 1876.44,669.839 1878.45,669.846 1880.47,669.841 1882.49,669.843 1884.51,669.845 1886.53,669.839 1888.55,669.846 \n",
       "  1890.57,669.842 1892.58,669.842 1894.6,669.845 1896.62,669.839 1898.64,669.846 1900.66,669.842 1902.68,669.842 1904.7,669.846 1906.71,669.839 1908.73,669.846 \n",
       "  1910.75,669.842 1912.77,669.842 1914.79,669.846 1916.81,669.839 1918.83,669.845 1920.84,669.843 1922.86,669.841 1924.88,669.846 1926.9,669.839 1928.92,669.845 \n",
       "  1930.94,669.843 1932.96,669.841 1934.97,669.846 1936.99,669.839 1939.01,669.845 1941.03,669.843 1943.05,669.841 1945.07,669.846 1947.09,669.84 1949.1,669.845 \n",
       "  1951.12,669.844 1953.14,669.84 1955.16,669.846 1957.18,669.84 1959.2,669.844 1961.22,669.844 1963.23,669.84 1965.25,669.846 1967.27,669.84 1969.29,669.844 \n",
       "  1971.31,669.844 1973.33,669.84 1975.35,669.846 1977.36,669.84 1979.38,669.844 1981.4,669.845 1983.42,669.84 1985.44,669.846 1987.46,669.841 1989.48,669.843 \n",
       "  1991.49,669.845 1993.51,669.839 1995.53,669.846 1997.55,669.841 1999.57,669.843 2001.59,669.845 2003.61,669.839 2005.62,669.846 2007.64,669.842 2009.66,669.842 \n",
       "  2011.68,669.845 2013.7,669.839 2015.72,669.846 2017.74,669.842 2019.75,669.842 2021.77,669.846 2023.79,669.839 2025.81,669.846 2027.83,669.842 2029.85,669.842 \n",
       "  2031.87,669.846 2033.88,669.839 2035.9,669.845 2037.92,669.843 2039.94,669.841 2041.96,669.846 2043.98,669.839 2045.99,669.845 2048.01,669.843 2050.03,669.841 \n",
       "  2052.05,669.846 2054.07,669.839 2056.09,669.845 2058.11,669.843 2060.12,669.841 2062.14,669.846 2064.16,669.84 2066.18,669.845 2068.2,669.844 2070.22,669.84 \n",
       "  2072.24,669.846 2074.25,669.84 2076.27,669.844 2078.29,669.844 2080.31,669.84 2082.33,669.846 2084.35,669.84 2086.37,669.844 2088.38,669.844 2090.4,669.84 \n",
       "  2092.42,669.846 2094.44,669.84 2096.46,669.844 2098.48,669.845 2100.5,669.84 2102.51,669.846 2104.53,669.841 2106.55,669.843 2108.57,669.845 2110.59,669.839 \n",
       "  2112.61,669.846 2114.63,669.841 2116.64,669.843 2118.66,669.845 2120.68,669.839 2122.7,669.846 2124.72,669.841 2126.74,669.843 2128.76,669.845 2130.77,669.839 \n",
       "  2132.79,669.846 2134.81,669.842 2136.83,669.842 2138.85,669.846 2140.87,669.839 2142.89,669.846 2144.9,669.842 2146.92,669.842 2148.94,669.846 2150.96,669.839 \n",
       "  2152.98,669.845 2155,669.843 2157.02,669.841 2159.03,669.846 2161.05,669.839 2163.07,669.845 2165.09,669.843 2167.11,669.841 2169.13,669.846 2171.15,669.839 \n",
       "  2173.16,669.845 2175.18,669.843 2177.2,669.841 2179.22,669.846 2181.24,669.839 2183.26,669.845 2185.28,669.844 2187.29,669.84 2189.31,669.846 2191.33,669.84 \n",
       "  2193.35,669.844 2195.37,669.844 2197.39,669.84 2199.41,669.846 2201.42,669.84 2203.44,669.844 2205.46,669.844 2207.48,669.84 2209.5,669.846 2211.52,669.84 \n",
       "  2213.54,669.844 2215.55,669.845 2217.57,669.84 2219.59,669.846 2221.61,669.841 2223.63,669.843 2225.65,669.845 2227.67,669.839 2229.68,669.846 2231.7,669.841 \n",
       "  2233.72,669.843 2235.74,669.845 2237.76,669.839 2239.78,669.846 2241.8,669.841 2243.81,669.843 2245.83,669.845 2247.85,669.839 2249.87,669.846 2251.89,669.842 \n",
       "  2253.91,669.842 2255.93,669.846 2257.94,669.839 2259.96,669.846 2261.98,669.842 2264,669.842 2266.02,669.846 2268.04,669.839 2270.06,669.845 2272.07,669.843 \n",
       "  2274.09,669.842 2276.11,669.846 2278.13,669.839 2280.15,669.845 2282.17,669.843 2284.19,669.841 2286.2,669.846 2288.22,669.839 2290.24,669.845 2292.26,669.841 \n",
       "  \n",
       "  \"/>\n",
       "<path clip-path=\"url(#clip030)\" d=\"\n",
       "M1938.29 196.501 L2281.5 196.501 L2281.5 92.8206 L1938.29 92.8206  Z\n",
       "  \" fill=\"#ffffff\" fill-rule=\"evenodd\" fill-opacity=\"1\"/>\n",
       "<polyline clip-path=\"url(#clip030)\" style=\"stroke:#000000; stroke-linecap:butt; stroke-linejoin:round; stroke-width:4; stroke-opacity:1; fill:none\" points=\"\n",
       "  1938.29,196.501 2281.5,196.501 2281.5,92.8206 1938.29,92.8206 1938.29,196.501 \n",
       "  \"/>\n",
       "<polyline clip-path=\"url(#clip030)\" style=\"stroke:#009af9; stroke-linecap:butt; stroke-linejoin:round; stroke-width:4; stroke-opacity:1; fill:none\" points=\"\n",
       "  1962.29,144.661 2106.29,144.661 \n",
       "  \"/>\n",
       "<path clip-path=\"url(#clip030)\" d=\"M2158.16 130.043 L2158.16 134.973 Q2155.8 132.774 2153.11 131.686 Q2150.45 130.598 2147.44 130.598 Q2141.51 130.598 2138.37 134.232 Q2135.22 137.844 2135.22 144.695 Q2135.22 151.524 2138.37 155.158 Q2141.51 158.769 2147.44 158.769 Q2150.45 158.769 2153.11 157.681 Q2155.8 156.593 2158.16 154.394 L2158.16 159.279 Q2155.7 160.945 2152.95 161.779 Q2150.22 162.612 2147.16 162.612 Q2139.32 162.612 2134.8 157.82 Q2130.29 153.005 2130.29 144.695 Q2130.29 136.362 2134.8 131.57 Q2139.32 126.756 2147.16 126.756 Q2150.26 126.756 2153 127.589 Q2155.75 128.399 2158.16 130.043 Z\" fill=\"#000000\" fill-rule=\"evenodd\" fill-opacity=\"1\" /><path clip-path=\"url(#clip030)\" d=\"M2170.06 131.223 L2170.06 158.098 L2175.7 158.098 Q2182.86 158.098 2186.17 154.857 Q2189.5 151.617 2189.5 144.626 Q2189.5 137.681 2186.17 134.464 Q2182.86 131.223 2175.7 131.223 L2170.06 131.223 M2165.38 127.381 L2174.99 127.381 Q2185.03 127.381 2189.73 131.57 Q2194.43 135.737 2194.43 144.626 Q2194.43 153.561 2189.71 157.751 Q2184.99 161.941 2174.99 161.941 L2165.38 161.941 L2165.38 127.381 Z\" fill=\"#000000\" fill-rule=\"evenodd\" fill-opacity=\"1\" /><path clip-path=\"url(#clip030)\" d=\"M2201.88 127.381 L2208.85 127.381 L2217.67 150.899 L2226.54 127.381 L2233.5 127.381 L2233.5 161.941 L2228.94 161.941 L2228.94 131.594 L2220.03 155.297 L2215.33 155.297 L2206.42 131.594 L2206.42 161.941 L2201.88 161.941 L2201.88 127.381 Z\" fill=\"#000000\" fill-rule=\"evenodd\" fill-opacity=\"1\" /></svg>\n"
      ]
     },
     "execution_count": 13,
     "metadata": {},
     "output_type": "execute_result"
    }
   ],
   "source": [
    "std_CDM = sqrt.(sol_CDM[4,2:end] .- sol_CDM[2,2:end].^2)\n",
    "plot(sol_CDM.t[2:end], std_CDM, \n",
    "    label  = \"CDM\", \n",
    "    legend = true,\n",
    "    xlabel = \"Time [s]\",\n",
    "    ylabel = \"standard deviation of the protein number\",\n",
    "    lw=2,\n",
    "    legendfontsize=8,\n",
    "    xtickfontsize=10,\n",
    "    ytickfontsize=10,\n",
    "    dpi=100)"
   ]
  },
  {
   "cell_type": "markdown",
   "metadata": {},
   "source": [
    "### SSA"
   ]
  },
  {
   "cell_type": "code",
   "execution_count": 14,
   "metadata": {},
   "outputs": [
    {
     "name": "stdout",
     "output_type": "stream",
     "text": [
      " 80.306328 seconds (655.98 M allocations: 15.736 GiB, 22.35% gc time, 3.79% compilation time)\n"
     ]
    }
   ],
   "source": [
    "using DiffEqJump\n",
    "\n",
    "# parameters [c₁, c₂, c₃, c₄, c₅]\n",
    "p = [param[2] for param in pmap]\n",
    "\n",
    "# initial conditions [g, p]\n",
    "u₀ = [1, 0]\n",
    "\n",
    "# time interval to solve on\n",
    "tspan = (0., 1000.)\n",
    "\n",
    "# create a discrete problem to encode that our species are integer valued\n",
    "dprob = DiscreteProblem(rn, u₀, tspan, p)\n",
    "\n",
    "# create a JumpProblem and specify Gillespie's Direct Method as the solver:\n",
    "jprob = JumpProblem(rn, dprob, Direct(), save_positions=(false, false))\n",
    "# SET save_positions to (false, false) as otherwise time of each reaction occurence is saved\n",
    "\n",
    "dt = 1 # time resolution at which numerical solution is saved\n",
    "\n",
    "# solve and plot\n",
    "ensembleprob  = EnsembleProblem(jprob)\n",
    "@time sol_SSA = solve(ensembleprob, SSAStepper(), saveat=dt, trajectories=10000);"
   ]
  },
  {
   "cell_type": "markdown",
   "metadata": {},
   "source": [
    "Can compute all sample moments up to chosen order"
   ]
  },
  {
   "cell_type": "code",
   "execution_count": 19,
   "metadata": {},
   "outputs": [
    {
     "name": "stdout",
     "output_type": "stream",
     "text": [
      " 20.155519 seconds (23.29 M allocations: 1.421 GiB, 10.34% gc time, 20.77% compilation time)\n",
      " 11.515903 seconds (23.08 M allocations: 1.401 GiB, 3.71% gc time, 24.27% compilation time)\n"
     ]
    }
   ],
   "source": [
    "@time SSA_μ = get_raw_moments(sol_SSA, 2);\n",
    "@time SSA_M = get_central_moments(sol_SSA, 2);"
   ]
  },
  {
   "cell_type": "code",
   "execution_count": null,
   "metadata": {},
   "outputs": [],
   "source": [
    "plot(sol_CDM.t, [sol_CDM[1,:], SSA_μ[1,0]], \n",
    "    label  = [\"CDM\" \"SSA\"], \n",
    "    legend = true,\n",
    "    xlabel = \"Time [s]\",\n",
    "    ylabel = \"Mean gene number\",\n",
    "    lw=2,\n",
    "    legendfontsize=8,\n",
    "    xtickfontsize=10,\n",
    "    ytickfontsize=10,\n",
    "    dpi=100)"
   ]
  },
  {
   "cell_type": "code",
   "execution_count": null,
   "metadata": {
    "scrolled": false
   },
   "outputs": [],
   "source": [
    "plot(sol_CDM.t, [sol_CDM[2,:], SSA_μ[0,1]], \n",
    "    label  = [\"CDM\" \"SSA\"],\n",
    "    legend = :bottomright,\n",
    "    xlabel = \"Time [s]\",\n",
    "    ylabel = \"Mean protein number\",\n",
    "    lw=2,\n",
    "    legendfontsize=8,\n",
    "    xtickfontsize=10,\n",
    "    ytickfontsize=10,\n",
    "    dpi=100)"
   ]
  },
  {
   "cell_type": "code",
   "execution_count": null,
   "metadata": {},
   "outputs": [],
   "source": [
    "std_CDM = sqrt.(sol_CDM[4,2:end] .- sol_CDM[2,2:end].^2)\n",
    "std_p_SSA = sqrt.(SSA_M[0,2][2:end])\n",
    "plot(sol_CDM.t[2:end], [std_CDM, std_p_SSA], \n",
    "    label  = [\"CDM\" \"SSA\"], \n",
    "    legend = true,\n",
    "    xlabel = \"Time [s]\",\n",
    "    ylabel = \"standard deviation of the protein number\",\n",
    "    lw=2,\n",
    "    legendfontsize=8,\n",
    "    xtickfontsize=10,\n",
    "    ytickfontsize=10,\n",
    "    dpi=100)"
   ]
  }
 ],
 "metadata": {
  "kernelspec": {
   "display_name": "Julia (4 threads) 1.7.2",
   "language": "julia",
   "name": "julia-(4-threads)-1.7"
  },
  "language_info": {
   "file_extension": ".jl",
   "mimetype": "application/julia",
   "name": "julia",
   "version": "1.7.2"
  }
 },
 "nbformat": 4,
 "nbformat_minor": 5
}
